{
    "cells": [
        {
            "cell_type": "markdown",
            "metadata": {},
            "source": [
                "# Demo for using the code base"
            ]
        },
        {
            "cell_type": "markdown",
            "metadata": {},
            "source": [
                "## We load the different packages"
            ]
        },
        {
            "cell_type": "code",
            "execution_count": 1,
            "metadata": {},
            "outputs": [],
            "source": [
                "import pandas as pd\n",
                "import datetime as dt\n",
                "import numpy\n",
                "import py_vollib_vectorized\n",
                "\n",
                "from py_vollib.black_scholes.implied_volatility import implied_volatility\n",
                "from py_vollib.black_scholes.greeks.analytical import delta\n"
            ]
        },
        {
            "cell_type": "code",
            "execution_count": 2,
            "metadata": {},
            "outputs": [
                {
                    "name": "stdout",
                    "output_type": "stream",
                    "text": [
                        "/Users/marcfiani/Documents/projects/active/crypto_option_dashboard\n"
                    ]
                }
            ],
            "source": [
                "# importing functions from the code base\n",
                "base_path = os.path.abspath(os.path.join('..'))\n",
                "print(base_path)\n",
                "if base_path not in sys.path:\n",
                "    sys.path.append(base_path)\n",
                "\n",
                "import src.api as api\n"
            ]
        },
        {
            "cell_type": "markdown",
            "metadata": {},
            "source": [
                "## Getting the instruments"
            ]
        },
        {
            "cell_type": "markdown",
            "metadata": {},
            "source": [
                "The following function allow us to get the instruments available in Deribit"
            ]
        },
        {
            "cell_type": "code",
            "execution_count": 9,
            "metadata": {},
            "outputs": [
                {
                    "data": {
                        "text/html": [
                            "<div>\n",
                            "<style scoped>\n",
                            "    .dataframe tbody tr th:only-of-type {\n",
                            "        vertical-align: middle;\n",
                            "    }\n",
                            "\n",
                            "    .dataframe tbody tr th {\n",
                            "        vertical-align: top;\n",
                            "    }\n",
                            "\n",
                            "    .dataframe thead th {\n",
                            "        text-align: right;\n",
                            "    }\n",
                            "</style>\n",
                            "<table border=\"1\" class=\"dataframe\">\n",
                            "  <thead>\n",
                            "    <tr style=\"text-align: right;\">\n",
                            "      <th></th>\n",
                            "      <th>tick_size</th>\n",
                            "      <th>taker_commission</th>\n",
                            "      <th>strike</th>\n",
                            "      <th>settlement_period</th>\n",
                            "      <th>rfq</th>\n",
                            "      <th>quote_currency</th>\n",
                            "      <th>option_type</th>\n",
                            "      <th>min_trade_amount</th>\n",
                            "      <th>maker_commission</th>\n",
                            "      <th>kind</th>\n",
                            "      <th>is_active</th>\n",
                            "      <th>instrument_name</th>\n",
                            "      <th>expiration_timestamp</th>\n",
                            "      <th>creation_timestamp</th>\n",
                            "      <th>contract_size</th>\n",
                            "      <th>block_trade_commission</th>\n",
                            "      <th>base_currency</th>\n",
                            "      <th>creation_time</th>\n",
                            "      <th>expiration_time</th>\n",
                            "    </tr>\n",
                            "  </thead>\n",
                            "  <tbody>\n",
                            "    <tr>\n",
                            "      <th>0</th>\n",
                            "      <td>0.0005</td>\n",
                            "      <td>0.0003</td>\n",
                            "      <td>55000.0</td>\n",
                            "      <td>month</td>\n",
                            "      <td>False</td>\n",
                            "      <td>BTC</td>\n",
                            "      <td>call</td>\n",
                            "      <td>0.1</td>\n",
                            "      <td>0.0003</td>\n",
                            "      <td>option</td>\n",
                            "      <td>True</td>\n",
                            "      <td>BTC-24JUN22-55000-C</td>\n",
                            "      <td>1656057600000</td>\n",
                            "      <td>1629483660000</td>\n",
                            "      <td>1.0</td>\n",
                            "      <td>0.00015</td>\n",
                            "      <td>BTC</td>\n",
                            "      <td>2021-08-20 13:21:00</td>\n",
                            "      <td>2022-06-24 03:00:00</td>\n",
                            "    </tr>\n",
                            "    <tr>\n",
                            "      <th>1</th>\n",
                            "      <td>0.0005</td>\n",
                            "      <td>0.0003</td>\n",
                            "      <td>33000.0</td>\n",
                            "      <td>day</td>\n",
                            "      <td>False</td>\n",
                            "      <td>BTC</td>\n",
                            "      <td>call</td>\n",
                            "      <td>0.1</td>\n",
                            "      <td>0.0003</td>\n",
                            "      <td>option</td>\n",
                            "      <td>True</td>\n",
                            "      <td>BTC-25JAN22-33000-C</td>\n",
                            "      <td>1643097600000</td>\n",
                            "      <td>1642924860000</td>\n",
                            "      <td>1.0</td>\n",
                            "      <td>0.00015</td>\n",
                            "      <td>BTC</td>\n",
                            "      <td>2022-01-23 03:01:00</td>\n",
                            "      <td>2022-01-25 03:00:00</td>\n",
                            "    </tr>\n",
                            "    <tr>\n",
                            "      <th>2</th>\n",
                            "      <td>0.0005</td>\n",
                            "      <td>0.0003</td>\n",
                            "      <td>30000.0</td>\n",
                            "      <td>month</td>\n",
                            "      <td>False</td>\n",
                            "      <td>BTC</td>\n",
                            "      <td>call</td>\n",
                            "      <td>0.1</td>\n",
                            "      <td>0.0003</td>\n",
                            "      <td>option</td>\n",
                            "      <td>True</td>\n",
                            "      <td>BTC-24JUN22-30000-C</td>\n",
                            "      <td>1656057600000</td>\n",
                            "      <td>1627994072000</td>\n",
                            "      <td>1.0</td>\n",
                            "      <td>0.00015</td>\n",
                            "      <td>BTC</td>\n",
                            "      <td>2021-08-03 07:34:32</td>\n",
                            "      <td>2022-06-24 03:00:00</td>\n",
                            "    </tr>\n",
                            "    <tr>\n",
                            "      <th>3</th>\n",
                            "      <td>0.0005</td>\n",
                            "      <td>0.0003</td>\n",
                            "      <td>55000.0</td>\n",
                            "      <td>month</td>\n",
                            "      <td>False</td>\n",
                            "      <td>BTC</td>\n",
                            "      <td>call</td>\n",
                            "      <td>0.1</td>\n",
                            "      <td>0.0003</td>\n",
                            "      <td>option</td>\n",
                            "      <td>True</td>\n",
                            "      <td>BTC-28JAN22-55000-C</td>\n",
                            "      <td>1643356800000</td>\n",
                            "      <td>1635292800000</td>\n",
                            "      <td>1.0</td>\n",
                            "      <td>0.00015</td>\n",
                            "      <td>BTC</td>\n",
                            "      <td>2021-10-26 19:00:00</td>\n",
                            "      <td>2022-01-28 03:00:00</td>\n",
                            "    </tr>\n",
                            "    <tr>\n",
                            "      <th>4</th>\n",
                            "      <td>0.0005</td>\n",
                            "      <td>0.0003</td>\n",
                            "      <td>45000.0</td>\n",
                            "      <td>month</td>\n",
                            "      <td>False</td>\n",
                            "      <td>BTC</td>\n",
                            "      <td>put</td>\n",
                            "      <td>0.1</td>\n",
                            "      <td>0.0003</td>\n",
                            "      <td>option</td>\n",
                            "      <td>True</td>\n",
                            "      <td>BTC-25MAR22-45000-P</td>\n",
                            "      <td>1648195200000</td>\n",
                            "      <td>1628197380000</td>\n",
                            "      <td>1.0</td>\n",
                            "      <td>0.00015</td>\n",
                            "      <td>BTC</td>\n",
                            "      <td>2021-08-05 16:03:00</td>\n",
                            "      <td>2022-03-25 03:00:00</td>\n",
                            "    </tr>\n",
                            "  </tbody>\n",
                            "</table>\n",
                            "</div>"
                        ],
                        "text/plain": [
                            "   tick_size  taker_commission   strike settlement_period    rfq  \\\n",
                            "0     0.0005            0.0003  55000.0             month  False   \n",
                            "1     0.0005            0.0003  33000.0               day  False   \n",
                            "2     0.0005            0.0003  30000.0             month  False   \n",
                            "3     0.0005            0.0003  55000.0             month  False   \n",
                            "4     0.0005            0.0003  45000.0             month  False   \n",
                            "\n",
                            "  quote_currency option_type  min_trade_amount  maker_commission    kind  \\\n",
                            "0            BTC        call               0.1            0.0003  option   \n",
                            "1            BTC        call               0.1            0.0003  option   \n",
                            "2            BTC        call               0.1            0.0003  option   \n",
                            "3            BTC        call               0.1            0.0003  option   \n",
                            "4            BTC         put               0.1            0.0003  option   \n",
                            "\n",
                            "   is_active      instrument_name  expiration_timestamp  creation_timestamp  \\\n",
                            "0       True  BTC-24JUN22-55000-C         1656057600000       1629483660000   \n",
                            "1       True  BTC-25JAN22-33000-C         1643097600000       1642924860000   \n",
                            "2       True  BTC-24JUN22-30000-C         1656057600000       1627994072000   \n",
                            "3       True  BTC-28JAN22-55000-C         1643356800000       1635292800000   \n",
                            "4       True  BTC-25MAR22-45000-P         1648195200000       1628197380000   \n",
                            "\n",
                            "   contract_size  block_trade_commission base_currency       creation_time  \\\n",
                            "0            1.0                 0.00015           BTC 2021-08-20 13:21:00   \n",
                            "1            1.0                 0.00015           BTC 2022-01-23 03:01:00   \n",
                            "2            1.0                 0.00015           BTC 2021-08-03 07:34:32   \n",
                            "3            1.0                 0.00015           BTC 2021-10-26 19:00:00   \n",
                            "4            1.0                 0.00015           BTC 2021-08-05 16:03:00   \n",
                            "\n",
                            "      expiration_time  \n",
                            "0 2022-06-24 03:00:00  \n",
                            "1 2022-01-25 03:00:00  \n",
                            "2 2022-06-24 03:00:00  \n",
                            "3 2022-01-28 03:00:00  \n",
                            "4 2022-03-25 03:00:00  "
                        ]
                    },
                    "execution_count": 9,
                    "metadata": {},
                    "output_type": "execute_result"
                }
            ],
            "source": [
                "import nest_asyncio\n",
                "nest_asyncio.apply()\n",
                "instruments = api.get_instruments(\"BTC\", kind=\"option\", expired=False)\n",
                "instruments.head()"
            ]
        },
        {
            "cell_type": "code",
            "execution_count": 4,
            "metadata": {},
            "outputs": [
                {
                    "ename": "FileNotFoundError",
                    "evalue": "[Errno 2] No such file or directory: '../files/BTC-15OCT21-50000-P.csv'",
                    "output_type": "error",
                    "traceback": [
                        "\u001b[0;31m---------------------------------------------------------------------------\u001b[0m",
                        "\u001b[0;31mFileNotFoundError\u001b[0m                         Traceback (most recent call last)",
                        "Input \u001b[0;32mIn [4]\u001b[0m, in \u001b[0;36m<module>\u001b[0;34m\u001b[0m\n\u001b[0;32m----> 1\u001b[0m option\u001b[38;5;241m=\u001b[39m\u001b[43mpd\u001b[49m\u001b[38;5;241;43m.\u001b[39;49m\u001b[43mread_csv\u001b[49m\u001b[43m(\u001b[49m\u001b[38;5;124;43m\"\u001b[39;49m\u001b[38;5;124;43m../files/BTC-15OCT21-50000-P.csv\u001b[39;49m\u001b[38;5;124;43m\"\u001b[39;49m\u001b[43m)\u001b[49m\n\u001b[1;32m      2\u001b[0m spot\u001b[38;5;241m=\u001b[39mpd\u001b[38;5;241m.\u001b[39mread_csv(\u001b[38;5;124m\"\u001b[39m\u001b[38;5;124m../files/BTC-PERPETUAL.csv\u001b[39m\u001b[38;5;124m\"\u001b[39m)\n",
                        "File \u001b[0;32m~/Documents/projects/active/crypto_option_dashboard/venv/lib/python3.9/site-packages/pandas/util/_decorators.py:311\u001b[0m, in \u001b[0;36mdeprecate_nonkeyword_arguments.<locals>.decorate.<locals>.wrapper\u001b[0;34m(*args, **kwargs)\u001b[0m\n\u001b[1;32m    305\u001b[0m \u001b[38;5;28;01mif\u001b[39;00m \u001b[38;5;28mlen\u001b[39m(args) \u001b[38;5;241m>\u001b[39m num_allow_args:\n\u001b[1;32m    306\u001b[0m     warnings\u001b[38;5;241m.\u001b[39mwarn(\n\u001b[1;32m    307\u001b[0m         msg\u001b[38;5;241m.\u001b[39mformat(arguments\u001b[38;5;241m=\u001b[39marguments),\n\u001b[1;32m    308\u001b[0m         \u001b[38;5;167;01mFutureWarning\u001b[39;00m,\n\u001b[1;32m    309\u001b[0m         stacklevel\u001b[38;5;241m=\u001b[39mstacklevel,\n\u001b[1;32m    310\u001b[0m     )\n\u001b[0;32m--> 311\u001b[0m \u001b[38;5;28;01mreturn\u001b[39;00m \u001b[43mfunc\u001b[49m\u001b[43m(\u001b[49m\u001b[38;5;241;43m*\u001b[39;49m\u001b[43margs\u001b[49m\u001b[43m,\u001b[49m\u001b[43m \u001b[49m\u001b[38;5;241;43m*\u001b[39;49m\u001b[38;5;241;43m*\u001b[39;49m\u001b[43mkwargs\u001b[49m\u001b[43m)\u001b[49m\n",
                        "File \u001b[0;32m~/Documents/projects/active/crypto_option_dashboard/venv/lib/python3.9/site-packages/pandas/io/parsers/readers.py:680\u001b[0m, in \u001b[0;36mread_csv\u001b[0;34m(filepath_or_buffer, sep, delimiter, header, names, index_col, usecols, squeeze, prefix, mangle_dupe_cols, dtype, engine, converters, true_values, false_values, skipinitialspace, skiprows, skipfooter, nrows, na_values, keep_default_na, na_filter, verbose, skip_blank_lines, parse_dates, infer_datetime_format, keep_date_col, date_parser, dayfirst, cache_dates, iterator, chunksize, compression, thousands, decimal, lineterminator, quotechar, quoting, doublequote, escapechar, comment, encoding, encoding_errors, dialect, error_bad_lines, warn_bad_lines, on_bad_lines, delim_whitespace, low_memory, memory_map, float_precision, storage_options)\u001b[0m\n\u001b[1;32m    665\u001b[0m kwds_defaults \u001b[38;5;241m=\u001b[39m _refine_defaults_read(\n\u001b[1;32m    666\u001b[0m     dialect,\n\u001b[1;32m    667\u001b[0m     delimiter,\n\u001b[0;32m   (...)\u001b[0m\n\u001b[1;32m    676\u001b[0m     defaults\u001b[38;5;241m=\u001b[39m{\u001b[38;5;124m\"\u001b[39m\u001b[38;5;124mdelimiter\u001b[39m\u001b[38;5;124m\"\u001b[39m: \u001b[38;5;124m\"\u001b[39m\u001b[38;5;124m,\u001b[39m\u001b[38;5;124m\"\u001b[39m},\n\u001b[1;32m    677\u001b[0m )\n\u001b[1;32m    678\u001b[0m kwds\u001b[38;5;241m.\u001b[39mupdate(kwds_defaults)\n\u001b[0;32m--> 680\u001b[0m \u001b[38;5;28;01mreturn\u001b[39;00m \u001b[43m_read\u001b[49m\u001b[43m(\u001b[49m\u001b[43mfilepath_or_buffer\u001b[49m\u001b[43m,\u001b[49m\u001b[43m \u001b[49m\u001b[43mkwds\u001b[49m\u001b[43m)\u001b[49m\n",
                        "File \u001b[0;32m~/Documents/projects/active/crypto_option_dashboard/venv/lib/python3.9/site-packages/pandas/io/parsers/readers.py:575\u001b[0m, in \u001b[0;36m_read\u001b[0;34m(filepath_or_buffer, kwds)\u001b[0m\n\u001b[1;32m    572\u001b[0m _validate_names(kwds\u001b[38;5;241m.\u001b[39mget(\u001b[38;5;124m\"\u001b[39m\u001b[38;5;124mnames\u001b[39m\u001b[38;5;124m\"\u001b[39m, \u001b[38;5;28;01mNone\u001b[39;00m))\n\u001b[1;32m    574\u001b[0m \u001b[38;5;66;03m# Create the parser.\u001b[39;00m\n\u001b[0;32m--> 575\u001b[0m parser \u001b[38;5;241m=\u001b[39m \u001b[43mTextFileReader\u001b[49m\u001b[43m(\u001b[49m\u001b[43mfilepath_or_buffer\u001b[49m\u001b[43m,\u001b[49m\u001b[43m \u001b[49m\u001b[38;5;241;43m*\u001b[39;49m\u001b[38;5;241;43m*\u001b[39;49m\u001b[43mkwds\u001b[49m\u001b[43m)\u001b[49m\n\u001b[1;32m    577\u001b[0m \u001b[38;5;28;01mif\u001b[39;00m chunksize \u001b[38;5;129;01mor\u001b[39;00m iterator:\n\u001b[1;32m    578\u001b[0m     \u001b[38;5;28;01mreturn\u001b[39;00m parser\n",
                        "File \u001b[0;32m~/Documents/projects/active/crypto_option_dashboard/venv/lib/python3.9/site-packages/pandas/io/parsers/readers.py:933\u001b[0m, in \u001b[0;36mTextFileReader.__init__\u001b[0;34m(self, f, engine, **kwds)\u001b[0m\n\u001b[1;32m    930\u001b[0m     \u001b[38;5;28mself\u001b[39m\u001b[38;5;241m.\u001b[39moptions[\u001b[38;5;124m\"\u001b[39m\u001b[38;5;124mhas_index_names\u001b[39m\u001b[38;5;124m\"\u001b[39m] \u001b[38;5;241m=\u001b[39m kwds[\u001b[38;5;124m\"\u001b[39m\u001b[38;5;124mhas_index_names\u001b[39m\u001b[38;5;124m\"\u001b[39m]\n\u001b[1;32m    932\u001b[0m \u001b[38;5;28mself\u001b[39m\u001b[38;5;241m.\u001b[39mhandles: IOHandles \u001b[38;5;241m|\u001b[39m \u001b[38;5;28;01mNone\u001b[39;00m \u001b[38;5;241m=\u001b[39m \u001b[38;5;28;01mNone\u001b[39;00m\n\u001b[0;32m--> 933\u001b[0m \u001b[38;5;28mself\u001b[39m\u001b[38;5;241m.\u001b[39m_engine \u001b[38;5;241m=\u001b[39m \u001b[38;5;28;43mself\u001b[39;49m\u001b[38;5;241;43m.\u001b[39;49m\u001b[43m_make_engine\u001b[49m\u001b[43m(\u001b[49m\u001b[43mf\u001b[49m\u001b[43m,\u001b[49m\u001b[43m \u001b[49m\u001b[38;5;28;43mself\u001b[39;49m\u001b[38;5;241;43m.\u001b[39;49m\u001b[43mengine\u001b[49m\u001b[43m)\u001b[49m\n",
                        "File \u001b[0;32m~/Documents/projects/active/crypto_option_dashboard/venv/lib/python3.9/site-packages/pandas/io/parsers/readers.py:1217\u001b[0m, in \u001b[0;36mTextFileReader._make_engine\u001b[0;34m(self, f, engine)\u001b[0m\n\u001b[1;32m   1213\u001b[0m     mode \u001b[38;5;241m=\u001b[39m \u001b[38;5;124m\"\u001b[39m\u001b[38;5;124mrb\u001b[39m\u001b[38;5;124m\"\u001b[39m\n\u001b[1;32m   1214\u001b[0m \u001b[38;5;66;03m# error: No overload variant of \"get_handle\" matches argument types\u001b[39;00m\n\u001b[1;32m   1215\u001b[0m \u001b[38;5;66;03m# \"Union[str, PathLike[str], ReadCsvBuffer[bytes], ReadCsvBuffer[str]]\"\u001b[39;00m\n\u001b[1;32m   1216\u001b[0m \u001b[38;5;66;03m# , \"str\", \"bool\", \"Any\", \"Any\", \"Any\", \"Any\", \"Any\"\u001b[39;00m\n\u001b[0;32m-> 1217\u001b[0m \u001b[38;5;28mself\u001b[39m\u001b[38;5;241m.\u001b[39mhandles \u001b[38;5;241m=\u001b[39m \u001b[43mget_handle\u001b[49m\u001b[43m(\u001b[49m\u001b[43m  \u001b[49m\u001b[38;5;66;43;03m# type: ignore[call-overload]\u001b[39;49;00m\n\u001b[1;32m   1218\u001b[0m \u001b[43m    \u001b[49m\u001b[43mf\u001b[49m\u001b[43m,\u001b[49m\n\u001b[1;32m   1219\u001b[0m \u001b[43m    \u001b[49m\u001b[43mmode\u001b[49m\u001b[43m,\u001b[49m\n\u001b[1;32m   1220\u001b[0m \u001b[43m    \u001b[49m\u001b[43mencoding\u001b[49m\u001b[38;5;241;43m=\u001b[39;49m\u001b[38;5;28;43mself\u001b[39;49m\u001b[38;5;241;43m.\u001b[39;49m\u001b[43moptions\u001b[49m\u001b[38;5;241;43m.\u001b[39;49m\u001b[43mget\u001b[49m\u001b[43m(\u001b[49m\u001b[38;5;124;43m\"\u001b[39;49m\u001b[38;5;124;43mencoding\u001b[39;49m\u001b[38;5;124;43m\"\u001b[39;49m\u001b[43m,\u001b[49m\u001b[43m \u001b[49m\u001b[38;5;28;43;01mNone\u001b[39;49;00m\u001b[43m)\u001b[49m\u001b[43m,\u001b[49m\n\u001b[1;32m   1221\u001b[0m \u001b[43m    \u001b[49m\u001b[43mcompression\u001b[49m\u001b[38;5;241;43m=\u001b[39;49m\u001b[38;5;28;43mself\u001b[39;49m\u001b[38;5;241;43m.\u001b[39;49m\u001b[43moptions\u001b[49m\u001b[38;5;241;43m.\u001b[39;49m\u001b[43mget\u001b[49m\u001b[43m(\u001b[49m\u001b[38;5;124;43m\"\u001b[39;49m\u001b[38;5;124;43mcompression\u001b[39;49m\u001b[38;5;124;43m\"\u001b[39;49m\u001b[43m,\u001b[49m\u001b[43m \u001b[49m\u001b[38;5;28;43;01mNone\u001b[39;49;00m\u001b[43m)\u001b[49m\u001b[43m,\u001b[49m\n\u001b[1;32m   1222\u001b[0m \u001b[43m    \u001b[49m\u001b[43mmemory_map\u001b[49m\u001b[38;5;241;43m=\u001b[39;49m\u001b[38;5;28;43mself\u001b[39;49m\u001b[38;5;241;43m.\u001b[39;49m\u001b[43moptions\u001b[49m\u001b[38;5;241;43m.\u001b[39;49m\u001b[43mget\u001b[49m\u001b[43m(\u001b[49m\u001b[38;5;124;43m\"\u001b[39;49m\u001b[38;5;124;43mmemory_map\u001b[39;49m\u001b[38;5;124;43m\"\u001b[39;49m\u001b[43m,\u001b[49m\u001b[43m \u001b[49m\u001b[38;5;28;43;01mFalse\u001b[39;49;00m\u001b[43m)\u001b[49m\u001b[43m,\u001b[49m\n\u001b[1;32m   1223\u001b[0m \u001b[43m    \u001b[49m\u001b[43mis_text\u001b[49m\u001b[38;5;241;43m=\u001b[39;49m\u001b[43mis_text\u001b[49m\u001b[43m,\u001b[49m\n\u001b[1;32m   1224\u001b[0m \u001b[43m    \u001b[49m\u001b[43merrors\u001b[49m\u001b[38;5;241;43m=\u001b[39;49m\u001b[38;5;28;43mself\u001b[39;49m\u001b[38;5;241;43m.\u001b[39;49m\u001b[43moptions\u001b[49m\u001b[38;5;241;43m.\u001b[39;49m\u001b[43mget\u001b[49m\u001b[43m(\u001b[49m\u001b[38;5;124;43m\"\u001b[39;49m\u001b[38;5;124;43mencoding_errors\u001b[39;49m\u001b[38;5;124;43m\"\u001b[39;49m\u001b[43m,\u001b[49m\u001b[43m \u001b[49m\u001b[38;5;124;43m\"\u001b[39;49m\u001b[38;5;124;43mstrict\u001b[39;49m\u001b[38;5;124;43m\"\u001b[39;49m\u001b[43m)\u001b[49m\u001b[43m,\u001b[49m\n\u001b[1;32m   1225\u001b[0m \u001b[43m    \u001b[49m\u001b[43mstorage_options\u001b[49m\u001b[38;5;241;43m=\u001b[39;49m\u001b[38;5;28;43mself\u001b[39;49m\u001b[38;5;241;43m.\u001b[39;49m\u001b[43moptions\u001b[49m\u001b[38;5;241;43m.\u001b[39;49m\u001b[43mget\u001b[49m\u001b[43m(\u001b[49m\u001b[38;5;124;43m\"\u001b[39;49m\u001b[38;5;124;43mstorage_options\u001b[39;49m\u001b[38;5;124;43m\"\u001b[39;49m\u001b[43m,\u001b[49m\u001b[43m \u001b[49m\u001b[38;5;28;43;01mNone\u001b[39;49;00m\u001b[43m)\u001b[49m\u001b[43m,\u001b[49m\n\u001b[1;32m   1226\u001b[0m \u001b[43m\u001b[49m\u001b[43m)\u001b[49m\n\u001b[1;32m   1227\u001b[0m \u001b[38;5;28;01massert\u001b[39;00m \u001b[38;5;28mself\u001b[39m\u001b[38;5;241m.\u001b[39mhandles \u001b[38;5;129;01mis\u001b[39;00m \u001b[38;5;129;01mnot\u001b[39;00m \u001b[38;5;28;01mNone\u001b[39;00m\n\u001b[1;32m   1228\u001b[0m f \u001b[38;5;241m=\u001b[39m \u001b[38;5;28mself\u001b[39m\u001b[38;5;241m.\u001b[39mhandles\u001b[38;5;241m.\u001b[39mhandle\n",
                        "File \u001b[0;32m~/Documents/projects/active/crypto_option_dashboard/venv/lib/python3.9/site-packages/pandas/io/common.py:789\u001b[0m, in \u001b[0;36mget_handle\u001b[0;34m(path_or_buf, mode, encoding, compression, memory_map, is_text, errors, storage_options)\u001b[0m\n\u001b[1;32m    784\u001b[0m \u001b[38;5;28;01melif\u001b[39;00m \u001b[38;5;28misinstance\u001b[39m(handle, \u001b[38;5;28mstr\u001b[39m):\n\u001b[1;32m    785\u001b[0m     \u001b[38;5;66;03m# Check whether the filename is to be opened in binary mode.\u001b[39;00m\n\u001b[1;32m    786\u001b[0m     \u001b[38;5;66;03m# Binary mode does not support 'encoding' and 'newline'.\u001b[39;00m\n\u001b[1;32m    787\u001b[0m     \u001b[38;5;28;01mif\u001b[39;00m ioargs\u001b[38;5;241m.\u001b[39mencoding \u001b[38;5;129;01mand\u001b[39;00m \u001b[38;5;124m\"\u001b[39m\u001b[38;5;124mb\u001b[39m\u001b[38;5;124m\"\u001b[39m \u001b[38;5;129;01mnot\u001b[39;00m \u001b[38;5;129;01min\u001b[39;00m ioargs\u001b[38;5;241m.\u001b[39mmode:\n\u001b[1;32m    788\u001b[0m         \u001b[38;5;66;03m# Encoding\u001b[39;00m\n\u001b[0;32m--> 789\u001b[0m         handle \u001b[38;5;241m=\u001b[39m \u001b[38;5;28;43mopen\u001b[39;49m\u001b[43m(\u001b[49m\n\u001b[1;32m    790\u001b[0m \u001b[43m            \u001b[49m\u001b[43mhandle\u001b[49m\u001b[43m,\u001b[49m\n\u001b[1;32m    791\u001b[0m \u001b[43m            \u001b[49m\u001b[43mioargs\u001b[49m\u001b[38;5;241;43m.\u001b[39;49m\u001b[43mmode\u001b[49m\u001b[43m,\u001b[49m\n\u001b[1;32m    792\u001b[0m \u001b[43m            \u001b[49m\u001b[43mencoding\u001b[49m\u001b[38;5;241;43m=\u001b[39;49m\u001b[43mioargs\u001b[49m\u001b[38;5;241;43m.\u001b[39;49m\u001b[43mencoding\u001b[49m\u001b[43m,\u001b[49m\n\u001b[1;32m    793\u001b[0m \u001b[43m            \u001b[49m\u001b[43merrors\u001b[49m\u001b[38;5;241;43m=\u001b[39;49m\u001b[43merrors\u001b[49m\u001b[43m,\u001b[49m\n\u001b[1;32m    794\u001b[0m \u001b[43m            \u001b[49m\u001b[43mnewline\u001b[49m\u001b[38;5;241;43m=\u001b[39;49m\u001b[38;5;124;43m\"\u001b[39;49m\u001b[38;5;124;43m\"\u001b[39;49m\u001b[43m,\u001b[49m\n\u001b[1;32m    795\u001b[0m \u001b[43m        \u001b[49m\u001b[43m)\u001b[49m\n\u001b[1;32m    796\u001b[0m     \u001b[38;5;28;01melse\u001b[39;00m:\n\u001b[1;32m    797\u001b[0m         \u001b[38;5;66;03m# Binary mode\u001b[39;00m\n\u001b[1;32m    798\u001b[0m         handle \u001b[38;5;241m=\u001b[39m \u001b[38;5;28mopen\u001b[39m(handle, ioargs\u001b[38;5;241m.\u001b[39mmode)\n",
                        "\u001b[0;31mFileNotFoundError\u001b[0m: [Errno 2] No such file or directory: '../files/BTC-15OCT21-50000-P.csv'"
                    ]
                }
            ],
            "source": [
                "option=pd.read_csv(\"../files/BTC-15OCT21-50000-P.csv\")\n",
                "spot=pd.read_csv(\"../files/BTC-PERPETUAL.csv\")"
            ]
        },
        {
            "cell_type": "code",
            "execution_count": null,
            "metadata": {},
            "outputs": [
                {
                    "data": {
                        "text/html": [
                            "<div>\n",
                            "<style scoped>\n",
                            "    .dataframe tbody tr th:only-of-type {\n",
                            "        vertical-align: middle;\n",
                            "    }\n",
                            "\n",
                            "    .dataframe tbody tr th {\n",
                            "        vertical-align: top;\n",
                            "    }\n",
                            "\n",
                            "    .dataframe thead th {\n",
                            "        text-align: right;\n",
                            "    }\n",
                            "</style>\n",
                            "<table border=\"1\" class=\"dataframe\">\n",
                            "  <thead>\n",
                            "    <tr style=\"text-align: right;\">\n",
                            "      <th></th>\n",
                            "      <th>Unnamed: 0</th>\n",
                            "      <th>volume</th>\n",
                            "      <th>ticks</th>\n",
                            "      <th>status</th>\n",
                            "      <th>open</th>\n",
                            "      <th>low</th>\n",
                            "      <th>high</th>\n",
                            "      <th>cost</th>\n",
                            "      <th>close</th>\n",
                            "      <th>timestamp</th>\n",
                            "    </tr>\n",
                            "  </thead>\n",
                            "  <tbody>\n",
                            "    <tr>\n",
                            "      <th>0</th>\n",
                            "      <td>0</td>\n",
                            "      <td>3.0</td>\n",
                            "      <td>1633046400000</td>\n",
                            "      <td>ok</td>\n",
                            "      <td>0.159</td>\n",
                            "      <td>0.1590</td>\n",
                            "      <td>0.159</td>\n",
                            "      <td>0.4770</td>\n",
                            "      <td>0.1590</td>\n",
                            "      <td>2021-10-01 02:00:00</td>\n",
                            "    </tr>\n",
                            "    <tr>\n",
                            "      <th>1</th>\n",
                            "      <td>1</td>\n",
                            "      <td>0.0</td>\n",
                            "      <td>1633132800000</td>\n",
                            "      <td>ok</td>\n",
                            "      <td>0.159</td>\n",
                            "      <td>0.1590</td>\n",
                            "      <td>0.159</td>\n",
                            "      <td>0.0000</td>\n",
                            "      <td>0.1590</td>\n",
                            "      <td>2021-10-02 02:00:00</td>\n",
                            "    </tr>\n",
                            "    <tr>\n",
                            "      <th>2</th>\n",
                            "      <td>2</td>\n",
                            "      <td>0.0</td>\n",
                            "      <td>1633219200000</td>\n",
                            "      <td>ok</td>\n",
                            "      <td>0.159</td>\n",
                            "      <td>0.1590</td>\n",
                            "      <td>0.159</td>\n",
                            "      <td>0.0000</td>\n",
                            "      <td>0.1590</td>\n",
                            "      <td>2021-10-03 02:00:00</td>\n",
                            "    </tr>\n",
                            "    <tr>\n",
                            "      <th>3</th>\n",
                            "      <td>3</td>\n",
                            "      <td>6.7</td>\n",
                            "      <td>1633305600000</td>\n",
                            "      <td>ok</td>\n",
                            "      <td>0.094</td>\n",
                            "      <td>0.0625</td>\n",
                            "      <td>0.094</td>\n",
                            "      <td>0.4219</td>\n",
                            "      <td>0.0625</td>\n",
                            "      <td>2021-10-04 02:00:00</td>\n",
                            "    </tr>\n",
                            "    <tr>\n",
                            "      <th>4</th>\n",
                            "      <td>4</td>\n",
                            "      <td>37.2</td>\n",
                            "      <td>1633392000000</td>\n",
                            "      <td>ok</td>\n",
                            "      <td>0.057</td>\n",
                            "      <td>0.0345</td>\n",
                            "      <td>0.057</td>\n",
                            "      <td>1.7432</td>\n",
                            "      <td>0.0345</td>\n",
                            "      <td>2021-10-05 02:00:00</td>\n",
                            "    </tr>\n",
                            "  </tbody>\n",
                            "</table>\n",
                            "</div>"
                        ],
                        "text/plain": [
                            "   Unnamed: 0  volume          ticks status   open     low   high    cost  \\\n",
                            "0           0     3.0  1633046400000     ok  0.159  0.1590  0.159  0.4770   \n",
                            "1           1     0.0  1633132800000     ok  0.159  0.1590  0.159  0.0000   \n",
                            "2           2     0.0  1633219200000     ok  0.159  0.1590  0.159  0.0000   \n",
                            "3           3     6.7  1633305600000     ok  0.094  0.0625  0.094  0.4219   \n",
                            "4           4    37.2  1633392000000     ok  0.057  0.0345  0.057  1.7432   \n",
                            "\n",
                            "    close            timestamp  \n",
                            "0  0.1590  2021-10-01 02:00:00  \n",
                            "1  0.1590  2021-10-02 02:00:00  \n",
                            "2  0.1590  2021-10-03 02:00:00  \n",
                            "3  0.0625  2021-10-04 02:00:00  \n",
                            "4  0.0345  2021-10-05 02:00:00  "
                        ]
                    },
                    "execution_count": 6,
                    "metadata": {},
                    "output_type": "execute_result"
                }
            ],
            "source": [
                "option.head()"
            ]
        },
        {
            "cell_type": "code",
            "execution_count": null,
            "metadata": {},
            "outputs": [],
            "source": [
                "data=pd.merge(option,spot,how=\"left\",on=\"ticks\",suffixes=(\"_option\",\"_spot\"))"
            ]
        },
        {
            "cell_type": "code",
            "execution_count": null,
            "metadata": {},
            "outputs": [],
            "source": [
                "unwanted = data.columns[data.columns.str.startswith('Unnamed')]\n",
                "data.drop(unwanted, axis=1, inplace=True)\n",
                "data.drop([\"timestamp_option\",\"timestamp_spot\"],axis=1)\n",
                "data['timestamp']=data.ticks.apply(lambda x:dt.datetime.fromtimestamp(x/1000))\n"
            ]
        },
        {
            "cell_type": "code",
            "execution_count": null,
            "metadata": {},
            "outputs": [],
            "source": [
                "strike=50000 #from instrument name\n",
                "option_type=\"p\" # from instrument name or can be got from get_intrument function\n",
                "expiry=dt.datetime(2021,10,15)\n",
                "r=0.01 # ask nico about this\n",
                "qty = 1277\n",
                "mult=1\n",
                "is_delta_hedged=True"
            ]
        },
        {
            "cell_type": "code",
            "execution_count": null,
            "metadata": {},
            "outputs": [],
            "source": [
                "data[\"time_to_expiry\"]=data.timestamp.apply(lambda x:expiry-x)\n",
                "data[\"days_to_expiry\"]=data[\"time_to_expiry\"].apply(lambda x: x.days)"
            ]
        },
        {
            "cell_type": "code",
            "execution_count": null,
            "metadata": {},
            "outputs": [],
            "source": []
        },
        {
            "cell_type": "code",
            "execution_count": null,
            "metadata": {},
            "outputs": [
                {
                    "name": "stderr",
                    "output_type": "stream",
                    "text": [
                        "/Users/marcfiani/Documents/projects/active/python_backtester_nico/venv/lib/python3.9/site-packages/py_vollib_vectorized/implied_volatility.py:75: UserWarning: Found Below Intrinsic contracts at index [0, 1, 2, 3]\n",
                        "  below_intrinsic, above_max_price = _check_below_and_above_intrinsic(K, F, flag, undiscounted_option_price, on_error)\n"
                    ]
                }
            ],
            "source": [
                "data['ivol_mid']=implied_volatility(data['close_option'],data['close_spot'],\n",
                "    strike,data['days_to_expiry']/365,r,option_type,return_as=\"series\")"
            ]
        },
        {
            "cell_type": "code",
            "execution_count": null,
            "metadata": {},
            "outputs": [],
            "source": [
                "data['delta_mid'] = py_vollib_vectorized.greeks.delta(option_type, data['close_spot'], \n",
                "        strike,data['days_to_expiry']/365, r, data[ 'ivol_mid'])\n"
            ]
        },
        {
            "cell_type": "code",
            "execution_count": null,
            "metadata": {},
            "outputs": [],
            "source": [
                "data['daily_pnl_option']=data['close_option'].diff()*qty*mult\n",
                "data[\"daily_pnl_spot\"] = data['close_spot'].diff() * data['delta_mid'].shift()*qty*mult\n",
                "ts=data['daily_pnl_option']- data[\"daily_pnl_spot\"]*is_delta_hedged\n",
                "data['pnl']=ts.cumsum()"
            ]
        },
        {
            "cell_type": "code",
            "execution_count": null,
            "metadata": {},
            "outputs": [],
            "source": []
        }
    ],
    "metadata": {
        "interpreter": {
            "hash": "5837e5dafb424d45af8fe98987971bd7be9b57f37490d60dc5c42701fe6fbcee"
        },
        "kernelspec": {
            "display_name": "Python 3.9.1 64-bit ('venv': venv)",
            "name": "python3"
        },
        "language_info": {
            "codemirror_mode": {
                "name": "ipython",
                "version": 3
            },
            "file_extension": ".py",
            "mimetype": "text/x-python",
            "name": "python",
            "nbconvert_exporter": "python",
            "pygments_lexer": "ipython3",
            "version": "3.9.1"
        },
        "orig_nbformat": 4
    },
    "nbformat": 4,
    "nbformat_minor": 2
}
