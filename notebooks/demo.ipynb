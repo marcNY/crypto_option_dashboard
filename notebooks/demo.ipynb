{
    "cells": [
        {
            "cell_type": "markdown",
            "metadata": {},
            "source": [
                "# Demo for using the code base"
            ]
        },
        {
            "cell_type": "markdown",
            "metadata": {},
            "source": [
                "## We load the different packages"
            ]
        },
        {
            "cell_type": "code",
            "execution_count": 22,
            "metadata": {},
            "outputs": [],
            "source": [
                "import pandas as pd\n",
                "import datetime as dt\n",
                "import numpy\n",
                "import py_vollib_vectorized\n",
                "\n",
                "from py_vollib.black_scholes.implied_volatility import implied_volatility\n",
                "from py_vollib.black_scholes.greeks.analytical import delta\n",
                "\n",
                "%matplotlib inline "
            ]
        },
        {
            "cell_type": "code",
            "execution_count": 4,
            "metadata": {},
            "outputs": [
                {
                    "name": "stdout",
                    "output_type": "stream",
                    "text": [
                        "/Users/marcfiani/Documents/projects/active/crypto_option_dashboard\n"
                    ]
                }
            ],
            "source": [
                "# importing functions from the code base\n",
                "base_path = os.path.abspath(os.path.join('..'))\n",
                "print(base_path)\n",
                "if base_path not in sys.path:\n",
                "    sys.path.append(base_path)\n",
                "\n",
                "import src.api as api\n"
            ]
        },
        {
            "cell_type": "markdown",
            "metadata": {},
            "source": [
                "## Getting the instruments"
            ]
        },
        {
            "cell_type": "markdown",
            "metadata": {},
            "source": [
                "The following function allow us to get the instruments available in Deribit"
            ]
        },
        {
            "cell_type": "code",
            "execution_count": 5,
            "metadata": {},
            "outputs": [
                {
                    "data": {
                        "text/html": [
                            "<div>\n",
                            "<style scoped>\n",
                            "    .dataframe tbody tr th:only-of-type {\n",
                            "        vertical-align: middle;\n",
                            "    }\n",
                            "\n",
                            "    .dataframe tbody tr th {\n",
                            "        vertical-align: top;\n",
                            "    }\n",
                            "\n",
                            "    .dataframe thead th {\n",
                            "        text-align: right;\n",
                            "    }\n",
                            "</style>\n",
                            "<table border=\"1\" class=\"dataframe\">\n",
                            "  <thead>\n",
                            "    <tr style=\"text-align: right;\">\n",
                            "      <th></th>\n",
                            "      <th>tick_size</th>\n",
                            "      <th>taker_commission</th>\n",
                            "      <th>strike</th>\n",
                            "      <th>settlement_period</th>\n",
                            "      <th>rfq</th>\n",
                            "      <th>quote_currency</th>\n",
                            "      <th>option_type</th>\n",
                            "      <th>min_trade_amount</th>\n",
                            "      <th>maker_commission</th>\n",
                            "      <th>kind</th>\n",
                            "      <th>is_active</th>\n",
                            "      <th>instrument_name</th>\n",
                            "      <th>expiration_timestamp</th>\n",
                            "      <th>creation_timestamp</th>\n",
                            "      <th>contract_size</th>\n",
                            "      <th>block_trade_commission</th>\n",
                            "      <th>base_currency</th>\n",
                            "      <th>creation_time</th>\n",
                            "      <th>expiration_time</th>\n",
                            "    </tr>\n",
                            "  </thead>\n",
                            "  <tbody>\n",
                            "    <tr>\n",
                            "      <th>0</th>\n",
                            "      <td>0.0005</td>\n",
                            "      <td>0.0003</td>\n",
                            "      <td>55000.0</td>\n",
                            "      <td>month</td>\n",
                            "      <td>False</td>\n",
                            "      <td>BTC</td>\n",
                            "      <td>call</td>\n",
                            "      <td>0.1</td>\n",
                            "      <td>0.0003</td>\n",
                            "      <td>option</td>\n",
                            "      <td>True</td>\n",
                            "      <td>BTC-24JUN22-55000-C</td>\n",
                            "      <td>1656057600000</td>\n",
                            "      <td>1629483660000</td>\n",
                            "      <td>1.0</td>\n",
                            "      <td>0.00015</td>\n",
                            "      <td>BTC</td>\n",
                            "      <td>2021-08-20 13:21:00</td>\n",
                            "      <td>2022-06-24 03:00:00</td>\n",
                            "    </tr>\n",
                            "    <tr>\n",
                            "      <th>1</th>\n",
                            "      <td>0.0005</td>\n",
                            "      <td>0.0003</td>\n",
                            "      <td>38000.0</td>\n",
                            "      <td>day</td>\n",
                            "      <td>False</td>\n",
                            "      <td>BTC</td>\n",
                            "      <td>put</td>\n",
                            "      <td>0.1</td>\n",
                            "      <td>0.0003</td>\n",
                            "      <td>option</td>\n",
                            "      <td>True</td>\n",
                            "      <td>BTC-29JAN22-38000-P</td>\n",
                            "      <td>1643443200000</td>\n",
                            "      <td>1643270402000</td>\n",
                            "      <td>1.0</td>\n",
                            "      <td>0.00015</td>\n",
                            "      <td>BTC</td>\n",
                            "      <td>2022-01-27 03:00:02</td>\n",
                            "      <td>2022-01-29 03:00:00</td>\n",
                            "    </tr>\n",
                            "    <tr>\n",
                            "      <th>2</th>\n",
                            "      <td>0.0005</td>\n",
                            "      <td>0.0003</td>\n",
                            "      <td>30000.0</td>\n",
                            "      <td>month</td>\n",
                            "      <td>False</td>\n",
                            "      <td>BTC</td>\n",
                            "      <td>call</td>\n",
                            "      <td>0.1</td>\n",
                            "      <td>0.0003</td>\n",
                            "      <td>option</td>\n",
                            "      <td>True</td>\n",
                            "      <td>BTC-24JUN22-30000-C</td>\n",
                            "      <td>1656057600000</td>\n",
                            "      <td>1627994072000</td>\n",
                            "      <td>1.0</td>\n",
                            "      <td>0.00015</td>\n",
                            "      <td>BTC</td>\n",
                            "      <td>2021-08-03 07:34:32</td>\n",
                            "      <td>2022-06-24 03:00:00</td>\n",
                            "    </tr>\n",
                            "    <tr>\n",
                            "      <th>3</th>\n",
                            "      <td>0.0005</td>\n",
                            "      <td>0.0003</td>\n",
                            "      <td>55000.0</td>\n",
                            "      <td>month</td>\n",
                            "      <td>False</td>\n",
                            "      <td>BTC</td>\n",
                            "      <td>call</td>\n",
                            "      <td>0.1</td>\n",
                            "      <td>0.0003</td>\n",
                            "      <td>option</td>\n",
                            "      <td>True</td>\n",
                            "      <td>BTC-28JAN22-55000-C</td>\n",
                            "      <td>1643356800000</td>\n",
                            "      <td>1635292800000</td>\n",
                            "      <td>1.0</td>\n",
                            "      <td>0.00015</td>\n",
                            "      <td>BTC</td>\n",
                            "      <td>2021-10-26 19:00:00</td>\n",
                            "      <td>2022-01-28 03:00:00</td>\n",
                            "    </tr>\n",
                            "    <tr>\n",
                            "      <th>4</th>\n",
                            "      <td>0.0005</td>\n",
                            "      <td>0.0003</td>\n",
                            "      <td>45000.0</td>\n",
                            "      <td>month</td>\n",
                            "      <td>False</td>\n",
                            "      <td>BTC</td>\n",
                            "      <td>put</td>\n",
                            "      <td>0.1</td>\n",
                            "      <td>0.0003</td>\n",
                            "      <td>option</td>\n",
                            "      <td>True</td>\n",
                            "      <td>BTC-25MAR22-45000-P</td>\n",
                            "      <td>1648195200000</td>\n",
                            "      <td>1628197380000</td>\n",
                            "      <td>1.0</td>\n",
                            "      <td>0.00015</td>\n",
                            "      <td>BTC</td>\n",
                            "      <td>2021-08-05 16:03:00</td>\n",
                            "      <td>2022-03-25 03:00:00</td>\n",
                            "    </tr>\n",
                            "  </tbody>\n",
                            "</table>\n",
                            "</div>"
                        ],
                        "text/plain": [
                            "   tick_size  taker_commission   strike settlement_period    rfq  \\\n",
                            "0     0.0005            0.0003  55000.0             month  False   \n",
                            "1     0.0005            0.0003  38000.0               day  False   \n",
                            "2     0.0005            0.0003  30000.0             month  False   \n",
                            "3     0.0005            0.0003  55000.0             month  False   \n",
                            "4     0.0005            0.0003  45000.0             month  False   \n",
                            "\n",
                            "  quote_currency option_type  min_trade_amount  maker_commission    kind  \\\n",
                            "0            BTC        call               0.1            0.0003  option   \n",
                            "1            BTC         put               0.1            0.0003  option   \n",
                            "2            BTC        call               0.1            0.0003  option   \n",
                            "3            BTC        call               0.1            0.0003  option   \n",
                            "4            BTC         put               0.1            0.0003  option   \n",
                            "\n",
                            "   is_active      instrument_name  expiration_timestamp  creation_timestamp  \\\n",
                            "0       True  BTC-24JUN22-55000-C         1656057600000       1629483660000   \n",
                            "1       True  BTC-29JAN22-38000-P         1643443200000       1643270402000   \n",
                            "2       True  BTC-24JUN22-30000-C         1656057600000       1627994072000   \n",
                            "3       True  BTC-28JAN22-55000-C         1643356800000       1635292800000   \n",
                            "4       True  BTC-25MAR22-45000-P         1648195200000       1628197380000   \n",
                            "\n",
                            "   contract_size  block_trade_commission base_currency       creation_time  \\\n",
                            "0            1.0                 0.00015           BTC 2021-08-20 13:21:00   \n",
                            "1            1.0                 0.00015           BTC 2022-01-27 03:00:02   \n",
                            "2            1.0                 0.00015           BTC 2021-08-03 07:34:32   \n",
                            "3            1.0                 0.00015           BTC 2021-10-26 19:00:00   \n",
                            "4            1.0                 0.00015           BTC 2021-08-05 16:03:00   \n",
                            "\n",
                            "      expiration_time  \n",
                            "0 2022-06-24 03:00:00  \n",
                            "1 2022-01-29 03:00:00  \n",
                            "2 2022-06-24 03:00:00  \n",
                            "3 2022-01-28 03:00:00  \n",
                            "4 2022-03-25 03:00:00  "
                        ]
                    },
                    "execution_count": 5,
                    "metadata": {},
                    "output_type": "execute_result"
                }
            ],
            "source": [
                "import nest_asyncio\n",
                "nest_asyncio.apply()\n",
                "instruments = api.get_instruments(\"BTC\", kind=\"option\", expired=False)\n",
                "instruments.head()"
            ]
        },
        {
            "cell_type": "code",
            "execution_count": 6,
            "metadata": {},
            "outputs": [
                {
                    "name": "stdout",
                    "output_type": "stream",
                    "text": [
                        "['2022-06-24T03:00:00.000000000' '2022-01-29T03:00:00.000000000'\n",
                        " '2022-01-28T03:00:00.000000000' '2022-03-25T03:00:00.000000000'\n",
                        " '2022-02-04T03:00:00.000000000' '2022-09-30T03:00:00.000000000'\n",
                        " '2022-04-29T03:00:00.000000000' '2022-12-30T03:00:00.000000000'\n",
                        " '2022-02-11T03:00:00.000000000' '2022-02-18T03:00:00.000000000'\n",
                        " '2022-02-25T03:00:00.000000000']\n"
                    ]
                }
            ],
            "source": [
                "# get all settlements time\n",
                "print(instruments.expiration_time.unique())"
            ]
        },
        {
            "cell_type": "code",
            "execution_count": 7,
            "metadata": {},
            "outputs": [
                {
                    "data": {
                        "text/plain": [
                            "Timestamp('2022-01-28 03:00:00')"
                        ]
                    },
                    "execution_count": 7,
                    "metadata": {},
                    "output_type": "execute_result"
                }
            ],
            "source": [
                "instruments.expiration_time.min()"
            ]
        },
        {
            "cell_type": "code",
            "execution_count": 25,
            "metadata": {},
            "outputs": [
                {
                    "data": {
                        "text/plain": [
                            "<AxesSubplot:>"
                        ]
                    },
                    "execution_count": 25,
                    "metadata": {},
                    "output_type": "execute_result"
                },
                {
                    "data": {
                        "image/png": "[encoded data removed]",
                        "text/plain": [
                            "<Figure size 432x288 with 1 Axes>"
                        ]
                    },
                    "metadata": {
                        "needs_background": "light"
                    },
                    "output_type": "display_data"
                }
            ],
            "source": [
                "# get all options type for the closest settlement time\n",
                "date_of_interest = instruments.expiration_time.min()\n",
                "instruments[\"life_of_option\"]=instruments.expiration_time-instruments.creation_time\n",
                "instruments[\"life_of_option\"].dt.days.value_counts().head(10).sort_values().plot(kind = 'barh')\n",
                "#instruments.sort_values(by=[\"life_of_option\",\"expiration_time\"],ascending=[0,1]).head()"
            ]
        },
        {
            "cell_type": "code",
            "execution_count": 30,
            "metadata": {},
            "outputs": [
                {
                    "data": {
                        "text/html": [
                            "<div>\n",
                            "<style scoped>\n",
                            "    .dataframe tbody tr th:only-of-type {\n",
                            "        vertical-align: middle;\n",
                            "    }\n",
                            "\n",
                            "    .dataframe tbody tr th {\n",
                            "        vertical-align: top;\n",
                            "    }\n",
                            "\n",
                            "    .dataframe thead th {\n",
                            "        text-align: right;\n",
                            "    }\n",
                            "</style>\n",
                            "<table border=\"1\" class=\"dataframe\">\n",
                            "  <thead>\n",
                            "    <tr style=\"text-align: right;\">\n",
                            "      <th></th>\n",
                            "      <th>tick_size</th>\n",
                            "      <th>taker_commission</th>\n",
                            "      <th>strike</th>\n",
                            "      <th>settlement_period</th>\n",
                            "      <th>rfq</th>\n",
                            "      <th>quote_currency</th>\n",
                            "      <th>option_type</th>\n",
                            "      <th>min_trade_amount</th>\n",
                            "      <th>maker_commission</th>\n",
                            "      <th>kind</th>\n",
                            "      <th>is_active</th>\n",
                            "      <th>instrument_name</th>\n",
                            "      <th>expiration_timestamp</th>\n",
                            "      <th>creation_timestamp</th>\n",
                            "      <th>contract_size</th>\n",
                            "      <th>block_trade_commission</th>\n",
                            "      <th>base_currency</th>\n",
                            "      <th>creation_time</th>\n",
                            "      <th>expiration_time</th>\n",
                            "      <th>life_of_option</th>\n",
                            "    </tr>\n",
                            "  </thead>\n",
                            "  <tbody>\n",
                            "    <tr>\n",
                            "      <th>17</th>\n",
                            "      <td>0.0005</td>\n",
                            "      <td>0.0003</td>\n",
                            "      <td>60000.0</td>\n",
                            "      <td>week</td>\n",
                            "      <td>False</td>\n",
                            "      <td>BTC</td>\n",
                            "      <td>put</td>\n",
                            "      <td>0.1</td>\n",
                            "      <td>0.0003</td>\n",
                            "      <td>option</td>\n",
                            "      <td>True</td>\n",
                            "      <td>BTC-4FEB22-60000-P</td>\n",
                            "      <td>1643961600000</td>\n",
                            "      <td>1642084380000</td>\n",
                            "      <td>1.0</td>\n",
                            "      <td>0.00015</td>\n",
                            "      <td>BTC</td>\n",
                            "      <td>2022-01-13 09:33:00</td>\n",
                            "      <td>2022-02-04 03:00:00</td>\n",
                            "      <td>21 days 17:27:00</td>\n",
                            "    </tr>\n",
                            "    <tr>\n",
                            "      <th>20</th>\n",
                            "      <td>0.0005</td>\n",
                            "      <td>0.0003</td>\n",
                            "      <td>36000.0</td>\n",
                            "      <td>week</td>\n",
                            "      <td>False</td>\n",
                            "      <td>BTC</td>\n",
                            "      <td>put</td>\n",
                            "      <td>0.1</td>\n",
                            "      <td>0.0003</td>\n",
                            "      <td>option</td>\n",
                            "      <td>True</td>\n",
                            "      <td>BTC-18FEB22-36000-P</td>\n",
                            "      <td>1645171200000</td>\n",
                            "      <td>1643270402000</td>\n",
                            "      <td>1.0</td>\n",
                            "      <td>0.00015</td>\n",
                            "      <td>BTC</td>\n",
                            "      <td>2022-01-27 03:00:02</td>\n",
                            "      <td>2022-02-18 03:00:00</td>\n",
                            "      <td>21 days 23:59:58</td>\n",
                            "    </tr>\n",
                            "    <tr>\n",
                            "      <th>29</th>\n",
                            "      <td>0.0005</td>\n",
                            "      <td>0.0003</td>\n",
                            "      <td>60000.0</td>\n",
                            "      <td>week</td>\n",
                            "      <td>False</td>\n",
                            "      <td>BTC</td>\n",
                            "      <td>call</td>\n",
                            "      <td>0.1</td>\n",
                            "      <td>0.0003</td>\n",
                            "      <td>option</td>\n",
                            "      <td>True</td>\n",
                            "      <td>BTC-4FEB22-60000-C</td>\n",
                            "      <td>1643961600000</td>\n",
                            "      <td>1642084380000</td>\n",
                            "      <td>1.0</td>\n",
                            "      <td>0.00015</td>\n",
                            "      <td>BTC</td>\n",
                            "      <td>2022-01-13 09:33:00</td>\n",
                            "      <td>2022-02-04 03:00:00</td>\n",
                            "      <td>21 days 17:27:00</td>\n",
                            "    </tr>\n",
                            "    <tr>\n",
                            "      <th>31</th>\n",
                            "      <td>0.0005</td>\n",
                            "      <td>0.0003</td>\n",
                            "      <td>50000.0</td>\n",
                            "      <td>week</td>\n",
                            "      <td>False</td>\n",
                            "      <td>BTC</td>\n",
                            "      <td>call</td>\n",
                            "      <td>0.1</td>\n",
                            "      <td>0.0003</td>\n",
                            "      <td>option</td>\n",
                            "      <td>True</td>\n",
                            "      <td>BTC-18FEB22-50000-C</td>\n",
                            "      <td>1645171200000</td>\n",
                            "      <td>1643293140000</td>\n",
                            "      <td>1.0</td>\n",
                            "      <td>0.00015</td>\n",
                            "      <td>BTC</td>\n",
                            "      <td>2022-01-27 09:19:00</td>\n",
                            "      <td>2022-02-18 03:00:00</td>\n",
                            "      <td>21 days 17:41:00</td>\n",
                            "    </tr>\n",
                            "    <tr>\n",
                            "      <th>33</th>\n",
                            "      <td>0.0005</td>\n",
                            "      <td>0.0003</td>\n",
                            "      <td>36000.0</td>\n",
                            "      <td>week</td>\n",
                            "      <td>False</td>\n",
                            "      <td>BTC</td>\n",
                            "      <td>call</td>\n",
                            "      <td>0.1</td>\n",
                            "      <td>0.0003</td>\n",
                            "      <td>option</td>\n",
                            "      <td>True</td>\n",
                            "      <td>BTC-18FEB22-36000-C</td>\n",
                            "      <td>1645171200000</td>\n",
                            "      <td>1643270402000</td>\n",
                            "      <td>1.0</td>\n",
                            "      <td>0.00015</td>\n",
                            "      <td>BTC</td>\n",
                            "      <td>2022-01-27 03:00:02</td>\n",
                            "      <td>2022-02-18 03:00:00</td>\n",
                            "      <td>21 days 23:59:58</td>\n",
                            "    </tr>\n",
                            "  </tbody>\n",
                            "</table>\n",
                            "</div>"
                        ],
                        "text/plain": [
                            "    tick_size  taker_commission   strike settlement_period    rfq  \\\n",
                            "17     0.0005            0.0003  60000.0              week  False   \n",
                            "20     0.0005            0.0003  36000.0              week  False   \n",
                            "29     0.0005            0.0003  60000.0              week  False   \n",
                            "31     0.0005            0.0003  50000.0              week  False   \n",
                            "33     0.0005            0.0003  36000.0              week  False   \n",
                            "\n",
                            "   quote_currency option_type  min_trade_amount  maker_commission    kind  \\\n",
                            "17            BTC         put               0.1            0.0003  option   \n",
                            "20            BTC         put               0.1            0.0003  option   \n",
                            "29            BTC        call               0.1            0.0003  option   \n",
                            "31            BTC        call               0.1            0.0003  option   \n",
                            "33            BTC        call               0.1            0.0003  option   \n",
                            "\n",
                            "    is_active      instrument_name  expiration_timestamp  creation_timestamp  \\\n",
                            "17       True   BTC-4FEB22-60000-P         1643961600000       1642084380000   \n",
                            "20       True  BTC-18FEB22-36000-P         1645171200000       1643270402000   \n",
                            "29       True   BTC-4FEB22-60000-C         1643961600000       1642084380000   \n",
                            "31       True  BTC-18FEB22-50000-C         1645171200000       1643293140000   \n",
                            "33       True  BTC-18FEB22-36000-C         1645171200000       1643270402000   \n",
                            "\n",
                            "    contract_size  block_trade_commission base_currency       creation_time  \\\n",
                            "17            1.0                 0.00015           BTC 2022-01-13 09:33:00   \n",
                            "20            1.0                 0.00015           BTC 2022-01-27 03:00:02   \n",
                            "29            1.0                 0.00015           BTC 2022-01-13 09:33:00   \n",
                            "31            1.0                 0.00015           BTC 2022-01-27 09:19:00   \n",
                            "33            1.0                 0.00015           BTC 2022-01-27 03:00:02   \n",
                            "\n",
                            "       expiration_time   life_of_option  \n",
                            "17 2022-02-04 03:00:00 21 days 17:27:00  \n",
                            "20 2022-02-18 03:00:00 21 days 23:59:58  \n",
                            "29 2022-02-04 03:00:00 21 days 17:27:00  \n",
                            "31 2022-02-18 03:00:00 21 days 17:41:00  \n",
                            "33 2022-02-18 03:00:00 21 days 23:59:58  "
                        ]
                    },
                    "execution_count": 30,
                    "metadata": {},
                    "output_type": "execute_result"
                }
            ],
            "source": [
                "instruments_21t=instruments.loc[instruments.life_of_option.dt.days==21]\n",
                "instruments_21t.head()"
            ]
        },
        {
            "cell_type": "code",
            "execution_count": 33,
            "metadata": {},
            "outputs": [
                {
                    "data": {
                        "image/png": "[encoded data removed]",
                        "text/plain": [
                            "<Figure size 432x288 with 1 Axes>"
                        ]
                    },
                    "metadata": {
                        "needs_background": "light"
                    },
                    "output_type": "display_data"
                }
            ],
            "source": [
                "instruments_21t.strike.value_counts().plot(kind='barh');"
            ]
        },
        {
            "cell_type": "markdown",
            "metadata": {},
            "source": []
        },
        {
            "cell_type": "code",
            "execution_count": 34,
            "metadata": {},
            "outputs": [
                {
                    "name": "stdout",
                    "output_type": "stream",
                    "text": [
                        "60000.0\n"
                    ]
                }
            ],
            "source": [
                "# We will look at the call that has the median strike for the date_of_interest\n",
                "option_type_of_interest=\"call\"\n",
                "date_of_interest=instruments_21t.expiration_time.min()\n",
                "strike_of_interest=instruments_21t.loc[(instruments.expiration_time == date_of_interest) & (instruments.option_type == option_type_of_interest)].strike.max()\n",
                "print(strike_of_interest)"
            ]
        },
        {
            "cell_type": "code",
            "execution_count": 35,
            "metadata": {},
            "outputs": [
                {
                    "data": {
                        "text/plain": [
                            "{'tick_size': 0.0005,\n",
                            " 'taker_commission': 0.0003,\n",
                            " 'strike': 60000.0,\n",
                            " 'settlement_period': 'week',\n",
                            " 'rfq': False,\n",
                            " 'quote_currency': 'BTC',\n",
                            " 'option_type': 'call',\n",
                            " 'min_trade_amount': 0.1,\n",
                            " 'maker_commission': 0.0003,\n",
                            " 'kind': 'option',\n",
                            " 'is_active': True,\n",
                            " 'instrument_name': 'BTC-4FEB22-60000-C',\n",
                            " 'expiration_timestamp': 1643961600000,\n",
                            " 'creation_timestamp': 1642084380000,\n",
                            " 'contract_size': 1.0,\n",
                            " 'block_trade_commission': 0.00015,\n",
                            " 'base_currency': 'BTC',\n",
                            " 'creation_time': Timestamp('2022-01-13 09:33:00'),\n",
                            " 'expiration_time': Timestamp('2022-02-04 03:00:00'),\n",
                            " 'life_of_option': Timedelta('21 days 17:27:00')}"
                        ]
                    },
                    "execution_count": 35,
                    "metadata": {},
                    "output_type": "execute_result"
                }
            ],
            "source": [
                "instrument_data = instruments_21t.loc[\n",
                "    (instruments.expiration_time == date_of_interest)\n",
                "    & (instruments.option_type == option_type_of_interest)\n",
                "    & (instruments.strike == strike_of_interest)\n",
                "]\n",
                "instrument_dict = instrument_data.to_dict(\"records\")[0]\n",
                "instrument_dict"
            ]
        },
        {
            "cell_type": "markdown",
            "metadata": {},
            "source": [
                "We now have an option that we want to backtest, i the next step we will pull the data for this option"
            ]
        },
        {
            "cell_type": "markdown",
            "metadata": {},
            "source": [
                "## Getting the historical data"
            ]
        },
        {
            "cell_type": "code",
            "execution_count": 39,
            "metadata": {},
            "outputs": [
                {
                    "name": "stdout",
                    "output_type": "stream",
                    "text": [
                        "volume       15\n",
                        "ticks        15\n",
                        "status       15\n",
                        "open         15\n",
                        "low          15\n",
                        "high         15\n",
                        "cost         15\n",
                        "close        15\n",
                        "timestamp    15\n",
                        "dtype: int64\n"
                    ]
                },
                {
                    "data": {
                        "text/html": [
                            "<div>\n",
                            "<style scoped>\n",
                            "    .dataframe tbody tr th:only-of-type {\n",
                            "        vertical-align: middle;\n",
                            "    }\n",
                            "\n",
                            "    .dataframe tbody tr th {\n",
                            "        vertical-align: top;\n",
                            "    }\n",
                            "\n",
                            "    .dataframe thead th {\n",
                            "        text-align: right;\n",
                            "    }\n",
                            "</style>\n",
                            "<table border=\"1\" class=\"dataframe\">\n",
                            "  <thead>\n",
                            "    <tr style=\"text-align: right;\">\n",
                            "      <th></th>\n",
                            "      <th>volume</th>\n",
                            "      <th>ticks</th>\n",
                            "      <th>status</th>\n",
                            "      <th>open</th>\n",
                            "      <th>low</th>\n",
                            "      <th>high</th>\n",
                            "      <th>cost</th>\n",
                            "      <th>close</th>\n",
                            "      <th>timestamp</th>\n",
                            "    </tr>\n",
                            "  </thead>\n",
                            "  <tbody>\n",
                            "    <tr>\n",
                            "      <th>0</th>\n",
                            "      <td>25.2</td>\n",
                            "      <td>1642032000000</td>\n",
                            "      <td>ok</td>\n",
                            "      <td>43208.9000</td>\n",
                            "      <td>0.0025</td>\n",
                            "      <td>43208.9000</td>\n",
                            "      <td>0.00550</td>\n",
                            "      <td>0.0025</td>\n",
                            "      <td>2022-01-12 19:00:00</td>\n",
                            "    </tr>\n",
                            "    <tr>\n",
                            "      <th>1</th>\n",
                            "      <td>11.0</td>\n",
                            "      <td>1642118400000</td>\n",
                            "      <td>ok</td>\n",
                            "      <td>0.0020</td>\n",
                            "      <td>0.0020</td>\n",
                            "      <td>0.0020</td>\n",
                            "      <td>0.02200</td>\n",
                            "      <td>0.0020</td>\n",
                            "      <td>2022-01-13 19:00:00</td>\n",
                            "    </tr>\n",
                            "    <tr>\n",
                            "      <th>2</th>\n",
                            "      <td>0.3</td>\n",
                            "      <td>1642204800000</td>\n",
                            "      <td>ok</td>\n",
                            "      <td>0.0020</td>\n",
                            "      <td>0.0015</td>\n",
                            "      <td>0.0020</td>\n",
                            "      <td>0.00055</td>\n",
                            "      <td>0.0015</td>\n",
                            "      <td>2022-01-14 19:00:00</td>\n",
                            "    </tr>\n",
                            "    <tr>\n",
                            "      <th>3</th>\n",
                            "      <td>0.0</td>\n",
                            "      <td>1642291200000</td>\n",
                            "      <td>ok</td>\n",
                            "      <td>0.0015</td>\n",
                            "      <td>0.0015</td>\n",
                            "      <td>0.0015</td>\n",
                            "      <td>0.00000</td>\n",
                            "      <td>0.0015</td>\n",
                            "      <td>2022-01-15 19:00:00</td>\n",
                            "    </tr>\n",
                            "    <tr>\n",
                            "      <th>4</th>\n",
                            "      <td>46.0</td>\n",
                            "      <td>1642377600000</td>\n",
                            "      <td>ok</td>\n",
                            "      <td>0.0010</td>\n",
                            "      <td>0.0010</td>\n",
                            "      <td>0.0010</td>\n",
                            "      <td>0.04600</td>\n",
                            "      <td>0.0010</td>\n",
                            "      <td>2022-01-16 19:00:00</td>\n",
                            "    </tr>\n",
                            "  </tbody>\n",
                            "</table>\n",
                            "</div>"
                        ],
                        "text/plain": [
                            "   volume          ticks status        open     low        high     cost  \\\n",
                            "0    25.2  1642032000000     ok  43208.9000  0.0025  43208.9000  0.00550   \n",
                            "1    11.0  1642118400000     ok      0.0020  0.0020      0.0020  0.02200   \n",
                            "2     0.3  1642204800000     ok      0.0020  0.0015      0.0020  0.00055   \n",
                            "3     0.0  1642291200000     ok      0.0015  0.0015      0.0015  0.00000   \n",
                            "4    46.0  1642377600000     ok      0.0010  0.0010      0.0010  0.04600   \n",
                            "\n",
                            "    close           timestamp  \n",
                            "0  0.0025 2022-01-12 19:00:00  \n",
                            "1  0.0020 2022-01-13 19:00:00  \n",
                            "2  0.0015 2022-01-14 19:00:00  \n",
                            "3  0.0015 2022-01-15 19:00:00  \n",
                            "4  0.0010 2022-01-16 19:00:00  "
                        ]
                    },
                    "execution_count": 39,
                    "metadata": {},
                    "output_type": "execute_result"
                }
            ],
            "source": [
                "time_period = \"1D\"\n",
                "\n",
                "option_data = api.get_historical_data(\n",
                "    instrument_dict[\"creation_timestamp\"],\n",
                "    instrument_dict[\"expiration_timestamp\"],\n",
                "    instrument_dict[\"instrument_name\"],\n",
                "    time_period,\n",
                ")\n",
                "print(option_data.count())\n",
                "option_data.head()"
            ]
        },
        {
            "cell_type": "code",
            "execution_count": 40,
            "metadata": {},
            "outputs": [
                {
                    "data": {
                        "text/html": [
                            "<div>\n",
                            "<style scoped>\n",
                            "    .dataframe tbody tr th:only-of-type {\n",
                            "        vertical-align: middle;\n",
                            "    }\n",
                            "\n",
                            "    .dataframe tbody tr th {\n",
                            "        vertical-align: top;\n",
                            "    }\n",
                            "\n",
                            "    .dataframe thead th {\n",
                            "        text-align: right;\n",
                            "    }\n",
                            "</style>\n",
                            "<table border=\"1\" class=\"dataframe\">\n",
                            "  <thead>\n",
                            "    <tr style=\"text-align: right;\">\n",
                            "      <th></th>\n",
                            "      <th>volume</th>\n",
                            "      <th>ticks</th>\n",
                            "      <th>status</th>\n",
                            "      <th>open</th>\n",
                            "      <th>low</th>\n",
                            "      <th>high</th>\n",
                            "      <th>cost</th>\n",
                            "      <th>close</th>\n",
                            "      <th>timestamp</th>\n",
                            "    </tr>\n",
                            "  </thead>\n",
                            "  <tbody>\n",
                            "    <tr>\n",
                            "      <th>0</th>\n",
                            "      <td>9557.297239</td>\n",
                            "      <td>1642032000000</td>\n",
                            "      <td>ok</td>\n",
                            "      <td>43908.0</td>\n",
                            "      <td>40545.5</td>\n",
                            "      <td>46987.5</td>\n",
                            "      <td>412982200.0</td>\n",
                            "      <td>42570.5</td>\n",
                            "      <td>2022-01-12 19:00:00</td>\n",
                            "    </tr>\n",
                            "    <tr>\n",
                            "      <th>1</th>\n",
                            "      <td>12447.792723</td>\n",
                            "      <td>1642118400000</td>\n",
                            "      <td>ok</td>\n",
                            "      <td>42575.5</td>\n",
                            "      <td>39329.0</td>\n",
                            "      <td>45395.5</td>\n",
                            "      <td>528297080.0</td>\n",
                            "      <td>43075.0</td>\n",
                            "      <td>2022-01-13 19:00:00</td>\n",
                            "    </tr>\n",
                            "    <tr>\n",
                            "      <th>2</th>\n",
                            "      <td>6939.055441</td>\n",
                            "      <td>1642204800000</td>\n",
                            "      <td>ok</td>\n",
                            "      <td>43072.5</td>\n",
                            "      <td>39814.5</td>\n",
                            "      <td>46278.0</td>\n",
                            "      <td>297404790.0</td>\n",
                            "      <td>43071.0</td>\n",
                            "      <td>2022-01-14 19:00:00</td>\n",
                            "    </tr>\n",
                            "    <tr>\n",
                            "      <th>3</th>\n",
                            "      <td>1729.065185</td>\n",
                            "      <td>1642291200000</td>\n",
                            "      <td>ok</td>\n",
                            "      <td>43070.5</td>\n",
                            "      <td>41999.5</td>\n",
                            "      <td>44051.5</td>\n",
                            "      <td>74654880.0</td>\n",
                            "      <td>43076.5</td>\n",
                            "      <td>2022-01-15 19:00:00</td>\n",
                            "    </tr>\n",
                            "    <tr>\n",
                            "      <th>4</th>\n",
                            "      <td>2933.705467</td>\n",
                            "      <td>1642377600000</td>\n",
                            "      <td>ok</td>\n",
                            "      <td>43079.0</td>\n",
                            "      <td>41561.0</td>\n",
                            "      <td>43250.0</td>\n",
                            "      <td>124185720.0</td>\n",
                            "      <td>42206.5</td>\n",
                            "      <td>2022-01-16 19:00:00</td>\n",
                            "    </tr>\n",
                            "  </tbody>\n",
                            "</table>\n",
                            "</div>"
                        ],
                        "text/plain": [
                            "         volume          ticks status     open      low     high         cost  \\\n",
                            "0   9557.297239  1642032000000     ok  43908.0  40545.5  46987.5  412982200.0   \n",
                            "1  12447.792723  1642118400000     ok  42575.5  39329.0  45395.5  528297080.0   \n",
                            "2   6939.055441  1642204800000     ok  43072.5  39814.5  46278.0  297404790.0   \n",
                            "3   1729.065185  1642291200000     ok  43070.5  41999.5  44051.5   74654880.0   \n",
                            "4   2933.705467  1642377600000     ok  43079.0  41561.0  43250.0  124185720.0   \n",
                            "\n",
                            "     close           timestamp  \n",
                            "0  42570.5 2022-01-12 19:00:00  \n",
                            "1  43075.0 2022-01-13 19:00:00  \n",
                            "2  43071.0 2022-01-14 19:00:00  \n",
                            "3  43076.5 2022-01-15 19:00:00  \n",
                            "4  42206.5 2022-01-16 19:00:00  "
                        ]
                    },
                    "execution_count": 40,
                    "metadata": {},
                    "output_type": "execute_result"
                }
            ],
            "source": [
                "# if we are using BTC the underlying will be BTC-PERPETUAL if we are using ETH the underlying will be ETH-PERPETUAL\n",
                "\n",
                "spot_data = api.get_historical_data(\n",
                "    instrument_dict[\"creation_timestamp\"],\n",
                "    instrument_dict[\"expiration_timestamp\"],\n",
                "    \"BTC-PERPETUAL\",\n",
                "    time_period,\n",
                ")\n",
                "spot_data.head()"
            ]
        },
        {
            "cell_type": "code",
            "execution_count": null,
            "metadata": {},
            "outputs": [
                {
                    "data": {
                        "text/html": [
                            "<div>\n",
                            "<style scoped>\n",
                            "    .dataframe tbody tr th:only-of-type {\n",
                            "        vertical-align: middle;\n",
                            "    }\n",
                            "\n",
                            "    .dataframe tbody tr th {\n",
                            "        vertical-align: top;\n",
                            "    }\n",
                            "\n",
                            "    .dataframe thead th {\n",
                            "        text-align: right;\n",
                            "    }\n",
                            "</style>\n",
                            "<table border=\"1\" class=\"dataframe\">\n",
                            "  <thead>\n",
                            "    <tr style=\"text-align: right;\">\n",
                            "      <th></th>\n",
                            "      <th>Unnamed: 0</th>\n",
                            "      <th>volume</th>\n",
                            "      <th>ticks</th>\n",
                            "      <th>status</th>\n",
                            "      <th>open</th>\n",
                            "      <th>low</th>\n",
                            "      <th>high</th>\n",
                            "      <th>cost</th>\n",
                            "      <th>close</th>\n",
                            "      <th>timestamp</th>\n",
                            "    </tr>\n",
                            "  </thead>\n",
                            "  <tbody>\n",
                            "    <tr>\n",
                            "      <th>0</th>\n",
                            "      <td>0</td>\n",
                            "      <td>3.0</td>\n",
                            "      <td>1633046400000</td>\n",
                            "      <td>ok</td>\n",
                            "      <td>0.159</td>\n",
                            "      <td>0.1590</td>\n",
                            "      <td>0.159</td>\n",
                            "      <td>0.4770</td>\n",
                            "      <td>0.1590</td>\n",
                            "      <td>2021-10-01 02:00:00</td>\n",
                            "    </tr>\n",
                            "    <tr>\n",
                            "      <th>1</th>\n",
                            "      <td>1</td>\n",
                            "      <td>0.0</td>\n",
                            "      <td>1633132800000</td>\n",
                            "      <td>ok</td>\n",
                            "      <td>0.159</td>\n",
                            "      <td>0.1590</td>\n",
                            "      <td>0.159</td>\n",
                            "      <td>0.0000</td>\n",
                            "      <td>0.1590</td>\n",
                            "      <td>2021-10-02 02:00:00</td>\n",
                            "    </tr>\n",
                            "    <tr>\n",
                            "      <th>2</th>\n",
                            "      <td>2</td>\n",
                            "      <td>0.0</td>\n",
                            "      <td>1633219200000</td>\n",
                            "      <td>ok</td>\n",
                            "      <td>0.159</td>\n",
                            "      <td>0.1590</td>\n",
                            "      <td>0.159</td>\n",
                            "      <td>0.0000</td>\n",
                            "      <td>0.1590</td>\n",
                            "      <td>2021-10-03 02:00:00</td>\n",
                            "    </tr>\n",
                            "    <tr>\n",
                            "      <th>3</th>\n",
                            "      <td>3</td>\n",
                            "      <td>6.7</td>\n",
                            "      <td>1633305600000</td>\n",
                            "      <td>ok</td>\n",
                            "      <td>0.094</td>\n",
                            "      <td>0.0625</td>\n",
                            "      <td>0.094</td>\n",
                            "      <td>0.4219</td>\n",
                            "      <td>0.0625</td>\n",
                            "      <td>2021-10-04 02:00:00</td>\n",
                            "    </tr>\n",
                            "    <tr>\n",
                            "      <th>4</th>\n",
                            "      <td>4</td>\n",
                            "      <td>37.2</td>\n",
                            "      <td>1633392000000</td>\n",
                            "      <td>ok</td>\n",
                            "      <td>0.057</td>\n",
                            "      <td>0.0345</td>\n",
                            "      <td>0.057</td>\n",
                            "      <td>1.7432</td>\n",
                            "      <td>0.0345</td>\n",
                            "      <td>2021-10-05 02:00:00</td>\n",
                            "    </tr>\n",
                            "  </tbody>\n",
                            "</table>\n",
                            "</div>"
                        ],
                        "text/plain": [
                            "   Unnamed: 0  volume          ticks status   open     low   high    cost  \\\n",
                            "0           0     3.0  1633046400000     ok  0.159  0.1590  0.159  0.4770   \n",
                            "1           1     0.0  1633132800000     ok  0.159  0.1590  0.159  0.0000   \n",
                            "2           2     0.0  1633219200000     ok  0.159  0.1590  0.159  0.0000   \n",
                            "3           3     6.7  1633305600000     ok  0.094  0.0625  0.094  0.4219   \n",
                            "4           4    37.2  1633392000000     ok  0.057  0.0345  0.057  1.7432   \n",
                            "\n",
                            "    close            timestamp  \n",
                            "0  0.1590  2021-10-01 02:00:00  \n",
                            "1  0.1590  2021-10-02 02:00:00  \n",
                            "2  0.1590  2021-10-03 02:00:00  \n",
                            "3  0.0625  2021-10-04 02:00:00  \n",
                            "4  0.0345  2021-10-05 02:00:00  "
                        ]
                    },
                    "execution_count": 6,
                    "metadata": {},
                    "output_type": "execute_result"
                }
            ],
            "source": [
                "option.head()"
            ]
        },
        {
            "cell_type": "code",
            "execution_count": 41,
            "metadata": {},
            "outputs": [],
            "source": [
                "data=pd.merge(option_data,spot_data,how=\"left\",on=\"ticks\",suffixes=(\"_option\",\"_spot\"))"
            ]
        },
        {
            "cell_type": "code",
            "execution_count": 42,
            "metadata": {},
            "outputs": [],
            "source": [
                "unwanted = data.columns[data.columns.str.startswith('Unnamed')]\n",
                "data.drop(unwanted, axis=1, inplace=True)\n",
                "data.drop([\"timestamp_option\",\"timestamp_spot\"],axis=1)\n",
                "data['timestamp']=data.ticks.apply(lambda x:dt.datetime.fromtimestamp(x/1000))\n"
            ]
        },
        {
            "cell_type": "code",
            "execution_count": 43,
            "metadata": {},
            "outputs": [],
            "source": [
                "strike=instrument_dict['strike'] #from instrument name\n",
                "option_type=instrument_dict['option_type'] # from instrument name or can be got from get_intrument function\n",
                "expiry=dt.datetime(2021,10,15)\n",
                "r=0.01 # ask nico about this\n",
                "qty = 1277\n",
                "mult=1\n",
                "is_delta_hedged=True"
            ]
        },
        {
            "cell_type": "code",
            "execution_count": null,
            "metadata": {},
            "outputs": [],
            "source": [
                "data[\"time_to_expiry\"]=data.timestamp.apply(lambda x:expiry-x)\n",
                "data[\"days_to_expiry\"]=data[\"time_to_expiry\"].apply(lambda x: x.days)"
            ]
        },
        {
            "cell_type": "code",
            "execution_count": null,
            "metadata": {},
            "outputs": [],
            "source": []
        },
        {
            "cell_type": "code",
            "execution_count": null,
            "metadata": {},
            "outputs": [
                {
                    "name": "stderr",
                    "output_type": "stream",
                    "text": [
                        "/Users/marcfiani/Documents/projects/active/python_backtester_nico/venv/lib/python3.9/site-packages/py_vollib_vectorized/implied_volatility.py:75: UserWarning: Found Below Intrinsic contracts at index [0, 1, 2, 3]\n",
                        "  below_intrinsic, above_max_price = _check_below_and_above_intrinsic(K, F, flag, undiscounted_option_price, on_error)\n"
                    ]
                }
            ],
            "source": [
                "data['ivol_mid']=implied_volatility(data['close_option'],data['close_spot'],\n",
                "    strike,data['days_to_expiry']/365,r,option_type,return_as=\"series\")"
            ]
        },
        {
            "cell_type": "code",
            "execution_count": null,
            "metadata": {},
            "outputs": [],
            "source": [
                "data['delta_mid'] = py_vollib_vectorized.greeks.delta(option_type, data['close_spot'], \n",
                "        strike,data['days_to_expiry']/365, r, data[ 'ivol_mid'])\n"
            ]
        },
        {
            "cell_type": "code",
            "execution_count": null,
            "metadata": {},
            "outputs": [],
            "source": [
                "data['daily_pnl_option']=data['close_option'].diff()*qty*mult\n",
                "data[\"daily_pnl_spot\"] = data['close_spot'].diff() * data['delta_mid'].shift()*qty*mult\n",
                "ts=data['daily_pnl_option']- data[\"daily_pnl_spot\"]*is_delta_hedged\n",
                "data['pnl']=ts.cumsum()"
            ]
        },
        {
            "cell_type": "code",
            "execution_count": null,
            "metadata": {},
            "outputs": [],
            "source": []
        }
    ],
    "metadata": {
        "interpreter": {
            "hash": "5837e5dafb424d45af8fe98987971bd7be9b57f37490d60dc5c42701fe6fbcee"
        },
        "kernelspec": {
            "display_name": "Python 3.9.1 64-bit ('venv': venv)",
            "name": "python3"
        },
        "language_info": {
            "codemirror_mode": {
                "name": "ipython",
                "version": 3
            },
            "file_extension": ".py",
            "mimetype": "text/x-python",
            "name": "python",
            "nbconvert_exporter": "python",
            "pygments_lexer": "ipython3",
            "version": "3.9.1"
        },
        "orig_nbformat": 4
    },
    "nbformat": 4,
    "nbformat_minor": 2
}
