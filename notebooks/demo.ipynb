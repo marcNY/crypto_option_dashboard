{
 "cells": [
  {
   "cell_type": "markdown",
   "metadata": {},
   "source": [
    "# Demo for using the code base"
   ]
  },
  {
   "cell_type": "markdown",
   "metadata": {},
   "source": [
    "## We load the different packages"
   ]
  },
  {
   "cell_type": "code",
   "execution_count": 260,
   "metadata": {
    "jp-MarkdownHeadingCollapsed": true,
    "tags": []
   },
   "outputs": [],
   "source": [
    "import pandas as pd, datetime as dt, matplotlib.pyplot as plt, numpy as np, streamlit as st, os, sys\n",
    "import py_vollib_vectorized\n",
    "\n",
    "from py_vollib.black_scholes.implied_volatility import implied_volatility\n",
    "from py_vollib.black_scholes.greeks.analytical import delta\n",
    "\n",
    "%matplotlib inline "
   ]
  },
  {
   "cell_type": "code",
   "execution_count": 261,
   "metadata": {},
   "outputs": [
    {
     "name": "stdout",
     "output_type": "stream",
     "text": [
      "/Users/nicolas/Projects/crypto_option_dashboard\n"
     ]
    }
   ],
   "source": [
    "# importing functions from the code base\n",
    "base_path = os.path.abspath(os.path.join('..'))\n",
    "print(base_path)\n",
    "if base_path not in sys.path:\n",
    "    sys.path.append(base_path)"
   ]
  },
  {
   "cell_type": "code",
   "execution_count": 262,
   "metadata": {},
   "outputs": [],
   "source": [
    "import src.api as api"
   ]
  },
  {
   "cell_type": "markdown",
   "metadata": {},
   "source": [
    "# FEEDBACK\n",
    "\n",
    "The notebook needs to be clean:\n",
    "    \n",
    "1) Inputs\n",
    "a) User enters the various inputs\n",
    "b) The inputs are checked (no expiry in the past, no negative strike, that kind of thing)\n",
    "\n",
    "2) Calculations\n",
    "3) Plot the results"
   ]
  },
  {
   "cell_type": "markdown",
   "metadata": {},
   "source": [
    "## Getting the instruments"
   ]
  },
  {
   "cell_type": "markdown",
   "metadata": {},
   "source": [
    "The following function allow us to get the instruments available in Deribit"
   ]
  },
  {
   "cell_type": "code",
   "execution_count": 263,
   "metadata": {},
   "outputs": [
    {
     "data": {
      "text/html": [
       "<div>\n",
       "<style scoped>\n",
       "    .dataframe tbody tr th:only-of-type {\n",
       "        vertical-align: middle;\n",
       "    }\n",
       "\n",
       "    .dataframe tbody tr th {\n",
       "        vertical-align: top;\n",
       "    }\n",
       "\n",
       "    .dataframe thead th {\n",
       "        text-align: right;\n",
       "    }\n",
       "</style>\n",
       "<table border=\"1\" class=\"dataframe\">\n",
       "  <thead>\n",
       "    <tr style=\"text-align: right;\">\n",
       "      <th></th>\n",
       "      <th>tick_size</th>\n",
       "      <th>taker_commission</th>\n",
       "      <th>strike</th>\n",
       "      <th>settlement_period</th>\n",
       "      <th>rfq</th>\n",
       "      <th>quote_currency</th>\n",
       "      <th>option_type</th>\n",
       "      <th>min_trade_amount</th>\n",
       "      <th>maker_commission</th>\n",
       "      <th>kind</th>\n",
       "      <th>is_active</th>\n",
       "      <th>instrument_name</th>\n",
       "      <th>expiration_timestamp</th>\n",
       "      <th>creation_timestamp</th>\n",
       "      <th>contract_size</th>\n",
       "      <th>block_trade_commission</th>\n",
       "      <th>base_currency</th>\n",
       "      <th>creation_time</th>\n",
       "      <th>expiration_time</th>\n",
       "    </tr>\n",
       "  </thead>\n",
       "  <tbody>\n",
       "    <tr>\n",
       "      <th>0</th>\n",
       "      <td>0.0005</td>\n",
       "      <td>0.0003</td>\n",
       "      <td>55000.0</td>\n",
       "      <td>month</td>\n",
       "      <td>False</td>\n",
       "      <td>BTC</td>\n",
       "      <td>call</td>\n",
       "      <td>0.1</td>\n",
       "      <td>0.0003</td>\n",
       "      <td>option</td>\n",
       "      <td>True</td>\n",
       "      <td>BTC-24JUN22-55000-C</td>\n",
       "      <td>1656057600000</td>\n",
       "      <td>1629483660000</td>\n",
       "      <td>1.0</td>\n",
       "      <td>0.00015</td>\n",
       "      <td>BTC</td>\n",
       "      <td>2021-08-20 19:21:00</td>\n",
       "      <td>2022-06-24 09:00:00</td>\n",
       "    </tr>\n",
       "    <tr>\n",
       "      <th>1</th>\n",
       "      <td>0.0005</td>\n",
       "      <td>0.0003</td>\n",
       "      <td>30000.0</td>\n",
       "      <td>month</td>\n",
       "      <td>False</td>\n",
       "      <td>BTC</td>\n",
       "      <td>call</td>\n",
       "      <td>0.1</td>\n",
       "      <td>0.0003</td>\n",
       "      <td>option</td>\n",
       "      <td>True</td>\n",
       "      <td>BTC-24JUN22-30000-C</td>\n",
       "      <td>1656057600000</td>\n",
       "      <td>1627994072000</td>\n",
       "      <td>1.0</td>\n",
       "      <td>0.00015</td>\n",
       "      <td>BTC</td>\n",
       "      <td>2021-08-03 13:34:32</td>\n",
       "      <td>2022-06-24 09:00:00</td>\n",
       "    </tr>\n",
       "    <tr>\n",
       "      <th>2</th>\n",
       "      <td>0.0005</td>\n",
       "      <td>0.0003</td>\n",
       "      <td>45000.0</td>\n",
       "      <td>month</td>\n",
       "      <td>False</td>\n",
       "      <td>BTC</td>\n",
       "      <td>put</td>\n",
       "      <td>0.1</td>\n",
       "      <td>0.0003</td>\n",
       "      <td>option</td>\n",
       "      <td>True</td>\n",
       "      <td>BTC-25MAR22-45000-P</td>\n",
       "      <td>1648195200000</td>\n",
       "      <td>1628197380000</td>\n",
       "      <td>1.0</td>\n",
       "      <td>0.00015</td>\n",
       "      <td>BTC</td>\n",
       "      <td>2021-08-05 22:03:00</td>\n",
       "      <td>2022-03-25 08:00:00</td>\n",
       "    </tr>\n",
       "    <tr>\n",
       "      <th>3</th>\n",
       "      <td>0.0005</td>\n",
       "      <td>0.0003</td>\n",
       "      <td>36000.0</td>\n",
       "      <td>week</td>\n",
       "      <td>False</td>\n",
       "      <td>BTC</td>\n",
       "      <td>call</td>\n",
       "      <td>0.1</td>\n",
       "      <td>0.0003</td>\n",
       "      <td>option</td>\n",
       "      <td>True</td>\n",
       "      <td>BTC-4FEB22-36000-C</td>\n",
       "      <td>1643961600000</td>\n",
       "      <td>1642801680000</td>\n",
       "      <td>1.0</td>\n",
       "      <td>0.00015</td>\n",
       "      <td>BTC</td>\n",
       "      <td>2022-01-21 21:48:00</td>\n",
       "      <td>2022-02-04 08:00:00</td>\n",
       "    </tr>\n",
       "    <tr>\n",
       "      <th>4</th>\n",
       "      <td>0.0005</td>\n",
       "      <td>0.0003</td>\n",
       "      <td>300000.0</td>\n",
       "      <td>month</td>\n",
       "      <td>False</td>\n",
       "      <td>BTC</td>\n",
       "      <td>call</td>\n",
       "      <td>0.1</td>\n",
       "      <td>0.0003</td>\n",
       "      <td>option</td>\n",
       "      <td>True</td>\n",
       "      <td>BTC-30SEP22-300000-C</td>\n",
       "      <td>1664524800000</td>\n",
       "      <td>1634315520000</td>\n",
       "      <td>1.0</td>\n",
       "      <td>0.00015</td>\n",
       "      <td>BTC</td>\n",
       "      <td>2021-10-15 17:32:00</td>\n",
       "      <td>2022-09-30 09:00:00</td>\n",
       "    </tr>\n",
       "  </tbody>\n",
       "</table>\n",
       "</div>"
      ],
      "text/plain": [
       "   tick_size  taker_commission    strike settlement_period    rfq  \\\n",
       "0     0.0005            0.0003   55000.0             month  False   \n",
       "1     0.0005            0.0003   30000.0             month  False   \n",
       "2     0.0005            0.0003   45000.0             month  False   \n",
       "3     0.0005            0.0003   36000.0              week  False   \n",
       "4     0.0005            0.0003  300000.0             month  False   \n",
       "\n",
       "  quote_currency option_type  min_trade_amount  maker_commission    kind  \\\n",
       "0            BTC        call               0.1            0.0003  option   \n",
       "1            BTC        call               0.1            0.0003  option   \n",
       "2            BTC         put               0.1            0.0003  option   \n",
       "3            BTC        call               0.1            0.0003  option   \n",
       "4            BTC        call               0.1            0.0003  option   \n",
       "\n",
       "   is_active       instrument_name  expiration_timestamp  creation_timestamp  \\\n",
       "0       True   BTC-24JUN22-55000-C         1656057600000       1629483660000   \n",
       "1       True   BTC-24JUN22-30000-C         1656057600000       1627994072000   \n",
       "2       True   BTC-25MAR22-45000-P         1648195200000       1628197380000   \n",
       "3       True    BTC-4FEB22-36000-C         1643961600000       1642801680000   \n",
       "4       True  BTC-30SEP22-300000-C         1664524800000       1634315520000   \n",
       "\n",
       "   contract_size  block_trade_commission base_currency       creation_time  \\\n",
       "0            1.0                 0.00015           BTC 2021-08-20 19:21:00   \n",
       "1            1.0                 0.00015           BTC 2021-08-03 13:34:32   \n",
       "2            1.0                 0.00015           BTC 2021-08-05 22:03:00   \n",
       "3            1.0                 0.00015           BTC 2022-01-21 21:48:00   \n",
       "4            1.0                 0.00015           BTC 2021-10-15 17:32:00   \n",
       "\n",
       "      expiration_time  \n",
       "0 2022-06-24 09:00:00  \n",
       "1 2022-06-24 09:00:00  \n",
       "2 2022-03-25 08:00:00  \n",
       "3 2022-02-04 08:00:00  \n",
       "4 2022-09-30 09:00:00  "
      ]
     },
     "execution_count": 263,
     "metadata": {},
     "output_type": "execute_result"
    }
   ],
   "source": [
    "import nest_asyncio\n",
    "nest_asyncio.apply()\n",
    "instruments = api.get_instruments(\"BTC\", kind=\"option\", expired=False)\n",
    "instruments.head()"
   ]
  },
  {
   "cell_type": "markdown",
   "metadata": {},
   "source": [
    "#### What month are we looking for?"
   ]
  },
  {
   "cell_type": "code",
   "execution_count": 264,
   "metadata": {},
   "outputs": [],
   "source": [
    "# In 3 days, what month is it?\n",
    "desired_month = (dt.datetime.now() + dt.timedelta(days=3)).month"
   ]
  },
  {
   "cell_type": "code",
   "execution_count": 265,
   "metadata": {},
   "outputs": [],
   "source": [
    "# Get the last option expiring on that month\n",
    "expiry_dates = instruments.expiration_time.unique()\n",
    "expiry_months = expiry_dates.astype('datetime64[M]').astype(int) % 12 + 1\n",
    "\n",
    "month_end_expiry = np.datetime64(dt.datetime.now())\n",
    "\n",
    "for i in range(0, len(expiry_dates)):\n",
    "    if expiry_months[i] == desired_month and expiry_dates[i] > month_end_expiry:\n",
    "        month_end_expiry =  expiry_dates[i]"
   ]
  },
  {
   "cell_type": "code",
   "execution_count": 266,
   "metadata": {},
   "outputs": [
    {
     "data": {
      "text/plain": [
       "<AxesSubplot:>"
      ]
     },
     "execution_count": 266,
     "metadata": {},
     "output_type": "execute_result"
    },
    {
     "data": {
      "image/png": "[encoded data removed]",
      "text/plain": [
       "<Figure size 432x288 with 1 Axes>"
      ]
     },
     "metadata": {
      "needs_background": "light"
     },
     "output_type": "display_data"
    }
   ],
   "source": [
    "# get all options type for the closest settlement time\n",
    "date_of_interest = instruments.expiration_time.min()\n",
    "instruments[\"life_of_option\"] = instruments.expiration_time - instruments.creation_time\n",
    "instruments[\"life_of_option\"].dt.days.value_counts().head(10).sort_values().plot(kind = 'barh')\n",
    "#instruments.sort_values(by=[\"life_of_option\",\"expiration_time\"],ascending=[0,1]).head()"
   ]
  },
  {
   "cell_type": "code",
   "execution_count": 267,
   "metadata": {},
   "outputs": [
    {
     "data": {
      "text/html": [
       "<div>\n",
       "<style scoped>\n",
       "    .dataframe tbody tr th:only-of-type {\n",
       "        vertical-align: middle;\n",
       "    }\n",
       "\n",
       "    .dataframe tbody tr th {\n",
       "        vertical-align: top;\n",
       "    }\n",
       "\n",
       "    .dataframe thead th {\n",
       "        text-align: right;\n",
       "    }\n",
       "</style>\n",
       "<table border=\"1\" class=\"dataframe\">\n",
       "  <thead>\n",
       "    <tr style=\"text-align: right;\">\n",
       "      <th></th>\n",
       "      <th>tick_size</th>\n",
       "      <th>taker_commission</th>\n",
       "      <th>strike</th>\n",
       "      <th>settlement_period</th>\n",
       "      <th>rfq</th>\n",
       "      <th>quote_currency</th>\n",
       "      <th>option_type</th>\n",
       "      <th>min_trade_amount</th>\n",
       "      <th>maker_commission</th>\n",
       "      <th>kind</th>\n",
       "      <th>is_active</th>\n",
       "      <th>instrument_name</th>\n",
       "      <th>expiration_timestamp</th>\n",
       "      <th>creation_timestamp</th>\n",
       "      <th>contract_size</th>\n",
       "      <th>block_trade_commission</th>\n",
       "      <th>base_currency</th>\n",
       "      <th>creation_time</th>\n",
       "      <th>expiration_time</th>\n",
       "      <th>life_of_option</th>\n",
       "    </tr>\n",
       "  </thead>\n",
       "  <tbody>\n",
       "    <tr>\n",
       "      <th>13</th>\n",
       "      <td>0.0005</td>\n",
       "      <td>0.0003</td>\n",
       "      <td>60000.0</td>\n",
       "      <td>week</td>\n",
       "      <td>False</td>\n",
       "      <td>BTC</td>\n",
       "      <td>put</td>\n",
       "      <td>0.1</td>\n",
       "      <td>0.0003</td>\n",
       "      <td>option</td>\n",
       "      <td>True</td>\n",
       "      <td>BTC-4FEB22-60000-P</td>\n",
       "      <td>1643961600000</td>\n",
       "      <td>1642084380000</td>\n",
       "      <td>1.0</td>\n",
       "      <td>0.00015</td>\n",
       "      <td>BTC</td>\n",
       "      <td>2022-01-13 14:33:00</td>\n",
       "      <td>2022-02-04 08:00:00</td>\n",
       "      <td>21 days 17:27:00</td>\n",
       "    </tr>\n",
       "    <tr>\n",
       "      <th>16</th>\n",
       "      <td>0.0005</td>\n",
       "      <td>0.0003</td>\n",
       "      <td>36000.0</td>\n",
       "      <td>week</td>\n",
       "      <td>False</td>\n",
       "      <td>BTC</td>\n",
       "      <td>put</td>\n",
       "      <td>0.1</td>\n",
       "      <td>0.0003</td>\n",
       "      <td>option</td>\n",
       "      <td>True</td>\n",
       "      <td>BTC-18FEB22-36000-P</td>\n",
       "      <td>1645171200000</td>\n",
       "      <td>1643270402000</td>\n",
       "      <td>1.0</td>\n",
       "      <td>0.00015</td>\n",
       "      <td>BTC</td>\n",
       "      <td>2022-01-27 08:00:02</td>\n",
       "      <td>2022-02-18 08:00:00</td>\n",
       "      <td>21 days 23:59:58</td>\n",
       "    </tr>\n",
       "    <tr>\n",
       "      <th>23</th>\n",
       "      <td>0.0005</td>\n",
       "      <td>0.0003</td>\n",
       "      <td>60000.0</td>\n",
       "      <td>week</td>\n",
       "      <td>False</td>\n",
       "      <td>BTC</td>\n",
       "      <td>call</td>\n",
       "      <td>0.1</td>\n",
       "      <td>0.0003</td>\n",
       "      <td>option</td>\n",
       "      <td>True</td>\n",
       "      <td>BTC-4FEB22-60000-C</td>\n",
       "      <td>1643961600000</td>\n",
       "      <td>1642084380000</td>\n",
       "      <td>1.0</td>\n",
       "      <td>0.00015</td>\n",
       "      <td>BTC</td>\n",
       "      <td>2022-01-13 14:33:00</td>\n",
       "      <td>2022-02-04 08:00:00</td>\n",
       "      <td>21 days 17:27:00</td>\n",
       "    </tr>\n",
       "    <tr>\n",
       "      <th>25</th>\n",
       "      <td>0.0005</td>\n",
       "      <td>0.0003</td>\n",
       "      <td>50000.0</td>\n",
       "      <td>week</td>\n",
       "      <td>False</td>\n",
       "      <td>BTC</td>\n",
       "      <td>call</td>\n",
       "      <td>0.1</td>\n",
       "      <td>0.0003</td>\n",
       "      <td>option</td>\n",
       "      <td>True</td>\n",
       "      <td>BTC-18FEB22-50000-C</td>\n",
       "      <td>1645171200000</td>\n",
       "      <td>1643293140000</td>\n",
       "      <td>1.0</td>\n",
       "      <td>0.00015</td>\n",
       "      <td>BTC</td>\n",
       "      <td>2022-01-27 14:19:00</td>\n",
       "      <td>2022-02-18 08:00:00</td>\n",
       "      <td>21 days 17:41:00</td>\n",
       "    </tr>\n",
       "    <tr>\n",
       "      <th>27</th>\n",
       "      <td>0.0005</td>\n",
       "      <td>0.0003</td>\n",
       "      <td>36000.0</td>\n",
       "      <td>week</td>\n",
       "      <td>False</td>\n",
       "      <td>BTC</td>\n",
       "      <td>call</td>\n",
       "      <td>0.1</td>\n",
       "      <td>0.0003</td>\n",
       "      <td>option</td>\n",
       "      <td>True</td>\n",
       "      <td>BTC-18FEB22-36000-C</td>\n",
       "      <td>1645171200000</td>\n",
       "      <td>1643270402000</td>\n",
       "      <td>1.0</td>\n",
       "      <td>0.00015</td>\n",
       "      <td>BTC</td>\n",
       "      <td>2022-01-27 08:00:02</td>\n",
       "      <td>2022-02-18 08:00:00</td>\n",
       "      <td>21 days 23:59:58</td>\n",
       "    </tr>\n",
       "  </tbody>\n",
       "</table>\n",
       "</div>"
      ],
      "text/plain": [
       "    tick_size  taker_commission   strike settlement_period    rfq  \\\n",
       "13     0.0005            0.0003  60000.0              week  False   \n",
       "16     0.0005            0.0003  36000.0              week  False   \n",
       "23     0.0005            0.0003  60000.0              week  False   \n",
       "25     0.0005            0.0003  50000.0              week  False   \n",
       "27     0.0005            0.0003  36000.0              week  False   \n",
       "\n",
       "   quote_currency option_type  min_trade_amount  maker_commission    kind  \\\n",
       "13            BTC         put               0.1            0.0003  option   \n",
       "16            BTC         put               0.1            0.0003  option   \n",
       "23            BTC        call               0.1            0.0003  option   \n",
       "25            BTC        call               0.1            0.0003  option   \n",
       "27            BTC        call               0.1            0.0003  option   \n",
       "\n",
       "    is_active      instrument_name  expiration_timestamp  creation_timestamp  \\\n",
       "13       True   BTC-4FEB22-60000-P         1643961600000       1642084380000   \n",
       "16       True  BTC-18FEB22-36000-P         1645171200000       1643270402000   \n",
       "23       True   BTC-4FEB22-60000-C         1643961600000       1642084380000   \n",
       "25       True  BTC-18FEB22-50000-C         1645171200000       1643293140000   \n",
       "27       True  BTC-18FEB22-36000-C         1645171200000       1643270402000   \n",
       "\n",
       "    contract_size  block_trade_commission base_currency       creation_time  \\\n",
       "13            1.0                 0.00015           BTC 2022-01-13 14:33:00   \n",
       "16            1.0                 0.00015           BTC 2022-01-27 08:00:02   \n",
       "23            1.0                 0.00015           BTC 2022-01-13 14:33:00   \n",
       "25            1.0                 0.00015           BTC 2022-01-27 14:19:00   \n",
       "27            1.0                 0.00015           BTC 2022-01-27 08:00:02   \n",
       "\n",
       "       expiration_time   life_of_option  \n",
       "13 2022-02-04 08:00:00 21 days 17:27:00  \n",
       "16 2022-02-18 08:00:00 21 days 23:59:58  \n",
       "23 2022-02-04 08:00:00 21 days 17:27:00  \n",
       "25 2022-02-18 08:00:00 21 days 17:41:00  \n",
       "27 2022-02-18 08:00:00 21 days 23:59:58  "
      ]
     },
     "execution_count": 267,
     "metadata": {},
     "output_type": "execute_result"
    }
   ],
   "source": [
    "instruments_21t = instruments.loc[instruments.life_of_option.dt.days == 21]\n",
    "instruments_21t.head()"
   ]
  },
  {
   "cell_type": "code",
   "execution_count": 268,
   "metadata": {},
   "outputs": [
    {
     "data": {
      "image/png": "[encoded data removed]",
      "text/plain": [
       "<Figure size 432x288 with 1 Axes>"
      ]
     },
     "metadata": {
      "needs_background": "light"
     },
     "output_type": "display_data"
    }
   ],
   "source": [
    "instruments_21t.strike.value_counts().plot(kind='barh');"
   ]
  },
  {
   "cell_type": "markdown",
   "metadata": {},
   "source": []
  },
  {
   "cell_type": "code",
   "execution_count": 400,
   "metadata": {},
   "outputs": [],
   "source": [
    "temp = dt.datetime.now()\n",
    "today_dt = dt.datetime(year=temp.year, month=temp.month, day=temp.day, hour=temp.hour, minute=temp.minute)\n",
    "\n",
    "ts_today = dt.datetime.timestamp(today_dt) * 1000\n",
    "spot_ohlcv = api.get_historical_data(ts_today, ts_today, \"BTC-PERPETUAL\", \"1D\")\n",
    "\n",
    "spot = (spot_ohlcv['open'][0] + spot_ohlcv['close'][0] + spot_ohlcv['high'][0] + spot_ohlcv['low'][0]) / 4"
   ]
  },
  {
   "cell_type": "code",
   "execution_count": 270,
   "metadata": {},
   "outputs": [
    {
     "data": {
      "text/plain": [
       "37785.625"
      ]
     },
     "execution_count": 270,
     "metadata": {},
     "output_type": "execute_result"
    }
   ],
   "source": [
    "spot"
   ]
  },
  {
   "cell_type": "code",
   "execution_count": 428,
   "metadata": {},
   "outputs": [],
   "source": [
    "desired_option_type = \"call\""
   ]
  },
  {
   "cell_type": "code",
   "execution_count": 465,
   "metadata": {},
   "outputs": [],
   "source": [
    "# Find the closest strike from the current spot among the ones available"
   ]
  },
  {
   "cell_type": "code",
   "execution_count": 430,
   "metadata": {},
   "outputs": [],
   "source": [
    "strikes = instruments.loc[instruments['expiration_time'] == month_end_expiry].loc[instruments['option_type'] == desired_option_type].strike.unique()\n",
    "desired_strike = min(strikes, key=lambda x:abs(x-spot))"
   ]
  },
  {
   "cell_type": "code",
   "execution_count": 438,
   "metadata": {},
   "outputs": [
    {
     "data": {
      "text/html": [
       "<div>\n",
       "<style scoped>\n",
       "    .dataframe tbody tr th:only-of-type {\n",
       "        vertical-align: middle;\n",
       "    }\n",
       "\n",
       "    .dataframe tbody tr th {\n",
       "        vertical-align: top;\n",
       "    }\n",
       "\n",
       "    .dataframe thead th {\n",
       "        text-align: right;\n",
       "    }\n",
       "</style>\n",
       "<table border=\"1\" class=\"dataframe\">\n",
       "  <thead>\n",
       "    <tr style=\"text-align: right;\">\n",
       "      <th></th>\n",
       "      <th>tick_size</th>\n",
       "      <th>taker_commission</th>\n",
       "      <th>strike</th>\n",
       "      <th>settlement_period</th>\n",
       "      <th>rfq</th>\n",
       "      <th>quote_currency</th>\n",
       "      <th>option_type</th>\n",
       "      <th>min_trade_amount</th>\n",
       "      <th>maker_commission</th>\n",
       "      <th>kind</th>\n",
       "      <th>is_active</th>\n",
       "      <th>instrument_name</th>\n",
       "      <th>expiration_timestamp</th>\n",
       "      <th>creation_timestamp</th>\n",
       "      <th>contract_size</th>\n",
       "      <th>block_trade_commission</th>\n",
       "      <th>base_currency</th>\n",
       "      <th>creation_time</th>\n",
       "      <th>expiration_time</th>\n",
       "      <th>life_of_option</th>\n",
       "    </tr>\n",
       "  </thead>\n",
       "  <tbody>\n",
       "    <tr>\n",
       "      <th>94</th>\n",
       "      <td>0.0005</td>\n",
       "      <td>0.0003</td>\n",
       "      <td>40000.0</td>\n",
       "      <td>month</td>\n",
       "      <td>False</td>\n",
       "      <td>BTC</td>\n",
       "      <td>call</td>\n",
       "      <td>0.1</td>\n",
       "      <td>0.0003</td>\n",
       "      <td>option</td>\n",
       "      <td>True</td>\n",
       "      <td>BTC-25FEB22-40000-C</td>\n",
       "      <td>1645776000000</td>\n",
       "      <td>1637740802000</td>\n",
       "      <td>1.0</td>\n",
       "      <td>0.00015</td>\n",
       "      <td>BTC</td>\n",
       "      <td>2021-11-24 08:00:02</td>\n",
       "      <td>2022-02-25 08:00:00</td>\n",
       "      <td>92 days 23:59:58</td>\n",
       "    </tr>\n",
       "  </tbody>\n",
       "</table>\n",
       "</div>"
      ],
      "text/plain": [
       "    tick_size  taker_commission   strike settlement_period    rfq  \\\n",
       "94     0.0005            0.0003  40000.0             month  False   \n",
       "\n",
       "   quote_currency option_type  min_trade_amount  maker_commission    kind  \\\n",
       "94            BTC        call               0.1            0.0003  option   \n",
       "\n",
       "    is_active      instrument_name  expiration_timestamp  creation_timestamp  \\\n",
       "94       True  BTC-25FEB22-40000-C         1645776000000       1637740802000   \n",
       "\n",
       "    contract_size  block_trade_commission base_currency       creation_time  \\\n",
       "94            1.0                 0.00015           BTC 2021-11-24 08:00:02   \n",
       "\n",
       "       expiration_time   life_of_option  \n",
       "94 2022-02-25 08:00:00 92 days 23:59:58  "
      ]
     },
     "execution_count": 438,
     "metadata": {},
     "output_type": "execute_result"
    }
   ],
   "source": [
    "instrument_data = instruments.loc[(instruments.expiration_time == month_end_expiry) \n",
    "                                  & (instruments.option_type == desired_option_type) \n",
    "                                  & (instruments.strike == desired_strike)]\n",
    "instrument_data"
   ]
  },
  {
   "cell_type": "markdown",
   "metadata": {},
   "source": [
    "We now have an option that we want to backtest.\n",
    "In the next step we will pull the data for this option."
   ]
  },
  {
   "cell_type": "markdown",
   "metadata": {},
   "source": [
    "## Getting the historical data"
   ]
  },
  {
   "cell_type": "code",
   "execution_count": 504,
   "metadata": {},
   "outputs": [],
   "source": [
    "ts_creation = dt.datetime.timestamp(dt.datetime.fromtimestamp(instrument_data[\"creation_timestamp\"].values[0]/1000).replace(second = 0, microsecond = 0)) * 1000\n",
    "ts_expiration = dt.datetime.timestamp(dt.datetime.fromtimestamp(instrument_data[\"expiration_timestamp\"].values[0]/1000).replace(second = 0, microsecond = 0)) * 1000"
   ]
  },
  {
   "cell_type": "code",
   "execution_count": 531,
   "metadata": {},
   "outputs": [
    {
     "data": {
      "text/html": [
       "<div>\n",
       "<style scoped>\n",
       "    .dataframe tbody tr th:only-of-type {\n",
       "        vertical-align: middle;\n",
       "    }\n",
       "\n",
       "    .dataframe tbody tr th {\n",
       "        vertical-align: top;\n",
       "    }\n",
       "\n",
       "    .dataframe thead th {\n",
       "        text-align: right;\n",
       "    }\n",
       "</style>\n",
       "<table border=\"1\" class=\"dataframe\">\n",
       "  <thead>\n",
       "    <tr style=\"text-align: right;\">\n",
       "      <th></th>\n",
       "      <th>volume</th>\n",
       "      <th>ticks</th>\n",
       "      <th>status</th>\n",
       "      <th>open</th>\n",
       "      <th>low</th>\n",
       "      <th>high</th>\n",
       "      <th>cost</th>\n",
       "      <th>close</th>\n",
       "      <th>timestamp</th>\n",
       "    </tr>\n",
       "  </thead>\n",
       "  <tbody>\n",
       "    <tr>\n",
       "      <th>0</th>\n",
       "      <td>15.0</td>\n",
       "      <td>1638921600000</td>\n",
       "      <td>ok</td>\n",
       "      <td>0.287</td>\n",
       "      <td>0.287</td>\n",
       "      <td>0.288</td>\n",
       "      <td>4.3089</td>\n",
       "      <td>0.288</td>\n",
       "      <td>2021-12-08</td>\n",
       "    </tr>\n",
       "    <tr>\n",
       "      <th>1</th>\n",
       "      <td>0.0</td>\n",
       "      <td>1639008000000</td>\n",
       "      <td>ok</td>\n",
       "      <td>0.288</td>\n",
       "      <td>0.288</td>\n",
       "      <td>0.288</td>\n",
       "      <td>0.0000</td>\n",
       "      <td>0.288</td>\n",
       "      <td>2021-12-09</td>\n",
       "    </tr>\n",
       "    <tr>\n",
       "      <th>2</th>\n",
       "      <td>0.0</td>\n",
       "      <td>1639094400000</td>\n",
       "      <td>ok</td>\n",
       "      <td>0.288</td>\n",
       "      <td>0.288</td>\n",
       "      <td>0.288</td>\n",
       "      <td>0.0000</td>\n",
       "      <td>0.288</td>\n",
       "      <td>2021-12-10</td>\n",
       "    </tr>\n",
       "  </tbody>\n",
       "</table>\n",
       "</div>"
      ],
      "text/plain": [
       "   volume          ticks status   open    low   high    cost  close  timestamp\n",
       "0    15.0  1638921600000     ok  0.287  0.287  0.288  4.3089  0.288 2021-12-08\n",
       "1     0.0  1639008000000     ok  0.288  0.288  0.288  0.0000  0.288 2021-12-09\n",
       "2     0.0  1639094400000     ok  0.288  0.288  0.288  0.0000  0.288 2021-12-10"
      ]
     },
     "execution_count": 531,
     "metadata": {},
     "output_type": "execute_result"
    }
   ],
   "source": [
    "time_period = '1D'\n",
    "\n",
    "option_data = api.get_historical_data(ts_creation,\n",
    "                                      ts_expiration,\n",
    "                                      instrument_data[\"instrument_name\"].iloc[0],\n",
    "                                      time_period)\n",
    "option_data.head(3)"
   ]
  },
  {
   "cell_type": "code",
   "execution_count": 532,
   "metadata": {},
   "outputs": [
    {
     "data": {
      "text/html": [
       "<div>\n",
       "<style scoped>\n",
       "    .dataframe tbody tr th:only-of-type {\n",
       "        vertical-align: middle;\n",
       "    }\n",
       "\n",
       "    .dataframe tbody tr th {\n",
       "        vertical-align: top;\n",
       "    }\n",
       "\n",
       "    .dataframe thead th {\n",
       "        text-align: right;\n",
       "    }\n",
       "</style>\n",
       "<table border=\"1\" class=\"dataframe\">\n",
       "  <thead>\n",
       "    <tr style=\"text-align: right;\">\n",
       "      <th></th>\n",
       "      <th>volume</th>\n",
       "      <th>ticks</th>\n",
       "      <th>status</th>\n",
       "      <th>open</th>\n",
       "      <th>low</th>\n",
       "      <th>high</th>\n",
       "      <th>cost</th>\n",
       "      <th>close</th>\n",
       "      <th>timestamp</th>\n",
       "    </tr>\n",
       "  </thead>\n",
       "  <tbody>\n",
       "    <tr>\n",
       "      <th>0</th>\n",
       "      <td>7600.653477</td>\n",
       "      <td>1638921600000</td>\n",
       "      <td>ok</td>\n",
       "      <td>50650.0</td>\n",
       "      <td>48522.0</td>\n",
       "      <td>51476.0</td>\n",
       "      <td>381684270.0</td>\n",
       "      <td>50526.5</td>\n",
       "      <td>2021-12-08</td>\n",
       "    </tr>\n",
       "    <tr>\n",
       "      <th>1</th>\n",
       "      <td>14724.158888</td>\n",
       "      <td>1639008000000</td>\n",
       "      <td>ok</td>\n",
       "      <td>50542.0</td>\n",
       "      <td>44881.5</td>\n",
       "      <td>51874.0</td>\n",
       "      <td>718141210.0</td>\n",
       "      <td>47600.5</td>\n",
       "      <td>2021-12-09</td>\n",
       "    </tr>\n",
       "    <tr>\n",
       "      <th>2</th>\n",
       "      <td>19974.299306</td>\n",
       "      <td>1639094400000</td>\n",
       "      <td>ok</td>\n",
       "      <td>47589.5</td>\n",
       "      <td>44144.0</td>\n",
       "      <td>52652.5</td>\n",
       "      <td>963911480.0</td>\n",
       "      <td>47184.0</td>\n",
       "      <td>2021-12-10</td>\n",
       "    </tr>\n",
       "  </tbody>\n",
       "</table>\n",
       "</div>"
      ],
      "text/plain": [
       "         volume          ticks status     open      low     high         cost  \\\n",
       "0   7600.653477  1638921600000     ok  50650.0  48522.0  51476.0  381684270.0   \n",
       "1  14724.158888  1639008000000     ok  50542.0  44881.5  51874.0  718141210.0   \n",
       "2  19974.299306  1639094400000     ok  47589.5  44144.0  52652.5  963911480.0   \n",
       "\n",
       "     close  timestamp  \n",
       "0  50526.5 2021-12-08  \n",
       "1  47600.5 2021-12-09  \n",
       "2  47184.0 2021-12-10  "
      ]
     },
     "execution_count": 532,
     "metadata": {},
     "output_type": "execute_result"
    }
   ],
   "source": [
    "# For BTC the underlying will be 'BTC-PERPETUAL' while for ETH it will be 'ETH-PERPETUAL'\n",
    "\n",
    "spot_data = api.get_historical_data(option_data.timestamp[0].timestamp()*1000,\n",
    "                                    ts_expiration,\n",
    "                                    \"BTC-PERPETUAL\",\n",
    "                                    time_period)\n",
    "spot_data.head(3)"
   ]
  },
  {
   "cell_type": "code",
   "execution_count": 533,
   "metadata": {},
   "outputs": [],
   "source": [
    "data = pd.merge(option_data,spot_data,how=\"left\",on=\"ticks\",suffixes=(\"_option\",\"_spot\"))"
   ]
  },
  {
   "cell_type": "code",
   "execution_count": 534,
   "metadata": {},
   "outputs": [],
   "source": [
    "unwanted = data.columns[data.columns.str.startswith('Unnamed')]\n",
    "data.drop(unwanted, axis=1, inplace=True)\n",
    "data.drop([\"timestamp_option\",\"timestamp_spot\"],axis=1, inplace=True)\n",
    "data['timestamp'] = data.ticks.apply(lambda x:dt.datetime.fromtimestamp(x/1000))"
   ]
  },
  {
   "cell_type": "code",
   "execution_count": 536,
   "metadata": {},
   "outputs": [],
   "source": [
    "strike = desired_strike\n",
    "\n",
    "if desired_option_type == 'call':\n",
    "    option_type = 'c'\n",
    "else:\n",
    "    option_type = 'p'\n",
    "expiry = month_end_expiry\n",
    "r = 0.01 # This is the risk-free interest rate. For short-dated options it doesn't matter much\n",
    "qty = 1277\n",
    "mult = 1\n",
    "is_delta_hedged = True"
   ]
  },
  {
   "cell_type": "code",
   "execution_count": 537,
   "metadata": {},
   "outputs": [],
   "source": [
    "data[\"time_to_expiry\"] = data.timestamp.apply(lambda x:expiry-x)\n",
    "data[\"days_to_expiry\"] = data[\"time_to_expiry\"].apply(lambda x: x.days)"
   ]
  },
  {
   "cell_type": "code",
   "execution_count": 538,
   "metadata": {},
   "outputs": [
    {
     "data": {
      "text/plain": [
       "numpy.datetime64('2022-02-25T08:00:00.000000000')"
      ]
     },
     "execution_count": 538,
     "metadata": {},
     "output_type": "execute_result"
    }
   ],
   "source": [
    "expiry"
   ]
  },
  {
   "cell_type": "code",
   "execution_count": 543,
   "metadata": {},
   "outputs": [
    {
     "data": {
      "text/plain": [
       "0   79 days 08:00:00\n",
       "1   78 days 08:00:00\n",
       "2   77 days 08:00:00\n",
       "Name: time_to_expiry, dtype: timedelta64[ns]"
      ]
     },
     "execution_count": 543,
     "metadata": {},
     "output_type": "execute_result"
    }
   ],
   "source": [
    "data[\"time_to_expiry\"].head(3)"
   ]
  },
  {
   "cell_type": "code",
   "execution_count": 544,
   "metadata": {},
   "outputs": [
    {
     "data": {
      "text/plain": [
       "0    79\n",
       "1    78\n",
       "2    77\n",
       "Name: days_to_expiry, dtype: int64"
      ]
     },
     "execution_count": 544,
     "metadata": {},
     "output_type": "execute_result"
    }
   ],
   "source": [
    "data[\"days_to_expiry\"].head(3)"
   ]
  },
  {
   "cell_type": "code",
   "execution_count": 545,
   "metadata": {},
   "outputs": [],
   "source": [
    "data['ivol_mid'] = implied_volatility(price=data['close_option'] * data['close_spot'],\n",
    "                                      S=data['close_spot'],\n",
    "                                      K=strike,\n",
    "                                      t=data['days_to_expiry']/365,\n",
    "                                      r=r,\n",
    "                                      flag=option_type, \n",
    "                                      return_as=\"series\")"
   ]
  },
  {
   "cell_type": "code",
   "execution_count": 554,
   "metadata": {},
   "outputs": [
    {
     "data": {
      "text/plain": [
       "0    79\n",
       "1    78\n",
       "2    77\n",
       "Name: days_to_expiry, dtype: int64"
      ]
     },
     "execution_count": 554,
     "metadata": {},
     "output_type": "execute_result"
    }
   ],
   "source": [
    "data['days_to_expiry'].head(3)"
   ]
  },
  {
   "cell_type": "code",
   "execution_count": 553,
   "metadata": {},
   "outputs": [
    {
     "data": {
      "text/plain": [
       "0    0.986819\n",
       "1    1.178354\n",
       "2    1.210759\n",
       "Name: ivol_mid, dtype: float64"
      ]
     },
     "execution_count": 553,
     "metadata": {},
     "output_type": "execute_result"
    }
   ],
   "source": [
    "data['ivol_mid'].head(3)"
   ]
  },
  {
   "cell_type": "code",
   "execution_count": 548,
   "metadata": {},
   "outputs": [],
   "source": [
    "data['delta_mid'] = py_vollib_vectorized.greeks.delta(option_type, data['close_spot'], \n",
    "        strike,data['days_to_expiry']/365, r, data[ 'ivol_mid'])"
   ]
  },
  {
   "cell_type": "code",
   "execution_count": 550,
   "metadata": {},
   "outputs": [],
   "source": [
    "data['daily_pnl_option'] = data['close_option'].diff() * qty * mult\n",
    "data[\"daily_pnl_spot\"] = data['close_spot'].diff() * data['delta_mid'].shift() * qty * mult\n",
    "ts = data['daily_pnl_option'] - data[\"daily_pnl_spot\"] * is_delta_hedged\n",
    "data['pnl'] = ts.cumsum()"
   ]
  },
  {
   "cell_type": "code",
   "execution_count": 551,
   "metadata": {},
   "outputs": [
    {
     "data": {
      "text/plain": [
       "0             NaN\n",
       "1    2.881956e+06\n",
       "2    3.267187e+06\n",
       "3    1.233956e+06\n",
       "4    5.220709e+05\n",
       "Name: pnl, dtype: float64"
      ]
     },
     "execution_count": 551,
     "metadata": {},
     "output_type": "execute_result"
    }
   ],
   "source": [
    "data['pnl'].head()"
   ]
  },
  {
   "cell_type": "code",
   "execution_count": 552,
   "metadata": {},
   "outputs": [
    {
     "data": {
      "text/plain": [
       "[<matplotlib.lines.Line2D at 0x28b09adf0>]"
      ]
     },
     "execution_count": 552,
     "metadata": {},
     "output_type": "execute_result"
    },
    {
     "data": {
      "image/png": "[encoded data removed]",
      "text/plain": [
       "<Figure size 432x288 with 1 Axes>"
      ]
     },
     "metadata": {
      "needs_background": "light"
     },
     "output_type": "display_data"
    }
   ],
   "source": [
    "plt.plot(data['pnl'])"
   ]
  }
 ],
 "metadata": {
  "interpreter": {
   "hash": "5837e5dafb424d45af8fe98987971bd7be9b57f37490d60dc5c42701fe6fbcee"
  },
  "kernelspec": {
   "display_name": "Python 3",
   "language": "python",
   "name": "python3"
  },
  "language_info": {
   "codemirror_mode": {
    "name": "ipython",
    "version": 3
   },
   "file_extension": ".py",
   "mimetype": "text/x-python",
   "name": "python",
   "nbconvert_exporter": "python",
   "pygments_lexer": "ipython3",
   "version": "3.9.1"
  }
 },
 "nbformat": 4,
 "nbformat_minor": 4
}
