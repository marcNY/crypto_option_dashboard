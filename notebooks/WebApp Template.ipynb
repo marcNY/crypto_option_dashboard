{
 "cells": [
  {
   "cell_type": "code",
   "execution_count": 115,
   "id": "baadaf52-13e4-4b85-a44d-71b1a98f66ed",
   "metadata": {},
   "outputs": [],
   "source": [
    "import pandas as pd, datetime as dt, matplotlib.pyplot as plt, numpy as np, streamlit as st, os, sys, nest_asyncio\n",
    "import py_vollib_vectorized\n",
    "\n",
    "from py_vollib.black_scholes import black_scholes\n",
    "from py_vollib.black_scholes.implied_volatility import implied_volatility\n",
    "from py_vollib.black_scholes.greeks.analytical import delta\n",
    "\n",
    "import datetime\n",
    "%matplotlib inline "
   ]
  },
  {
   "cell_type": "code",
   "execution_count": 116,
   "id": "df37083f-bbf2-46d6-acbf-e4a9b5a63863",
   "metadata": {},
   "outputs": [
    {
     "name": "stdout",
     "output_type": "stream",
     "text": [
      "/Users/nicolas/Projects/crypto_option_dashboard\n"
     ]
    }
   ],
   "source": [
    "# importing functions from the code base\n",
    "base_path = os.path.abspath(os.path.join('..'))\n",
    "print(base_path)\n",
    "if base_path not in sys.path:\n",
    "    sys.path.append(base_path)\n",
    "    \n",
    "import src.api as api"
   ]
  },
  {
   "cell_type": "markdown",
   "id": "0dd1dae4-d6e9-48a3-baa0-4b08620648e8",
   "metadata": {},
   "source": [
    "***\n",
    "## 1) Enter Inputs"
   ]
  },
  {
   "cell_type": "code",
   "execution_count": 117,
   "id": "3c8730ac-9a45-45e6-be39-f1f4d26ce501",
   "metadata": {},
   "outputs": [],
   "source": [
    "underlying = \"BTC\"  # Values can be 'BTC' or 'ETH'\n",
    "desired_option_type = \"Call\"  # Values can be 'Call' or 'Put'"
   ]
  },
  {
   "cell_type": "markdown",
   "id": "1cd42d2c-eb7a-4d7b-86be-6f3dfb692758",
   "metadata": {
    "tags": []
   },
   "source": [
    "***\n",
    "## 2) Identify the month-end option of the correct type for the chosen underlying"
   ]
  },
  {
   "cell_type": "code",
   "execution_count": 118,
   "id": "650fc04c-a47d-4577-81d8-2cb816456c2f",
   "metadata": {},
   "outputs": [
    {
     "data": {
      "text/html": [
       "<div>\n",
       "<style scoped>\n",
       "    .dataframe tbody tr th:only-of-type {\n",
       "        vertical-align: middle;\n",
       "    }\n",
       "\n",
       "    .dataframe tbody tr th {\n",
       "        vertical-align: top;\n",
       "    }\n",
       "\n",
       "    .dataframe thead th {\n",
       "        text-align: right;\n",
       "    }\n",
       "</style>\n",
       "<table border=\"1\" class=\"dataframe\">\n",
       "  <thead>\n",
       "    <tr style=\"text-align: right;\">\n",
       "      <th></th>\n",
       "      <th>tick_size</th>\n",
       "      <th>taker_commission</th>\n",
       "      <th>strike</th>\n",
       "      <th>settlement_period</th>\n",
       "      <th>settlement_currency</th>\n",
       "      <th>rfq</th>\n",
       "      <th>quote_currency</th>\n",
       "      <th>option_type</th>\n",
       "      <th>min_trade_amount</th>\n",
       "      <th>maker_commission</th>\n",
       "      <th>...</th>\n",
       "      <th>instrument_name</th>\n",
       "      <th>instrument_id</th>\n",
       "      <th>expiration_timestamp</th>\n",
       "      <th>creation_timestamp</th>\n",
       "      <th>counter_currency</th>\n",
       "      <th>contract_size</th>\n",
       "      <th>block_trade_commission</th>\n",
       "      <th>base_currency</th>\n",
       "      <th>creation_time</th>\n",
       "      <th>expiration_time</th>\n",
       "    </tr>\n",
       "  </thead>\n",
       "  <tbody>\n",
       "    <tr>\n",
       "      <th>0</th>\n",
       "      <td>0.0005</td>\n",
       "      <td>0.0003</td>\n",
       "      <td>30000.0</td>\n",
       "      <td>month</td>\n",
       "      <td>BTC</td>\n",
       "      <td>False</td>\n",
       "      <td>BTC</td>\n",
       "      <td>call</td>\n",
       "      <td>0.1</td>\n",
       "      <td>0.0003</td>\n",
       "      <td>...</td>\n",
       "      <td>BTC-24JUN22-30000-C</td>\n",
       "      <td>125666</td>\n",
       "      <td>1656057600000</td>\n",
       "      <td>1627994072000</td>\n",
       "      <td>USD</td>\n",
       "      <td>1.0</td>\n",
       "      <td>0.00015</td>\n",
       "      <td>BTC</td>\n",
       "      <td>2021-08-03 13:34:32</td>\n",
       "      <td>2022-06-24 09:00:00</td>\n",
       "    </tr>\n",
       "    <tr>\n",
       "      <th>1</th>\n",
       "      <td>0.0005</td>\n",
       "      <td>0.0003</td>\n",
       "      <td>45000.0</td>\n",
       "      <td>month</td>\n",
       "      <td>BTC</td>\n",
       "      <td>False</td>\n",
       "      <td>BTC</td>\n",
       "      <td>put</td>\n",
       "      <td>0.1</td>\n",
       "      <td>0.0003</td>\n",
       "      <td>...</td>\n",
       "      <td>BTC-25MAR22-45000-P</td>\n",
       "      <td>125665</td>\n",
       "      <td>1648195200000</td>\n",
       "      <td>1628197380000</td>\n",
       "      <td>USD</td>\n",
       "      <td>1.0</td>\n",
       "      <td>0.00015</td>\n",
       "      <td>BTC</td>\n",
       "      <td>2021-08-05 22:03:00</td>\n",
       "      <td>2022-03-25 08:00:00</td>\n",
       "    </tr>\n",
       "  </tbody>\n",
       "</table>\n",
       "<p>2 rows × 22 columns</p>\n",
       "</div>"
      ],
      "text/plain": [
       "   tick_size  taker_commission   strike settlement_period settlement_currency  \\\n",
       "0     0.0005            0.0003  30000.0             month                 BTC   \n",
       "1     0.0005            0.0003  45000.0             month                 BTC   \n",
       "\n",
       "     rfq quote_currency option_type  min_trade_amount  maker_commission  ...  \\\n",
       "0  False            BTC        call               0.1            0.0003  ...   \n",
       "1  False            BTC         put               0.1            0.0003  ...   \n",
       "\n",
       "       instrument_name  instrument_id expiration_timestamp  \\\n",
       "0  BTC-24JUN22-30000-C         125666        1656057600000   \n",
       "1  BTC-25MAR22-45000-P         125665        1648195200000   \n",
       "\n",
       "   creation_timestamp  counter_currency  contract_size block_trade_commission  \\\n",
       "0       1627994072000               USD            1.0                0.00015   \n",
       "1       1628197380000               USD            1.0                0.00015   \n",
       "\n",
       "   base_currency       creation_time     expiration_time  \n",
       "0            BTC 2021-08-03 13:34:32 2022-06-24 09:00:00  \n",
       "1            BTC 2021-08-05 22:03:00 2022-03-25 08:00:00  \n",
       "\n",
       "[2 rows x 22 columns]"
      ]
     },
     "execution_count": 118,
     "metadata": {},
     "output_type": "execute_result"
    }
   ],
   "source": [
    "nest_asyncio.apply()\n",
    "instruments = api.get_instruments(currency=underlying, kind=\"option\", expired=False)\n",
    "instruments.head(2)"
   ]
  },
  {
   "cell_type": "markdown",
   "id": "bc989fd9-3f9a-4d2f-9204-a98bf7cd31a7",
   "metadata": {},
   "source": [
    "#### 2)a) Identify what month we will be on in 3 days time"
   ]
  },
  {
   "cell_type": "code",
   "execution_count": 119,
   "id": "60d50d1e-59f3-4ddd-96ad-04ba13444ece",
   "metadata": {},
   "outputs": [
    {
     "name": "stdout",
     "output_type": "stream",
     "text": [
      "In 3 days time we will be in month March\n"
     ]
    }
   ],
   "source": [
    "desired_month = (dt.datetime.now() + dt.timedelta(days=3)).month\n",
    "datetime_object = datetime.datetime.strptime(str(desired_month), \"%m\")\n",
    "month_name = datetime_object.strftime(\"%B\")\n",
    "\n",
    "print(\"In 3 days time we will be in month \" + month_name)"
   ]
  },
  {
   "cell_type": "markdown",
   "id": "3923a181-274d-4437-bcf3-cc2bb692d981",
   "metadata": {},
   "source": [
    "#### 2)b) Get the last expiry for that month  (that expiry will be on the last Friday of the month)"
   ]
  },
  {
   "cell_type": "code",
   "execution_count": 120,
   "id": "0713b052-a5ec-4cc8-ad85-aeee6b6382cb",
   "metadata": {},
   "outputs": [
    {
     "name": "stdout",
     "output_type": "stream",
     "text": [
      "2022-03-25T08:00:00.000000000\n"
     ]
    }
   ],
   "source": [
    "# Get the last option expiring on that month\n",
    "expiry_dates = instruments.expiration_time.unique()\n",
    "expiry_months = expiry_dates.astype('datetime64[M]').astype(int) % 12 + 1\n",
    "\n",
    "month_end_expiry = np.datetime64(dt.datetime.now())\n",
    "\n",
    "for i in range(0, len(expiry_dates)):\n",
    "    if expiry_months[i] == desired_month and expiry_dates[i] > month_end_expiry:\n",
    "        month_end_expiry =  expiry_dates[i]\n",
    "\n",
    "print(month_end_expiry)"
   ]
  },
  {
   "cell_type": "markdown",
   "id": "aa5e83f4-a89c-4ea4-82d5-78414e75228f",
   "metadata": {},
   "source": [
    "#### 2)c) Get current spot (there are much better ways to do this)"
   ]
  },
  {
   "cell_type": "code",
   "execution_count": 121,
   "id": "ee6dec48-1bba-42a4-8e98-06d34c66e6e4",
   "metadata": {},
   "outputs": [
    {
     "name": "stdout",
     "output_type": "stream",
     "text": [
      "40988.625\n"
     ]
    }
   ],
   "source": [
    "temp = dt.datetime.now()\n",
    "today_dt = dt.datetime(year=temp.year, month=temp.month, day=temp.day, hour=temp.hour, minute=temp.minute)\n",
    "\n",
    "ts_today = today_dt.timestamp() * 1000\n",
    "spot_ohlcv = api.get_historical_data(ts_today, ts_today, underlying + \"-PERPETUAL\", \"1D\")\n",
    "\n",
    "spot = (spot_ohlcv['open'][0] + spot_ohlcv['close'][0] + spot_ohlcv['high'][0] + spot_ohlcv['low'][0]) / 4\n",
    "\n",
    "print(spot)"
   ]
  },
  {
   "cell_type": "markdown",
   "id": "9087bd47-2cd2-4af6-b1eb-67bfee43ea47",
   "metadata": {},
   "source": [
    "#### 2)d) Find the closest strike from the current spot among the ones available"
   ]
  },
  {
   "cell_type": "code",
   "execution_count": 122,
   "id": "34ced6ce-7f57-4f3d-a832-2bd5426ea417",
   "metadata": {},
   "outputs": [
    {
     "name": "stdout",
     "output_type": "stream",
     "text": [
      "40000.0\n"
     ]
    }
   ],
   "source": [
    "desired_option_type = desired_option_type.lower()\n",
    "\n",
    "strikes = instruments.loc[instruments['expiration_time'] == month_end_expiry].loc[instruments['option_type'] == desired_option_type].strike.unique()\n",
    "desired_strike = min(strikes, key=lambda x:abs(x-spot))\n",
    "\n",
    "print(desired_strike)"
   ]
  },
  {
   "cell_type": "markdown",
   "id": "f2e3328a-5dea-40d6-82c7-6e10332d48bb",
   "metadata": {
    "tags": []
   },
   "source": [
    "#### 2)e) Isolate the data related to the option we are looking to backtest"
   ]
  },
  {
   "cell_type": "code",
   "execution_count": 123,
   "id": "9c66bebe-67e4-416d-a4ab-27292ac36979",
   "metadata": {},
   "outputs": [
    {
     "data": {
      "text/html": [
       "<div>\n",
       "<style scoped>\n",
       "    .dataframe tbody tr th:only-of-type {\n",
       "        vertical-align: middle;\n",
       "    }\n",
       "\n",
       "    .dataframe tbody tr th {\n",
       "        vertical-align: top;\n",
       "    }\n",
       "\n",
       "    .dataframe thead th {\n",
       "        text-align: right;\n",
       "    }\n",
       "</style>\n",
       "<table border=\"1\" class=\"dataframe\">\n",
       "  <thead>\n",
       "    <tr style=\"text-align: right;\">\n",
       "      <th></th>\n",
       "      <th>tick_size</th>\n",
       "      <th>taker_commission</th>\n",
       "      <th>strike</th>\n",
       "      <th>settlement_period</th>\n",
       "      <th>settlement_currency</th>\n",
       "      <th>rfq</th>\n",
       "      <th>quote_currency</th>\n",
       "      <th>option_type</th>\n",
       "      <th>min_trade_amount</th>\n",
       "      <th>maker_commission</th>\n",
       "      <th>...</th>\n",
       "      <th>instrument_name</th>\n",
       "      <th>instrument_id</th>\n",
       "      <th>expiration_timestamp</th>\n",
       "      <th>creation_timestamp</th>\n",
       "      <th>counter_currency</th>\n",
       "      <th>contract_size</th>\n",
       "      <th>block_trade_commission</th>\n",
       "      <th>base_currency</th>\n",
       "      <th>creation_time</th>\n",
       "      <th>expiration_time</th>\n",
       "    </tr>\n",
       "  </thead>\n",
       "  <tbody>\n",
       "    <tr>\n",
       "      <th>193</th>\n",
       "      <td>0.0005</td>\n",
       "      <td>0.0003</td>\n",
       "      <td>40000.0</td>\n",
       "      <td>month</td>\n",
       "      <td>BTC</td>\n",
       "      <td>False</td>\n",
       "      <td>BTC</td>\n",
       "      <td>call</td>\n",
       "      <td>0.1</td>\n",
       "      <td>0.0003</td>\n",
       "      <td>...</td>\n",
       "      <td>BTC-25MAR22-40000-C</td>\n",
       "      <td>125019</td>\n",
       "      <td>1648195200000</td>\n",
       "      <td>1627994072000</td>\n",
       "      <td>USD</td>\n",
       "      <td>1.0</td>\n",
       "      <td>0.00015</td>\n",
       "      <td>BTC</td>\n",
       "      <td>2021-08-03 13:34:32</td>\n",
       "      <td>2022-03-25 08:00:00</td>\n",
       "    </tr>\n",
       "  </tbody>\n",
       "</table>\n",
       "<p>1 rows × 22 columns</p>\n",
       "</div>"
      ],
      "text/plain": [
       "     tick_size  taker_commission   strike settlement_period  \\\n",
       "193     0.0005            0.0003  40000.0             month   \n",
       "\n",
       "    settlement_currency    rfq quote_currency option_type  min_trade_amount  \\\n",
       "193                 BTC  False            BTC        call               0.1   \n",
       "\n",
       "     maker_commission  ...      instrument_name  instrument_id  \\\n",
       "193            0.0003  ...  BTC-25MAR22-40000-C         125019   \n",
       "\n",
       "    expiration_timestamp  creation_timestamp  counter_currency  contract_size  \\\n",
       "193        1648195200000       1627994072000               USD            1.0   \n",
       "\n",
       "    block_trade_commission  base_currency       creation_time  \\\n",
       "193                0.00015            BTC 2021-08-03 13:34:32   \n",
       "\n",
       "        expiration_time  \n",
       "193 2022-03-25 08:00:00  \n",
       "\n",
       "[1 rows x 22 columns]"
      ]
     },
     "execution_count": 123,
     "metadata": {},
     "output_type": "execute_result"
    }
   ],
   "source": [
    "instrument_data = instruments.loc[(instruments.expiration_time == month_end_expiry) \n",
    "                                  & (instruments.option_type == desired_option_type) \n",
    "                                  & (instruments.strike == desired_strike)]\n",
    "\n",
    "instrument_data"
   ]
  },
  {
   "cell_type": "markdown",
   "id": "8a372205-0565-4103-8276-c801cf8ce14f",
   "metadata": {},
   "source": [
    "***\n",
    "## 3) Fetch Historical Data from the Deribit API"
   ]
  },
  {
   "cell_type": "markdown",
   "id": "7a9bf915-bc52-48a2-ac46-582e8d70320d",
   "metadata": {},
   "source": [
    "#### 3)a) Get data of both spot and option historical levels"
   ]
  },
  {
   "cell_type": "code",
   "execution_count": 124,
   "id": "6868e938-9034-49c6-992b-1b78e4bd5387",
   "metadata": {},
   "outputs": [],
   "source": [
    "ts_creation = dt.datetime.fromtimestamp(instrument_data[\"creation_timestamp\"].values[0]/1000).replace(second = 0, microsecond = 0).timestamp() * 1000\n",
    "ts_start = int((dt.datetime.now() + dt.timedelta(days=-60)).timestamp() * 1000)\n",
    "ts_expiration = dt.datetime.fromtimestamp(instrument_data[\"expiration_timestamp\"].values[0]/1000).replace(second = 0, microsecond = 0).timestamp() * 1000"
   ]
  },
  {
   "cell_type": "code",
   "execution_count": 125,
   "id": "f905f017-9fbe-49d8-999f-12e13d3fca7f",
   "metadata": {},
   "outputs": [
    {
     "data": {
      "text/plain": [
       "[<matplotlib.lines.Line2D at 0x2983ebbe0>]"
      ]
     },
     "execution_count": 125,
     "metadata": {},
     "output_type": "execute_result"
    },
    {
     "data": {
      "image/png": "[encoded data removed]",
      "text/plain": [
       "<Figure size 432x288 with 1 Axes>"
      ]
     },
     "metadata": {
      "needs_background": "light"
     },
     "output_type": "display_data"
    }
   ],
   "source": [
    "time_period = '1D'\n",
    "option_data = api.get_historical_data(ts_start,\n",
    "                                      ts_expiration,\n",
    "                                      instrument_data[\"instrument_name\"].iloc[0],\n",
    "                                      time_period)\n",
    "plt.plot(option_data['timestamp'], option_data['close'])"
   ]
  },
  {
   "cell_type": "code",
   "execution_count": 126,
   "id": "3937d1d8-2570-4c9c-acd6-ef5f95e563de",
   "metadata": {},
   "outputs": [
    {
     "data": {
      "text/plain": [
       "[<matplotlib.lines.Line2D at 0x298583b80>]"
      ]
     },
     "execution_count": 126,
     "metadata": {},
     "output_type": "execute_result"
    },
    {
     "data": {
      "image/png": "[encoded data removed]",
      "text/plain": [
       "<Figure size 432x288 with 1 Axes>"
      ]
     },
     "metadata": {
      "needs_background": "light"
     },
     "output_type": "display_data"
    }
   ],
   "source": [
    "# For BTC the underlying will be 'BTC-PERPETUAL' while for ETH it will be 'ETH-PERPETUAL'\n",
    "spot_data = api.get_historical_data(option_data.timestamp[0].timestamp() * 1000,\n",
    "                                    ts_expiration,\n",
    "                                    underlying + \"-PERPETUAL\",\n",
    "                                    time_period)\n",
    "plt.plot(spot_data['timestamp'], spot_data['close'])"
   ]
  },
  {
   "cell_type": "markdown",
   "id": "ccd568e1-92c6-49a3-a58b-0ca31b5730a3",
   "metadata": {},
   "source": [
    "#### Clean up option_data to remove stale prices"
   ]
  },
  {
   "cell_type": "code",
   "execution_count": 127,
   "id": "0431ebef-b08a-498a-a7d6-5503235d82df",
   "metadata": {},
   "outputs": [
    {
     "data": {
      "text/html": [
       "<div>\n",
       "<style scoped>\n",
       "    .dataframe tbody tr th:only-of-type {\n",
       "        vertical-align: middle;\n",
       "    }\n",
       "\n",
       "    .dataframe tbody tr th {\n",
       "        vertical-align: top;\n",
       "    }\n",
       "\n",
       "    .dataframe thead th {\n",
       "        text-align: right;\n",
       "    }\n",
       "</style>\n",
       "<table border=\"1\" class=\"dataframe\">\n",
       "  <thead>\n",
       "    <tr style=\"text-align: right;\">\n",
       "      <th></th>\n",
       "      <th>volume</th>\n",
       "      <th>ticks</th>\n",
       "      <th>status</th>\n",
       "      <th>open</th>\n",
       "      <th>low</th>\n",
       "      <th>high</th>\n",
       "      <th>cost</th>\n",
       "      <th>close</th>\n",
       "      <th>timestamp</th>\n",
       "    </tr>\n",
       "  </thead>\n",
       "  <tbody>\n",
       "    <tr>\n",
       "      <th>0</th>\n",
       "      <td>0.0</td>\n",
       "      <td>1642291200000</td>\n",
       "      <td>ok</td>\n",
       "      <td>0.1765</td>\n",
       "      <td>0.1765</td>\n",
       "      <td>0.1765</td>\n",
       "      <td>0.00000</td>\n",
       "      <td>0.1765</td>\n",
       "      <td>2022-01-16</td>\n",
       "    </tr>\n",
       "    <tr>\n",
       "      <th>1</th>\n",
       "      <td>137.7</td>\n",
       "      <td>1642377600000</td>\n",
       "      <td>ok</td>\n",
       "      <td>0.1485</td>\n",
       "      <td>0.1400</td>\n",
       "      <td>0.1505</td>\n",
       "      <td>20.40180</td>\n",
       "      <td>0.1400</td>\n",
       "      <td>2022-01-17</td>\n",
       "    </tr>\n",
       "    <tr>\n",
       "      <th>2</th>\n",
       "      <td>14.7</td>\n",
       "      <td>1642464000000</td>\n",
       "      <td>ok</td>\n",
       "      <td>0.1350</td>\n",
       "      <td>0.1250</td>\n",
       "      <td>0.1380</td>\n",
       "      <td>1.96300</td>\n",
       "      <td>0.1250</td>\n",
       "      <td>2022-01-18</td>\n",
       "    </tr>\n",
       "    <tr>\n",
       "      <th>3</th>\n",
       "      <td>160.8</td>\n",
       "      <td>1642550400000</td>\n",
       "      <td>ok</td>\n",
       "      <td>0.1335</td>\n",
       "      <td>0.1335</td>\n",
       "      <td>0.1435</td>\n",
       "      <td>24.93020</td>\n",
       "      <td>0.1435</td>\n",
       "      <td>2022-01-19</td>\n",
       "    </tr>\n",
       "    <tr>\n",
       "      <th>4</th>\n",
       "      <td>364.5</td>\n",
       "      <td>1642636800000</td>\n",
       "      <td>ok</td>\n",
       "      <td>0.1375</td>\n",
       "      <td>0.1375</td>\n",
       "      <td>0.6370</td>\n",
       "      <td>204.29395</td>\n",
       "      <td>0.1430</td>\n",
       "      <td>2022-01-20</td>\n",
       "    </tr>\n",
       "  </tbody>\n",
       "</table>\n",
       "</div>"
      ],
      "text/plain": [
       "   volume          ticks status    open     low    high       cost   close  \\\n",
       "0     0.0  1642291200000     ok  0.1765  0.1765  0.1765    0.00000  0.1765   \n",
       "1   137.7  1642377600000     ok  0.1485  0.1400  0.1505   20.40180  0.1400   \n",
       "2    14.7  1642464000000     ok  0.1350  0.1250  0.1380    1.96300  0.1250   \n",
       "3   160.8  1642550400000     ok  0.1335  0.1335  0.1435   24.93020  0.1435   \n",
       "4   364.5  1642636800000     ok  0.1375  0.1375  0.6370  204.29395  0.1430   \n",
       "\n",
       "   timestamp  \n",
       "0 2022-01-16  \n",
       "1 2022-01-17  \n",
       "2 2022-01-18  \n",
       "3 2022-01-19  \n",
       "4 2022-01-20  "
      ]
     },
     "execution_count": 127,
     "metadata": {},
     "output_type": "execute_result"
    }
   ],
   "source": [
    "option_data.head()"
   ]
  },
  {
   "cell_type": "code",
   "execution_count": 129,
   "id": "a7923075-df50-4d7f-b1b4-2483df857e18",
   "metadata": {
    "tags": []
   },
   "outputs": [
    {
     "name": "stdout",
     "output_type": "stream",
     "text": [
      "0.11106168296897882\n"
     ]
    }
   ],
   "source": [
    "for index, row in option_data.iterrows():\n",
    "    if index == 0:\n",
    "        continue\n",
    "    if row['volume'] == 0.0:\n",
    "        days_to_expiry = (dt.datetime.fromtimestamp(ts_expiration / 1000) - dt.datetime.fromtimestamp(option_data['ticks'][index-1] / 1000)).days\n",
    "        # Imply vol from previous_close\n",
    "        implied_vol = implied_volatility(price=option_data['close'][index-1] * spot_data['close'][index-1],\n",
    "                                         S=spot_data['close'][index-1],\n",
    "                                         K=strike,\n",
    "                                         t=days_to_expiry/365,\n",
    "                                         r=r,\n",
    "                                         flag=option_type, \n",
    "                                         return_as=\"series\")\n",
    "        # Calculate the current price based on previous_close's vol\n",
    "        days_to_expiry = (dt.datetime.fromtimestamp(ts_expiration / 1000) - dt.datetime.fromtimestamp(option_data['ticks'][index] / 1000)).days\n",
    "        option_data.loc[index, 'close'] = black_scholes(flag=option_type, \n",
    "                                                        S=spot_data['close'][index],\n",
    "                                                        K=strike,\n",
    "                                                        t=days_to_expiry/365,\n",
    "                                                        r=r,\n",
    "                                                        sigma=implied_vol[0],\n",
    "                                                        return_as='numpy')[0] / spot_data['close'][index]\n",
    "        print(option_data.loc[index, 'close'])"
   ]
  },
  {
   "cell_type": "markdown",
   "id": "4b757820-680f-483f-a740-7d6da2ad1b6f",
   "metadata": {},
   "source": [
    "#### 3)b) Combine option and spot data together in a dataframe"
   ]
  },
  {
   "cell_type": "code",
   "execution_count": 130,
   "id": "560d0d83-c172-45c9-81c1-587518910c83",
   "metadata": {},
   "outputs": [],
   "source": [
    "data = pd.merge(option_data, spot_data, how=\"left\", on=\"ticks\", suffixes=(\"_option\",\"_spot\"))\n",
    "\n",
    "unwanted = data.columns[data.columns.str.startswith('Unnamed')]\n",
    "data.drop(unwanted, axis=1, inplace=True)\n",
    "data.drop([\"timestamp_option\",\"timestamp_spot\"],axis=1, inplace=True)\n",
    "data['timestamp'] = data.ticks.apply(lambda x:dt.datetime.fromtimestamp(x/1000))"
   ]
  },
  {
   "cell_type": "code",
   "execution_count": 131,
   "id": "f83c2ee5-a5b0-45ca-b59e-c38390a0b74c",
   "metadata": {},
   "outputs": [],
   "source": [
    "# Express the price of the option in USD\n",
    "data['close_option_usd'] = data.apply(lambda row: (row['close_option'] * row['close_spot']), axis=1)"
   ]
  },
  {
   "cell_type": "markdown",
   "id": "0720a310-5aa9-4178-9c0c-2369641fb7c1",
   "metadata": {},
   "source": [
    "#### 3)c) Set parameters for backtest"
   ]
  },
  {
   "cell_type": "code",
   "execution_count": 132,
   "id": "d73dab3d-8e44-4b96-86d7-80b7619bb0af",
   "metadata": {},
   "outputs": [],
   "source": [
    "strike = desired_strike\n",
    "\n",
    "if desired_option_type == 'call':\n",
    "    option_type = 'c'\n",
    "else:\n",
    "    option_type = 'p'\n",
    "expiry = month_end_expiry\n",
    "r = 0.01 # This is the risk-free interest rate. For short-dated options it doesn't matter much\n",
    "qty = 1\n",
    "mult = 1\n",
    "is_delta_hedged = True\n",
    "\n",
    "data[\"time_to_expiry\"] = data.timestamp.apply(lambda x:expiry-x)\n",
    "data[\"days_to_expiry\"] = data[\"time_to_expiry\"].apply(lambda x: x.days)"
   ]
  },
  {
   "cell_type": "markdown",
   "id": "681b3a18-0bae-4c86-816c-6b2b6200e674",
   "metadata": {},
   "source": [
    "***\n",
    "## 4) Backtest"
   ]
  },
  {
   "cell_type": "markdown",
   "id": "9077d505-03cf-406c-9fba-3083553949ef",
   "metadata": {
    "tags": []
   },
   "source": [
    "#### 4)a) Implied Volatility"
   ]
  },
  {
   "cell_type": "code",
   "execution_count": 148,
   "id": "c7cf1931-e6ff-44ae-bea0-5b18808d1e77",
   "metadata": {},
   "outputs": [
    {
     "data": {
      "text/plain": [
       "43193.0"
      ]
     },
     "execution_count": 148,
     "metadata": {},
     "output_type": "execute_result"
    }
   ],
   "source": [
    "data['close_spot'][43]"
   ]
  },
  {
   "cell_type": "code",
   "execution_count": 144,
   "id": "d6d8c47a-a205-427a-9d0c-55cf7fc3d453",
   "metadata": {},
   "outputs": [
    {
     "data": {
      "text/plain": [
       "43193.0"
      ]
     },
     "execution_count": 144,
     "metadata": {},
     "output_type": "execute_result"
    }
   ],
   "source": [
    "spot_data['close'][43]"
   ]
  },
  {
   "cell_type": "code",
   "execution_count": 145,
   "id": "8cc0757b-420a-449d-bea0-5b574427d797",
   "metadata": {},
   "outputs": [
    {
     "data": {
      "text/plain": [
       "0.0745"
      ]
     },
     "execution_count": 145,
     "metadata": {},
     "output_type": "execute_result"
    }
   ],
   "source": [
    "option_data['close'][43]"
   ]
  },
  {
   "cell_type": "code",
   "execution_count": 150,
   "id": "d9bcf136-0f9c-4a39-a232-4c4f8fc8d036",
   "metadata": {},
   "outputs": [
    {
     "data": {
      "text/plain": [
       "datetime.datetime(2022, 2, 28, 0, 0)"
      ]
     },
     "execution_count": 150,
     "metadata": {},
     "output_type": "execute_result"
    }
   ],
   "source": [
    "dt.datetime.fromtimestamp(1646006400000/1000)"
   ]
  },
  {
   "cell_type": "code",
   "execution_count": 140,
   "id": "e9abc5ba-5913-46c5-a4be-ec7ec7b0e2da",
   "metadata": {},
   "outputs": [
    {
     "data": {
      "text/html": [
       "<div>\n",
       "<style scoped>\n",
       "    .dataframe tbody tr th:only-of-type {\n",
       "        vertical-align: middle;\n",
       "    }\n",
       "\n",
       "    .dataframe tbody tr th {\n",
       "        vertical-align: top;\n",
       "    }\n",
       "\n",
       "    .dataframe thead th {\n",
       "        text-align: right;\n",
       "    }\n",
       "</style>\n",
       "<table border=\"1\" class=\"dataframe\">\n",
       "  <thead>\n",
       "    <tr style=\"text-align: right;\">\n",
       "      <th></th>\n",
       "      <th>volume_option</th>\n",
       "      <th>ticks</th>\n",
       "      <th>status_option</th>\n",
       "      <th>open_option</th>\n",
       "      <th>low_option</th>\n",
       "      <th>high_option</th>\n",
       "      <th>cost_option</th>\n",
       "      <th>close_option</th>\n",
       "      <th>volume_spot</th>\n",
       "      <th>status_spot</th>\n",
       "      <th>...</th>\n",
       "      <th>close_spot</th>\n",
       "      <th>timestamp</th>\n",
       "      <th>close_option_usd</th>\n",
       "      <th>time_to_expiry</th>\n",
       "      <th>days_to_expiry</th>\n",
       "      <th>ivol_mid</th>\n",
       "      <th>delta_mid</th>\n",
       "      <th>daily_pnl_option</th>\n",
       "      <th>daily_pnl_spot</th>\n",
       "      <th>pnl</th>\n",
       "    </tr>\n",
       "  </thead>\n",
       "  <tbody>\n",
       "    <tr>\n",
       "      <th>43</th>\n",
       "      <td>131.2</td>\n",
       "      <td>1646006400000</td>\n",
       "      <td>ok</td>\n",
       "      <td>0.0595</td>\n",
       "      <td>0.0535</td>\n",
       "      <td>0.0745</td>\n",
       "      <td>8.35785</td>\n",
       "      <td>0.0745</td>\n",
       "      <td>28984.549024</td>\n",
       "      <td>ok</td>\n",
       "      <td>...</td>\n",
       "      <td>43193.0</td>\n",
       "      <td>2022-02-28</td>\n",
       "      <td>3217.87850</td>\n",
       "      <td>25 days 08:00:00</td>\n",
       "      <td>25</td>\n",
       "      <td>NaN</td>\n",
       "      <td>NaN</td>\n",
       "      <td>1200.63425</td>\n",
       "      <td>2304.978487</td>\n",
       "      <td>-1883.371150</td>\n",
       "    </tr>\n",
       "    <tr>\n",
       "      <th>44</th>\n",
       "      <td>11.2</td>\n",
       "      <td>1646092800000</td>\n",
       "      <td>ok</td>\n",
       "      <td>0.0955</td>\n",
       "      <td>0.0955</td>\n",
       "      <td>0.1335</td>\n",
       "      <td>1.31865</td>\n",
       "      <td>0.1335</td>\n",
       "      <td>25749.128541</td>\n",
       "      <td>ok</td>\n",
       "      <td>...</td>\n",
       "      <td>44443.5</td>\n",
       "      <td>2022-03-01</td>\n",
       "      <td>5933.20725</td>\n",
       "      <td>24 days 08:00:00</td>\n",
       "      <td>24</td>\n",
       "      <td>0.746709</td>\n",
       "      <td>0.741934</td>\n",
       "      <td>2715.32875</td>\n",
       "      <td>NaN</td>\n",
       "      <td>NaN</td>\n",
       "    </tr>\n",
       "    <tr>\n",
       "      <th>45</th>\n",
       "      <td>12.5</td>\n",
       "      <td>1646179200000</td>\n",
       "      <td>ok</td>\n",
       "      <td>0.1335</td>\n",
       "      <td>0.1255</td>\n",
       "      <td>0.1345</td>\n",
       "      <td>1.64035</td>\n",
       "      <td>0.1315</td>\n",
       "      <td>7007.035644</td>\n",
       "      <td>ok</td>\n",
       "      <td>...</td>\n",
       "      <td>43923.5</td>\n",
       "      <td>2022-03-02</td>\n",
       "      <td>5775.94025</td>\n",
       "      <td>23 days 08:00:00</td>\n",
       "      <td>23</td>\n",
       "      <td>0.822792</td>\n",
       "      <td>0.712040</td>\n",
       "      <td>-157.26700</td>\n",
       "      <td>-385.805672</td>\n",
       "      <td>-1654.832478</td>\n",
       "    </tr>\n",
       "    <tr>\n",
       "      <th>46</th>\n",
       "      <td>63.9</td>\n",
       "      <td>1646265600000</td>\n",
       "      <td>ok</td>\n",
       "      <td>0.1255</td>\n",
       "      <td>0.0950</td>\n",
       "      <td>0.1255</td>\n",
       "      <td>7.12315</td>\n",
       "      <td>0.0985</td>\n",
       "      <td>10664.213768</td>\n",
       "      <td>ok</td>\n",
       "      <td>...</td>\n",
       "      <td>42465.5</td>\n",
       "      <td>2022-03-03</td>\n",
       "      <td>4182.85175</td>\n",
       "      <td>22 days 08:00:00</td>\n",
       "      <td>22</td>\n",
       "      <td>0.684970</td>\n",
       "      <td>0.671241</td>\n",
       "      <td>-1593.08850</td>\n",
       "      <td>-1038.154262</td>\n",
       "      <td>-2209.766716</td>\n",
       "    </tr>\n",
       "    <tr>\n",
       "      <th>47</th>\n",
       "      <td>56.9</td>\n",
       "      <td>1646352000000</td>\n",
       "      <td>ok</td>\n",
       "      <td>0.0875</td>\n",
       "      <td>0.0600</td>\n",
       "      <td>0.2490</td>\n",
       "      <td>4.99045</td>\n",
       "      <td>0.0600</td>\n",
       "      <td>7197.696235</td>\n",
       "      <td>ok</td>\n",
       "      <td>...</td>\n",
       "      <td>39130.0</td>\n",
       "      <td>2022-03-04</td>\n",
       "      <td>2347.80000</td>\n",
       "      <td>21 days 08:00:00</td>\n",
       "      <td>21</td>\n",
       "      <td>0.727665</td>\n",
       "      <td>0.485872</td>\n",
       "      <td>-1835.05175</td>\n",
       "      <td>-2238.925780</td>\n",
       "      <td>-1805.892687</td>\n",
       "    </tr>\n",
       "    <tr>\n",
       "      <th>48</th>\n",
       "      <td>48.6</td>\n",
       "      <td>1646438400000</td>\n",
       "      <td>ok</td>\n",
       "      <td>0.0590</td>\n",
       "      <td>0.0565</td>\n",
       "      <td>0.0595</td>\n",
       "      <td>2.87175</td>\n",
       "      <td>0.0590</td>\n",
       "      <td>7763.705064</td>\n",
       "      <td>ok</td>\n",
       "      <td>...</td>\n",
       "      <td>39374.5</td>\n",
       "      <td>2022-03-05</td>\n",
       "      <td>2323.09550</td>\n",
       "      <td>20 days 08:00:00</td>\n",
       "      <td>20</td>\n",
       "      <td>0.706263</td>\n",
       "      <td>0.496267</td>\n",
       "      <td>-24.70450</td>\n",
       "      <td>118.795601</td>\n",
       "      <td>-1949.392787</td>\n",
       "    </tr>\n",
       "    <tr>\n",
       "      <th>49</th>\n",
       "      <td>32.6</td>\n",
       "      <td>1646524800000</td>\n",
       "      <td>ok</td>\n",
       "      <td>0.0570</td>\n",
       "      <td>0.0455</td>\n",
       "      <td>0.0570</td>\n",
       "      <td>1.77785</td>\n",
       "      <td>0.0500</td>\n",
       "      <td>10527.189477</td>\n",
       "      <td>ok</td>\n",
       "      <td>...</td>\n",
       "      <td>38359.0</td>\n",
       "      <td>2022-03-06</td>\n",
       "      <td>1917.95000</td>\n",
       "      <td>19 days 08:00:00</td>\n",
       "      <td>19</td>\n",
       "      <td>0.744181</td>\n",
       "      <td>0.436929</td>\n",
       "      <td>-405.14550</td>\n",
       "      <td>-503.958730</td>\n",
       "      <td>-1850.579557</td>\n",
       "    </tr>\n",
       "    <tr>\n",
       "      <th>50</th>\n",
       "      <td>203.0</td>\n",
       "      <td>1646611200000</td>\n",
       "      <td>ok</td>\n",
       "      <td>0.0510</td>\n",
       "      <td>0.0425</td>\n",
       "      <td>0.0560</td>\n",
       "      <td>9.74225</td>\n",
       "      <td>0.0475</td>\n",
       "      <td>14231.767676</td>\n",
       "      <td>ok</td>\n",
       "      <td>...</td>\n",
       "      <td>38011.0</td>\n",
       "      <td>2022-03-07</td>\n",
       "      <td>1805.52250</td>\n",
       "      <td>18 days 08:00:00</td>\n",
       "      <td>18</td>\n",
       "      <td>0.775606</td>\n",
       "      <td>0.417950</td>\n",
       "      <td>-112.42750</td>\n",
       "      <td>-152.051304</td>\n",
       "      <td>-1810.955753</td>\n",
       "    </tr>\n",
       "    <tr>\n",
       "      <th>51</th>\n",
       "      <td>416.4</td>\n",
       "      <td>1646697600000</td>\n",
       "      <td>ok</td>\n",
       "      <td>0.0470</td>\n",
       "      <td>0.0430</td>\n",
       "      <td>0.0545</td>\n",
       "      <td>22.17240</td>\n",
       "      <td>0.0455</td>\n",
       "      <td>24927.783059</td>\n",
       "      <td>ok</td>\n",
       "      <td>...</td>\n",
       "      <td>38742.5</td>\n",
       "      <td>2022-03-08</td>\n",
       "      <td>1762.78375</td>\n",
       "      <td>17 days 08:00:00</td>\n",
       "      <td>17</td>\n",
       "      <td>0.688218</td>\n",
       "      <td>0.445254</td>\n",
       "      <td>-42.73875</td>\n",
       "      <td>305.730554</td>\n",
       "      <td>-2159.425057</td>\n",
       "    </tr>\n",
       "    <tr>\n",
       "      <th>52</th>\n",
       "      <td>185.7</td>\n",
       "      <td>1646784000000</td>\n",
       "      <td>ok</td>\n",
       "      <td>0.0490</td>\n",
       "      <td>0.0490</td>\n",
       "      <td>0.2870</td>\n",
       "      <td>14.34305</td>\n",
       "      <td>0.2870</td>\n",
       "      <td>43183.903993</td>\n",
       "      <td>ok</td>\n",
       "      <td>...</td>\n",
       "      <td>41955.5</td>\n",
       "      <td>2022-03-09</td>\n",
       "      <td>12041.22850</td>\n",
       "      <td>16 days 08:00:00</td>\n",
       "      <td>16</td>\n",
       "      <td>3.286615</td>\n",
       "      <td>0.660585</td>\n",
       "      <td>10278.44475</td>\n",
       "      <td>1430.600307</td>\n",
       "      <td>6688.419386</td>\n",
       "    </tr>\n",
       "    <tr>\n",
       "      <th>53</th>\n",
       "      <td>236.5</td>\n",
       "      <td>1646870400000</td>\n",
       "      <td>ok</td>\n",
       "      <td>0.2870</td>\n",
       "      <td>0.0385</td>\n",
       "      <td>0.2870</td>\n",
       "      <td>10.92120</td>\n",
       "      <td>0.0510</td>\n",
       "      <td>25751.476464</td>\n",
       "      <td>ok</td>\n",
       "      <td>...</td>\n",
       "      <td>39425.5</td>\n",
       "      <td>2022-03-10</td>\n",
       "      <td>2010.70050</td>\n",
       "      <td>15 days 08:00:00</td>\n",
       "      <td>15</td>\n",
       "      <td>0.710316</td>\n",
       "      <td>0.489783</td>\n",
       "      <td>-10030.52800</td>\n",
       "      <td>-1671.278831</td>\n",
       "      <td>-1670.829783</td>\n",
       "    </tr>\n",
       "    <tr>\n",
       "      <th>54</th>\n",
       "      <td>62.9</td>\n",
       "      <td>1646956800000</td>\n",
       "      <td>ok</td>\n",
       "      <td>0.0425</td>\n",
       "      <td>0.0425</td>\n",
       "      <td>0.0515</td>\n",
       "      <td>3.02345</td>\n",
       "      <td>0.0510</td>\n",
       "      <td>13826.841135</td>\n",
       "      <td>ok</td>\n",
       "      <td>...</td>\n",
       "      <td>38734.0</td>\n",
       "      <td>2022-03-11</td>\n",
       "      <td>1975.43400</td>\n",
       "      <td>14 days 08:00:00</td>\n",
       "      <td>14</td>\n",
       "      <td>0.830895</td>\n",
       "      <td>0.454651</td>\n",
       "      <td>-35.26650</td>\n",
       "      <td>-338.684839</td>\n",
       "      <td>-1367.411444</td>\n",
       "    </tr>\n",
       "    <tr>\n",
       "      <th>55</th>\n",
       "      <td>13.3</td>\n",
       "      <td>1647043200000</td>\n",
       "      <td>ok</td>\n",
       "      <td>0.0515</td>\n",
       "      <td>0.0445</td>\n",
       "      <td>0.0515</td>\n",
       "      <td>0.60235</td>\n",
       "      <td>0.0445</td>\n",
       "      <td>8764.888696</td>\n",
       "      <td>ok</td>\n",
       "      <td>...</td>\n",
       "      <td>38806.5</td>\n",
       "      <td>2022-03-12</td>\n",
       "      <td>1726.88925</td>\n",
       "      <td>13 days 08:00:00</td>\n",
       "      <td>13</td>\n",
       "      <td>0.765322</td>\n",
       "      <td>0.446289</td>\n",
       "      <td>-248.54475</td>\n",
       "      <td>32.962201</td>\n",
       "      <td>-1648.918395</td>\n",
       "    </tr>\n",
       "    <tr>\n",
       "      <th>56</th>\n",
       "      <td>17.3</td>\n",
       "      <td>1647129600000</td>\n",
       "      <td>ok</td>\n",
       "      <td>0.0440</td>\n",
       "      <td>0.0385</td>\n",
       "      <td>0.0440</td>\n",
       "      <td>0.75245</td>\n",
       "      <td>0.0405</td>\n",
       "      <td>7746.134677</td>\n",
       "      <td>ok</td>\n",
       "      <td>...</td>\n",
       "      <td>37774.0</td>\n",
       "      <td>2022-03-13</td>\n",
       "      <td>1529.84700</td>\n",
       "      <td>12 days 08:00:00</td>\n",
       "      <td>12</td>\n",
       "      <td>0.883272</td>\n",
       "      <td>0.391508</td>\n",
       "      <td>-197.04225</td>\n",
       "      <td>-460.792879</td>\n",
       "      <td>-1385.167766</td>\n",
       "    </tr>\n",
       "    <tr>\n",
       "      <th>57</th>\n",
       "      <td>165.9</td>\n",
       "      <td>1647216000000</td>\n",
       "      <td>ok</td>\n",
       "      <td>0.0330</td>\n",
       "      <td>0.0325</td>\n",
       "      <td>0.0445</td>\n",
       "      <td>6.33055</td>\n",
       "      <td>0.0445</td>\n",
       "      <td>15518.505476</td>\n",
       "      <td>ok</td>\n",
       "      <td>...</td>\n",
       "      <td>39698.0</td>\n",
       "      <td>2022-03-14</td>\n",
       "      <td>1766.56100</td>\n",
       "      <td>11 days 08:00:00</td>\n",
       "      <td>11</td>\n",
       "      <td>0.691889</td>\n",
       "      <td>0.499788</td>\n",
       "      <td>236.71400</td>\n",
       "      <td>753.261717</td>\n",
       "      <td>-1901.715482</td>\n",
       "    </tr>\n",
       "    <tr>\n",
       "      <th>58</th>\n",
       "      <td>339.6</td>\n",
       "      <td>1647302400000</td>\n",
       "      <td>ok</td>\n",
       "      <td>0.0445</td>\n",
       "      <td>0.0375</td>\n",
       "      <td>0.0550</td>\n",
       "      <td>14.08210</td>\n",
       "      <td>0.0460</td>\n",
       "      <td>9619.652303</td>\n",
       "      <td>ok</td>\n",
       "      <td>...</td>\n",
       "      <td>39299.5</td>\n",
       "      <td>2022-03-15</td>\n",
       "      <td>1807.77700</td>\n",
       "      <td>10 days 08:00:00</td>\n",
       "      <td>10</td>\n",
       "      <td>0.816139</td>\n",
       "      <td>0.475595</td>\n",
       "      <td>41.21600</td>\n",
       "      <td>-199.165506</td>\n",
       "      <td>-1661.333976</td>\n",
       "    </tr>\n",
       "    <tr>\n",
       "      <th>59</th>\n",
       "      <td>1782.9</td>\n",
       "      <td>1647388800000</td>\n",
       "      <td>ok</td>\n",
       "      <td>0.0740</td>\n",
       "      <td>0.0005</td>\n",
       "      <td>0.3005</td>\n",
       "      <td>94.04457</td>\n",
       "      <td>0.0635</td>\n",
       "      <td>40187.194368</td>\n",
       "      <td>ok</td>\n",
       "      <td>...</td>\n",
       "      <td>41139.5</td>\n",
       "      <td>2022-03-16</td>\n",
       "      <td>2612.35825</td>\n",
       "      <td>9 days 08:00:00</td>\n",
       "      <td>9</td>\n",
       "      <td>0.781658</td>\n",
       "      <td>0.614944</td>\n",
       "      <td>804.58125</td>\n",
       "      <td>875.093892</td>\n",
       "      <td>-1731.846619</td>\n",
       "    </tr>\n",
       "    <tr>\n",
       "      <th>60</th>\n",
       "      <td>1204.7</td>\n",
       "      <td>1647475200000</td>\n",
       "      <td>ok</td>\n",
       "      <td>0.0595</td>\n",
       "      <td>0.0530</td>\n",
       "      <td>0.0595</td>\n",
       "      <td>67.75947</td>\n",
       "      <td>0.0560</td>\n",
       "      <td>7538.642531</td>\n",
       "      <td>ok</td>\n",
       "      <td>...</td>\n",
       "      <td>40934.0</td>\n",
       "      <td>2022-03-17</td>\n",
       "      <td>2292.30400</td>\n",
       "      <td>8 days 08:00:00</td>\n",
       "      <td>8</td>\n",
       "      <td>0.745813</td>\n",
       "      <td>0.604971</td>\n",
       "      <td>-320.05425</td>\n",
       "      <td>-126.371006</td>\n",
       "      <td>-1925.529863</td>\n",
       "    </tr>\n",
       "  </tbody>\n",
       "</table>\n",
       "<p>18 rows × 24 columns</p>\n",
       "</div>"
      ],
      "text/plain": [
       "    volume_option          ticks status_option  open_option  low_option  \\\n",
       "43          131.2  1646006400000            ok       0.0595      0.0535   \n",
       "44           11.2  1646092800000            ok       0.0955      0.0955   \n",
       "45           12.5  1646179200000            ok       0.1335      0.1255   \n",
       "46           63.9  1646265600000            ok       0.1255      0.0950   \n",
       "47           56.9  1646352000000            ok       0.0875      0.0600   \n",
       "48           48.6  1646438400000            ok       0.0590      0.0565   \n",
       "49           32.6  1646524800000            ok       0.0570      0.0455   \n",
       "50          203.0  1646611200000            ok       0.0510      0.0425   \n",
       "51          416.4  1646697600000            ok       0.0470      0.0430   \n",
       "52          185.7  1646784000000            ok       0.0490      0.0490   \n",
       "53          236.5  1646870400000            ok       0.2870      0.0385   \n",
       "54           62.9  1646956800000            ok       0.0425      0.0425   \n",
       "55           13.3  1647043200000            ok       0.0515      0.0445   \n",
       "56           17.3  1647129600000            ok       0.0440      0.0385   \n",
       "57          165.9  1647216000000            ok       0.0330      0.0325   \n",
       "58          339.6  1647302400000            ok       0.0445      0.0375   \n",
       "59         1782.9  1647388800000            ok       0.0740      0.0005   \n",
       "60         1204.7  1647475200000            ok       0.0595      0.0530   \n",
       "\n",
       "    high_option  cost_option  close_option   volume_spot status_spot  ...  \\\n",
       "43       0.0745      8.35785        0.0745  28984.549024          ok  ...   \n",
       "44       0.1335      1.31865        0.1335  25749.128541          ok  ...   \n",
       "45       0.1345      1.64035        0.1315   7007.035644          ok  ...   \n",
       "46       0.1255      7.12315        0.0985  10664.213768          ok  ...   \n",
       "47       0.2490      4.99045        0.0600   7197.696235          ok  ...   \n",
       "48       0.0595      2.87175        0.0590   7763.705064          ok  ...   \n",
       "49       0.0570      1.77785        0.0500  10527.189477          ok  ...   \n",
       "50       0.0560      9.74225        0.0475  14231.767676          ok  ...   \n",
       "51       0.0545     22.17240        0.0455  24927.783059          ok  ...   \n",
       "52       0.2870     14.34305        0.2870  43183.903993          ok  ...   \n",
       "53       0.2870     10.92120        0.0510  25751.476464          ok  ...   \n",
       "54       0.0515      3.02345        0.0510  13826.841135          ok  ...   \n",
       "55       0.0515      0.60235        0.0445   8764.888696          ok  ...   \n",
       "56       0.0440      0.75245        0.0405   7746.134677          ok  ...   \n",
       "57       0.0445      6.33055        0.0445  15518.505476          ok  ...   \n",
       "58       0.0550     14.08210        0.0460   9619.652303          ok  ...   \n",
       "59       0.3005     94.04457        0.0635  40187.194368          ok  ...   \n",
       "60       0.0595     67.75947        0.0560   7538.642531          ok  ...   \n",
       "\n",
       "    close_spot  timestamp  close_option_usd   time_to_expiry  days_to_expiry  \\\n",
       "43     43193.0 2022-02-28        3217.87850 25 days 08:00:00              25   \n",
       "44     44443.5 2022-03-01        5933.20725 24 days 08:00:00              24   \n",
       "45     43923.5 2022-03-02        5775.94025 23 days 08:00:00              23   \n",
       "46     42465.5 2022-03-03        4182.85175 22 days 08:00:00              22   \n",
       "47     39130.0 2022-03-04        2347.80000 21 days 08:00:00              21   \n",
       "48     39374.5 2022-03-05        2323.09550 20 days 08:00:00              20   \n",
       "49     38359.0 2022-03-06        1917.95000 19 days 08:00:00              19   \n",
       "50     38011.0 2022-03-07        1805.52250 18 days 08:00:00              18   \n",
       "51     38742.5 2022-03-08        1762.78375 17 days 08:00:00              17   \n",
       "52     41955.5 2022-03-09       12041.22850 16 days 08:00:00              16   \n",
       "53     39425.5 2022-03-10        2010.70050 15 days 08:00:00              15   \n",
       "54     38734.0 2022-03-11        1975.43400 14 days 08:00:00              14   \n",
       "55     38806.5 2022-03-12        1726.88925 13 days 08:00:00              13   \n",
       "56     37774.0 2022-03-13        1529.84700 12 days 08:00:00              12   \n",
       "57     39698.0 2022-03-14        1766.56100 11 days 08:00:00              11   \n",
       "58     39299.5 2022-03-15        1807.77700 10 days 08:00:00              10   \n",
       "59     41139.5 2022-03-16        2612.35825  9 days 08:00:00               9   \n",
       "60     40934.0 2022-03-17        2292.30400  8 days 08:00:00               8   \n",
       "\n",
       "    ivol_mid  delta_mid daily_pnl_option  daily_pnl_spot          pnl  \n",
       "43       NaN        NaN       1200.63425     2304.978487 -1883.371150  \n",
       "44  0.746709   0.741934       2715.32875             NaN          NaN  \n",
       "45  0.822792   0.712040       -157.26700     -385.805672 -1654.832478  \n",
       "46  0.684970   0.671241      -1593.08850    -1038.154262 -2209.766716  \n",
       "47  0.727665   0.485872      -1835.05175    -2238.925780 -1805.892687  \n",
       "48  0.706263   0.496267        -24.70450      118.795601 -1949.392787  \n",
       "49  0.744181   0.436929       -405.14550     -503.958730 -1850.579557  \n",
       "50  0.775606   0.417950       -112.42750     -152.051304 -1810.955753  \n",
       "51  0.688218   0.445254        -42.73875      305.730554 -2159.425057  \n",
       "52  3.286615   0.660585      10278.44475     1430.600307  6688.419386  \n",
       "53  0.710316   0.489783     -10030.52800    -1671.278831 -1670.829783  \n",
       "54  0.830895   0.454651        -35.26650     -338.684839 -1367.411444  \n",
       "55  0.765322   0.446289       -248.54475       32.962201 -1648.918395  \n",
       "56  0.883272   0.391508       -197.04225     -460.792879 -1385.167766  \n",
       "57  0.691889   0.499788        236.71400      753.261717 -1901.715482  \n",
       "58  0.816139   0.475595         41.21600     -199.165506 -1661.333976  \n",
       "59  0.781658   0.614944        804.58125      875.093892 -1731.846619  \n",
       "60  0.745813   0.604971       -320.05425     -126.371006 -1925.529863  \n",
       "\n",
       "[18 rows x 24 columns]"
      ]
     },
     "execution_count": 140,
     "metadata": {},
     "output_type": "execute_result"
    }
   ],
   "source": [
    "data[43:]"
   ]
  },
  {
   "cell_type": "code",
   "execution_count": 133,
   "id": "1be69c6a-d2c0-4021-86e2-2dbc27d08319",
   "metadata": {},
   "outputs": [
    {
     "name": "stderr",
     "output_type": "stream",
     "text": [
      "/Users/nicolas/miniconda3/envs/py38/lib/python3.8/site-packages/py_vollib_vectorized/implied_volatility.py:75: UserWarning: Found Below Intrinsic contracts at index [43]\n",
      "  below_intrinsic, above_max_price = _check_below_and_above_intrinsic(K, F, flag, undiscounted_option_price, on_error)\n"
     ]
    },
    {
     "data": {
      "text/plain": [
       "[<matplotlib.lines.Line2D at 0x2985ec490>]"
      ]
     },
     "execution_count": 133,
     "metadata": {},
     "output_type": "execute_result"
    },
    {
     "data": {
      "image/png": "[encoded data removed]",
      "text/plain": [
       "<Figure size 432x288 with 1 Axes>"
      ]
     },
     "metadata": {
      "needs_background": "light"
     },
     "output_type": "display_data"
    }
   ],
   "source": [
    "data['ivol_mid'] = implied_volatility(price=data['close_option_usd'],\n",
    "                                      S=data['close_spot'],\n",
    "                                      K=strike,\n",
    "                                      t=data['days_to_expiry']/365,\n",
    "                                      r=r,\n",
    "                                      flag=option_type, \n",
    "                                      return_as=\"series\")\n",
    "plt.plot(data['ivol_mid'])"
   ]
  },
  {
   "cell_type": "markdown",
   "id": "a3926131-9c09-41dc-b395-873fa3b0c073",
   "metadata": {
    "tags": []
   },
   "source": [
    "#### 4)b) Delta"
   ]
  },
  {
   "cell_type": "code",
   "execution_count": 134,
   "id": "e97dbc13-205a-4166-8b79-7f1dc1efc70b",
   "metadata": {},
   "outputs": [
    {
     "data": {
      "text/plain": [
       "[<matplotlib.lines.Line2D at 0x29864f310>]"
      ]
     },
     "execution_count": 134,
     "metadata": {},
     "output_type": "execute_result"
    },
    {
     "data": {
      "image/png": "[encoded data removed]",
      "text/plain": [
       "<Figure size 432x288 with 1 Axes>"
      ]
     },
     "metadata": {
      "needs_background": "light"
     },
     "output_type": "display_data"
    }
   ],
   "source": [
    "data['delta_mid'] = py_vollib_vectorized.greeks.delta(option_type, data['close_spot'], \n",
    "        strike,data['days_to_expiry']/365, r, data[ 'ivol_mid'])\n",
    "plt.plot(data['delta_mid'])"
   ]
  },
  {
   "cell_type": "markdown",
   "id": "bf91d557-17a4-490d-8467-74d30f44ce0c",
   "metadata": {},
   "source": [
    "#### 4)c) PnL"
   ]
  },
  {
   "cell_type": "code",
   "execution_count": 135,
   "id": "46c39d6b-dc3a-447b-8ee3-0448d5c81b2d",
   "metadata": {},
   "outputs": [],
   "source": [
    "data['daily_pnl_option'] = data['close_option_usd'].diff() * qty * mult\n",
    "data[\"daily_pnl_spot\"] = data['close_spot'].diff() * data['delta_mid'].shift() * qty * mult\n",
    "ts = data['daily_pnl_option'] - data[\"daily_pnl_spot\"] * is_delta_hedged\n",
    "data['pnl'] = ts.cumsum()"
   ]
  },
  {
   "cell_type": "code",
   "execution_count": 136,
   "id": "af81d932-de6b-4fb2-8405-1214fff88edf",
   "metadata": {},
   "outputs": [
    {
     "data": {
      "text/plain": [
       "[<matplotlib.lines.Line2D at 0x2986af4f0>]"
      ]
     },
     "execution_count": 136,
     "metadata": {},
     "output_type": "execute_result"
    },
    {
     "data": {
      "image/png": "[encoded data removed]",
      "text/plain": [
       "<Figure size 432x288 with 1 Axes>"
      ]
     },
     "metadata": {
      "needs_background": "light"
     },
     "output_type": "display_data"
    }
   ],
   "source": [
    "plt.plot(data['daily_pnl_option'])"
   ]
  },
  {
   "cell_type": "code",
   "execution_count": 137,
   "id": "a35d1b52",
   "metadata": {},
   "outputs": [
    {
     "data": {
      "image/png": "[encoded data removed]",
      "text/plain": [
       "<Figure size 432x288 with 1 Axes>"
      ]
     },
     "metadata": {
      "needs_background": "light"
     },
     "output_type": "display_data"
    }
   ],
   "source": [
    "plt.plot(data['timestamp'],data['pnl']);"
   ]
  },
  {
   "cell_type": "code",
   "execution_count": 138,
   "id": "7e204806-c2cd-4531-ad4f-696a824b6fac",
   "metadata": {},
   "outputs": [
    {
     "data": {
      "text/plain": [
       "[<matplotlib.lines.Line2D at 0x17959dfa0>]"
      ]
     },
     "execution_count": 138,
     "metadata": {},
     "output_type": "execute_result"
    },
    {
     "data": {
      "image/png": "[encoded data removed]",
      "text/plain": [
       "<Figure size 432x288 with 1 Axes>"
      ]
     },
     "metadata": {
      "needs_background": "light"
     },
     "output_type": "display_data"
    }
   ],
   "source": [
    "plt.plot(data[\"daily_pnl_spot\"])"
   ]
  }
 ],
 "metadata": {
  "kernelspec": {
   "display_name": "Python 3 (ipykernel)",
   "language": "python",
   "name": "python3"
  },
  "language_info": {
   "codemirror_mode": {
    "name": "ipython",
    "version": 3
   },
   "file_extension": ".py",
   "mimetype": "text/x-python",
   "name": "python",
   "nbconvert_exporter": "python",
   "pygments_lexer": "ipython3",
   "version": "3.8.12"
  }
 },
 "nbformat": 4,
 "nbformat_minor": 5
}
