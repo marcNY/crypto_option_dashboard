{
 "cells": [
  {
   "cell_type": "code",
   "execution_count": 149,
   "id": "baadaf52-13e4-4b85-a44d-71b1a98f66ed",
   "metadata": {},
   "outputs": [],
   "source": [
    "import pandas as pd, datetime as dt, matplotlib.pyplot as plt, numpy as np, streamlit as st, os, sys, nest_asyncio\n",
    "import py_vollib_vectorized\n",
    "\n",
    "from py_vollib.black_scholes import black_scholes\n",
    "from py_vollib.black_scholes.greeks.analytical import delta\n",
    "from py_vollib.black_scholes.implied_volatility import implied_volatility\n",
    "from py_vollib.black_scholes.greeks.analytical import delta\n",
    "\n",
    "import datetime, warnings\n",
    "%matplotlib inline "
   ]
  },
  {
   "cell_type": "code",
   "execution_count": 122,
   "id": "df37083f-bbf2-46d6-acbf-e4a9b5a63863",
   "metadata": {},
   "outputs": [
    {
     "name": "stdout",
     "output_type": "stream",
     "text": [
      "/Users/nicolas/Projects/crypto_option_dashboard\n"
     ]
    }
   ],
   "source": [
    "# importing functions from the code base\n",
    "base_path = os.path.abspath(os.path.join('..'))\n",
    "print(base_path)\n",
    "if base_path not in sys.path:\n",
    "    sys.path.append(base_path)\n",
    "    \n",
    "import src.api as api"
   ]
  },
  {
   "cell_type": "markdown",
   "id": "0dd1dae4-d6e9-48a3-baa0-4b08620648e8",
   "metadata": {},
   "source": [
    "***\n",
    "## 1) Enter Inputs"
   ]
  },
  {
   "cell_type": "code",
   "execution_count": 123,
   "id": "3c8730ac-9a45-45e6-be39-f1f4d26ce501",
   "metadata": {},
   "outputs": [],
   "source": [
    "underlying = \"BTC\"  # Values can be 'BTC' or 'ETH'\n",
    "desired_option_type = \"Call\"  # Values can be 'Call' or 'Put'"
   ]
  },
  {
   "cell_type": "markdown",
   "id": "1cd42d2c-eb7a-4d7b-86be-6f3dfb692758",
   "metadata": {
    "tags": []
   },
   "source": [
    "***\n",
    "## 2) Identify the month-end option of the correct type for the chosen underlying"
   ]
  },
  {
   "cell_type": "code",
   "execution_count": 124,
   "id": "650fc04c-a47d-4577-81d8-2cb816456c2f",
   "metadata": {},
   "outputs": [
    {
     "data": {
      "text/html": [
       "<div>\n",
       "<style scoped>\n",
       "    .dataframe tbody tr th:only-of-type {\n",
       "        vertical-align: middle;\n",
       "    }\n",
       "\n",
       "    .dataframe tbody tr th {\n",
       "        vertical-align: top;\n",
       "    }\n",
       "\n",
       "    .dataframe thead th {\n",
       "        text-align: right;\n",
       "    }\n",
       "</style>\n",
       "<table border=\"1\" class=\"dataframe\">\n",
       "  <thead>\n",
       "    <tr style=\"text-align: right;\">\n",
       "      <th></th>\n",
       "      <th>tick_size</th>\n",
       "      <th>taker_commission</th>\n",
       "      <th>strike</th>\n",
       "      <th>settlement_period</th>\n",
       "      <th>settlement_currency</th>\n",
       "      <th>rfq</th>\n",
       "      <th>quote_currency</th>\n",
       "      <th>option_type</th>\n",
       "      <th>min_trade_amount</th>\n",
       "      <th>maker_commission</th>\n",
       "      <th>...</th>\n",
       "      <th>instrument_name</th>\n",
       "      <th>instrument_id</th>\n",
       "      <th>expiration_timestamp</th>\n",
       "      <th>creation_timestamp</th>\n",
       "      <th>counter_currency</th>\n",
       "      <th>contract_size</th>\n",
       "      <th>block_trade_commission</th>\n",
       "      <th>base_currency</th>\n",
       "      <th>creation_time</th>\n",
       "      <th>expiration_time</th>\n",
       "    </tr>\n",
       "  </thead>\n",
       "  <tbody>\n",
       "    <tr>\n",
       "      <th>0</th>\n",
       "      <td>0.0005</td>\n",
       "      <td>0.0003</td>\n",
       "      <td>30000.0</td>\n",
       "      <td>month</td>\n",
       "      <td>BTC</td>\n",
       "      <td>False</td>\n",
       "      <td>BTC</td>\n",
       "      <td>call</td>\n",
       "      <td>0.1</td>\n",
       "      <td>0.0003</td>\n",
       "      <td>...</td>\n",
       "      <td>BTC-24JUN22-30000-C</td>\n",
       "      <td>125666</td>\n",
       "      <td>1656057600000</td>\n",
       "      <td>1627994072000</td>\n",
       "      <td>USD</td>\n",
       "      <td>1.0</td>\n",
       "      <td>0.00015</td>\n",
       "      <td>BTC</td>\n",
       "      <td>2021-08-03 13:34:32</td>\n",
       "      <td>2022-06-24 09:00:00</td>\n",
       "    </tr>\n",
       "    <tr>\n",
       "      <th>1</th>\n",
       "      <td>0.0005</td>\n",
       "      <td>0.0003</td>\n",
       "      <td>45000.0</td>\n",
       "      <td>month</td>\n",
       "      <td>BTC</td>\n",
       "      <td>False</td>\n",
       "      <td>BTC</td>\n",
       "      <td>put</td>\n",
       "      <td>0.1</td>\n",
       "      <td>0.0003</td>\n",
       "      <td>...</td>\n",
       "      <td>BTC-25MAR22-45000-P</td>\n",
       "      <td>125665</td>\n",
       "      <td>1648195200000</td>\n",
       "      <td>1628197380000</td>\n",
       "      <td>USD</td>\n",
       "      <td>1.0</td>\n",
       "      <td>0.00015</td>\n",
       "      <td>BTC</td>\n",
       "      <td>2021-08-05 22:03:00</td>\n",
       "      <td>2022-03-25 08:00:00</td>\n",
       "    </tr>\n",
       "  </tbody>\n",
       "</table>\n",
       "<p>2 rows × 22 columns</p>\n",
       "</div>"
      ],
      "text/plain": [
       "   tick_size  taker_commission   strike settlement_period settlement_currency  \\\n",
       "0     0.0005            0.0003  30000.0             month                 BTC   \n",
       "1     0.0005            0.0003  45000.0             month                 BTC   \n",
       "\n",
       "     rfq quote_currency option_type  min_trade_amount  maker_commission  ...  \\\n",
       "0  False            BTC        call               0.1            0.0003  ...   \n",
       "1  False            BTC         put               0.1            0.0003  ...   \n",
       "\n",
       "       instrument_name  instrument_id expiration_timestamp  \\\n",
       "0  BTC-24JUN22-30000-C         125666        1656057600000   \n",
       "1  BTC-25MAR22-45000-P         125665        1648195200000   \n",
       "\n",
       "   creation_timestamp  counter_currency  contract_size block_trade_commission  \\\n",
       "0       1627994072000               USD            1.0                0.00015   \n",
       "1       1628197380000               USD            1.0                0.00015   \n",
       "\n",
       "   base_currency       creation_time     expiration_time  \n",
       "0            BTC 2021-08-03 13:34:32 2022-06-24 09:00:00  \n",
       "1            BTC 2021-08-05 22:03:00 2022-03-25 08:00:00  \n",
       "\n",
       "[2 rows x 22 columns]"
      ]
     },
     "execution_count": 124,
     "metadata": {},
     "output_type": "execute_result"
    }
   ],
   "source": [
    "nest_asyncio.apply()\n",
    "instruments = api.get_instruments(currency=underlying, kind=\"option\", expired=False)\n",
    "instruments.head(2)"
   ]
  },
  {
   "cell_type": "markdown",
   "id": "bc989fd9-3f9a-4d2f-9204-a98bf7cd31a7",
   "metadata": {},
   "source": [
    "#### 2)a) Identify what month we will be on in 3 days time"
   ]
  },
  {
   "cell_type": "code",
   "execution_count": 125,
   "id": "60d50d1e-59f3-4ddd-96ad-04ba13444ece",
   "metadata": {},
   "outputs": [
    {
     "name": "stdout",
     "output_type": "stream",
     "text": [
      "In 3 days time we will be in month March\n"
     ]
    }
   ],
   "source": [
    "desired_month = (dt.datetime.now() + dt.timedelta(days=3)).month\n",
    "datetime_object = datetime.datetime.strptime(str(desired_month), \"%m\")\n",
    "month_name = datetime_object.strftime(\"%B\")\n",
    "\n",
    "print(\"In 3 days time we will be in month \" + month_name)"
   ]
  },
  {
   "cell_type": "markdown",
   "id": "3923a181-274d-4437-bcf3-cc2bb692d981",
   "metadata": {},
   "source": [
    "#### 2)b) Get the last expiry for that month  (that expiry will be on the last Friday of the month)"
   ]
  },
  {
   "cell_type": "code",
   "execution_count": 126,
   "id": "0713b052-a5ec-4cc8-ad85-aeee6b6382cb",
   "metadata": {},
   "outputs": [
    {
     "name": "stdout",
     "output_type": "stream",
     "text": [
      "2022-03-25T08:00:00.000000000\n"
     ]
    }
   ],
   "source": [
    "# Get the last option expiring on that month\n",
    "expiry_dates = instruments.expiration_time.unique()\n",
    "expiry_months = expiry_dates.astype('datetime64[M]').astype(int) % 12 + 1\n",
    "\n",
    "month_end_expiry = np.datetime64(dt.datetime.now())\n",
    "\n",
    "for i in range(0, len(expiry_dates)):\n",
    "    if expiry_months[i] == desired_month and expiry_dates[i] > month_end_expiry:\n",
    "        month_end_expiry =  expiry_dates[i]\n",
    "\n",
    "print(month_end_expiry)"
   ]
  },
  {
   "cell_type": "markdown",
   "id": "aa5e83f4-a89c-4ea4-82d5-78414e75228f",
   "metadata": {},
   "source": [
    "#### 2)c) Get current spot (there are much better ways to do this)"
   ]
  },
  {
   "cell_type": "code",
   "execution_count": 127,
   "id": "ee6dec48-1bba-42a4-8e98-06d34c66e6e4",
   "metadata": {},
   "outputs": [
    {
     "name": "stdout",
     "output_type": "stream",
     "text": [
      "41654.75\n"
     ]
    }
   ],
   "source": [
    "temp = dt.datetime.now()\n",
    "today_dt = dt.datetime(year=temp.year, month=temp.month, day=temp.day, hour=temp.hour, minute=temp.minute)\n",
    "\n",
    "ts_today = today_dt.timestamp() * 1000\n",
    "spot_ohlcv = api.get_historical_data(ts_today, ts_today, underlying + \"-PERPETUAL\", \"1D\")\n",
    "\n",
    "spot = (spot_ohlcv['open'][0] + spot_ohlcv['close'][0] + spot_ohlcv['high'][0] + spot_ohlcv['low'][0]) / 4\n",
    "\n",
    "print(spot)"
   ]
  },
  {
   "cell_type": "markdown",
   "id": "9087bd47-2cd2-4af6-b1eb-67bfee43ea47",
   "metadata": {},
   "source": [
    "#### 2)d) Find the closest strike from the current spot among the ones available"
   ]
  },
  {
   "cell_type": "code",
   "execution_count": 128,
   "id": "34ced6ce-7f57-4f3d-a832-2bd5426ea417",
   "metadata": {},
   "outputs": [
    {
     "name": "stdout",
     "output_type": "stream",
     "text": [
      "40000.0\n"
     ]
    }
   ],
   "source": [
    "desired_option_type = desired_option_type.lower()\n",
    "\n",
    "strikes = instruments.loc[instruments['expiration_time'] == month_end_expiry].loc[instruments['option_type'] == desired_option_type].strike.unique()\n",
    "desired_strike = min(strikes, key=lambda x:abs(x-spot))\n",
    "desired_strike = 40000.0\n",
    "\n",
    "print(desired_strike)"
   ]
  },
  {
   "cell_type": "markdown",
   "id": "f2e3328a-5dea-40d6-82c7-6e10332d48bb",
   "metadata": {
    "tags": []
   },
   "source": [
    "#### 2)e) Isolate the data related to the option we are looking to backtest"
   ]
  },
  {
   "cell_type": "code",
   "execution_count": 129,
   "id": "9c66bebe-67e4-416d-a4ab-27292ac36979",
   "metadata": {},
   "outputs": [
    {
     "data": {
      "text/html": [
       "<div>\n",
       "<style scoped>\n",
       "    .dataframe tbody tr th:only-of-type {\n",
       "        vertical-align: middle;\n",
       "    }\n",
       "\n",
       "    .dataframe tbody tr th {\n",
       "        vertical-align: top;\n",
       "    }\n",
       "\n",
       "    .dataframe thead th {\n",
       "        text-align: right;\n",
       "    }\n",
       "</style>\n",
       "<table border=\"1\" class=\"dataframe\">\n",
       "  <thead>\n",
       "    <tr style=\"text-align: right;\">\n",
       "      <th></th>\n",
       "      <th>tick_size</th>\n",
       "      <th>taker_commission</th>\n",
       "      <th>strike</th>\n",
       "      <th>settlement_period</th>\n",
       "      <th>settlement_currency</th>\n",
       "      <th>rfq</th>\n",
       "      <th>quote_currency</th>\n",
       "      <th>option_type</th>\n",
       "      <th>min_trade_amount</th>\n",
       "      <th>maker_commission</th>\n",
       "      <th>...</th>\n",
       "      <th>instrument_name</th>\n",
       "      <th>instrument_id</th>\n",
       "      <th>expiration_timestamp</th>\n",
       "      <th>creation_timestamp</th>\n",
       "      <th>counter_currency</th>\n",
       "      <th>contract_size</th>\n",
       "      <th>block_trade_commission</th>\n",
       "      <th>base_currency</th>\n",
       "      <th>creation_time</th>\n",
       "      <th>expiration_time</th>\n",
       "    </tr>\n",
       "  </thead>\n",
       "  <tbody>\n",
       "    <tr>\n",
       "      <th>193</th>\n",
       "      <td>0.0005</td>\n",
       "      <td>0.0003</td>\n",
       "      <td>40000.0</td>\n",
       "      <td>month</td>\n",
       "      <td>BTC</td>\n",
       "      <td>False</td>\n",
       "      <td>BTC</td>\n",
       "      <td>call</td>\n",
       "      <td>0.1</td>\n",
       "      <td>0.0003</td>\n",
       "      <td>...</td>\n",
       "      <td>BTC-25MAR22-40000-C</td>\n",
       "      <td>125019</td>\n",
       "      <td>1648195200000</td>\n",
       "      <td>1627994072000</td>\n",
       "      <td>USD</td>\n",
       "      <td>1.0</td>\n",
       "      <td>0.00015</td>\n",
       "      <td>BTC</td>\n",
       "      <td>2021-08-03 13:34:32</td>\n",
       "      <td>2022-03-25 08:00:00</td>\n",
       "    </tr>\n",
       "  </tbody>\n",
       "</table>\n",
       "<p>1 rows × 22 columns</p>\n",
       "</div>"
      ],
      "text/plain": [
       "     tick_size  taker_commission   strike settlement_period  \\\n",
       "193     0.0005            0.0003  40000.0             month   \n",
       "\n",
       "    settlement_currency    rfq quote_currency option_type  min_trade_amount  \\\n",
       "193                 BTC  False            BTC        call               0.1   \n",
       "\n",
       "     maker_commission  ...      instrument_name  instrument_id  \\\n",
       "193            0.0003  ...  BTC-25MAR22-40000-C         125019   \n",
       "\n",
       "    expiration_timestamp  creation_timestamp  counter_currency  contract_size  \\\n",
       "193        1648195200000       1627994072000               USD            1.0   \n",
       "\n",
       "    block_trade_commission  base_currency       creation_time  \\\n",
       "193                0.00015            BTC 2021-08-03 13:34:32   \n",
       "\n",
       "        expiration_time  \n",
       "193 2022-03-25 08:00:00  \n",
       "\n",
       "[1 rows x 22 columns]"
      ]
     },
     "execution_count": 129,
     "metadata": {},
     "output_type": "execute_result"
    }
   ],
   "source": [
    "instrument_data = instruments.loc[(instruments.expiration_time == month_end_expiry) \n",
    "                                  & (instruments.option_type == desired_option_type) \n",
    "                                  & (instruments.strike == desired_strike)]\n",
    "\n",
    "instrument_data"
   ]
  },
  {
   "cell_type": "markdown",
   "id": "8a372205-0565-4103-8276-c801cf8ce14f",
   "metadata": {},
   "source": [
    "***\n",
    "## 3) Fetch Historical Data from the Deribit API"
   ]
  },
  {
   "cell_type": "markdown",
   "id": "7a9bf915-bc52-48a2-ac46-582e8d70320d",
   "metadata": {},
   "source": [
    "#### 3)a) Get data of both spot and option historical levels"
   ]
  },
  {
   "cell_type": "code",
   "execution_count": 130,
   "id": "6868e938-9034-49c6-992b-1b78e4bd5387",
   "metadata": {},
   "outputs": [],
   "source": [
    "ts_creation = dt.datetime.fromtimestamp(instrument_data[\"creation_timestamp\"].values[0]/1000).replace(second = 0, microsecond = 0).timestamp() * 1000\n",
    "ts_start = int((dt.datetime.now() + dt.timedelta(days=-60)).timestamp() * 1000)\n",
    "ts_expiration = dt.datetime.fromtimestamp(instrument_data[\"expiration_timestamp\"].values[0]/1000).replace(second = 0, microsecond = 0).timestamp() * 1000"
   ]
  },
  {
   "cell_type": "code",
   "execution_count": 131,
   "id": "f905f017-9fbe-49d8-999f-12e13d3fca7f",
   "metadata": {},
   "outputs": [
    {
     "name": "stderr",
     "output_type": "stream",
     "text": [
      "/Users/nicolas/miniconda3/envs/py38/lib/python3.8/asyncio/base_events.py:654: ResourceWarning: unclosed event loop <_UnixSelectorEventLoop running=False closed=False debug=False>\n",
      "  _warn(f\"unclosed event loop {self!r}\", ResourceWarning, source=self)\n",
      "ResourceWarning: Enable tracemalloc to get the object allocation traceback\n"
     ]
    },
    {
     "data": {
      "text/plain": [
       "[<matplotlib.lines.Line2D at 0x2903a1190>]"
      ]
     },
     "execution_count": 131,
     "metadata": {},
     "output_type": "execute_result"
    },
    {
     "data": {
      "image/png": "[encoded data removed]",
      "text/plain": [
       "<Figure size 432x288 with 1 Axes>"
      ]
     },
     "metadata": {
      "needs_background": "light"
     },
     "output_type": "display_data"
    },
    {
     "name": "stderr",
     "output_type": "stream",
     "text": [
      "/Users/nicolas/miniconda3/envs/py38/lib/python3.8/asyncio/base_events.py:654: ResourceWarning: unclosed event loop <_UnixSelectorEventLoop running=False closed=False debug=False>\n",
      "  _warn(f\"unclosed event loop {self!r}\", ResourceWarning, source=self)\n",
      "ResourceWarning: Enable tracemalloc to get the object allocation traceback\n"
     ]
    }
   ],
   "source": [
    "time_period = '1D'\n",
    "option_data = api.get_historical_data(ts_start,\n",
    "                                      ts_expiration,\n",
    "                                      instrument_data[\"instrument_name\"].iloc[0],\n",
    "                                      time_period)\n",
    "plt.plot(option_data['timestamp'], option_data['close'])"
   ]
  },
  {
   "cell_type": "code",
   "execution_count": 132,
   "id": "3937d1d8-2570-4c9c-acd6-ef5f95e563de",
   "metadata": {},
   "outputs": [
    {
     "data": {
      "text/plain": [
       "[<matplotlib.lines.Line2D at 0x28e856520>]"
      ]
     },
     "execution_count": 132,
     "metadata": {},
     "output_type": "execute_result"
    },
    {
     "data": {
      "image/png": "[encoded data removed]",
      "text/plain": [
       "<Figure size 432x288 with 1 Axes>"
      ]
     },
     "metadata": {
      "needs_background": "light"
     },
     "output_type": "display_data"
    }
   ],
   "source": [
    "# For BTC the underlying will be 'BTC-PERPETUAL' while for ETH it will be 'ETH-PERPETUAL'\n",
    "spot_data = api.get_historical_data(option_data.timestamp[0].timestamp() * 1000,\n",
    "                                    ts_expiration,\n",
    "                                    underlying + \"-PERPETUAL\",\n",
    "                                    time_period)\n",
    "plt.plot(spot_data['timestamp'], spot_data['close'])"
   ]
  },
  {
   "cell_type": "markdown",
   "id": "ccd568e1-92c6-49a3-a58b-0ca31b5730a3",
   "metadata": {},
   "source": [
    "#### Clean up option_data to remove stale prices"
   ]
  },
  {
   "cell_type": "code",
   "execution_count": 133,
   "id": "0431ebef-b08a-498a-a7d6-5503235d82df",
   "metadata": {},
   "outputs": [
    {
     "data": {
      "text/html": [
       "<div>\n",
       "<style scoped>\n",
       "    .dataframe tbody tr th:only-of-type {\n",
       "        vertical-align: middle;\n",
       "    }\n",
       "\n",
       "    .dataframe tbody tr th {\n",
       "        vertical-align: top;\n",
       "    }\n",
       "\n",
       "    .dataframe thead th {\n",
       "        text-align: right;\n",
       "    }\n",
       "</style>\n",
       "<table border=\"1\" class=\"dataframe\">\n",
       "  <thead>\n",
       "    <tr style=\"text-align: right;\">\n",
       "      <th></th>\n",
       "      <th>volume</th>\n",
       "      <th>ticks</th>\n",
       "      <th>status</th>\n",
       "      <th>open</th>\n",
       "      <th>low</th>\n",
       "      <th>high</th>\n",
       "      <th>cost</th>\n",
       "      <th>close</th>\n",
       "      <th>timestamp</th>\n",
       "    </tr>\n",
       "  </thead>\n",
       "  <tbody>\n",
       "    <tr>\n",
       "      <th>56</th>\n",
       "      <td>1782.9</td>\n",
       "      <td>1647388800000</td>\n",
       "      <td>ok</td>\n",
       "      <td>0.0740</td>\n",
       "      <td>0.0005</td>\n",
       "      <td>0.3005</td>\n",
       "      <td>94.04457</td>\n",
       "      <td>0.0635</td>\n",
       "      <td>2022-03-16</td>\n",
       "    </tr>\n",
       "    <tr>\n",
       "      <th>57</th>\n",
       "      <td>1229.7</td>\n",
       "      <td>1647475200000</td>\n",
       "      <td>ok</td>\n",
       "      <td>0.0595</td>\n",
       "      <td>0.0005</td>\n",
       "      <td>0.0595</td>\n",
       "      <td>67.77197</td>\n",
       "      <td>0.0005</td>\n",
       "      <td>2022-03-17</td>\n",
       "    </tr>\n",
       "    <tr>\n",
       "      <th>58</th>\n",
       "      <td>1315.0</td>\n",
       "      <td>1647561600000</td>\n",
       "      <td>ok</td>\n",
       "      <td>0.0510</td>\n",
       "      <td>0.0005</td>\n",
       "      <td>0.0510</td>\n",
       "      <td>61.90970</td>\n",
       "      <td>0.0400</td>\n",
       "      <td>2022-03-18</td>\n",
       "    </tr>\n",
       "    <tr>\n",
       "      <th>59</th>\n",
       "      <td>1657.9</td>\n",
       "      <td>1647648000000</td>\n",
       "      <td>ok</td>\n",
       "      <td>0.0400</td>\n",
       "      <td>0.0400</td>\n",
       "      <td>0.5565</td>\n",
       "      <td>96.57087</td>\n",
       "      <td>0.0635</td>\n",
       "      <td>2022-03-19</td>\n",
       "    </tr>\n",
       "    <tr>\n",
       "      <th>60</th>\n",
       "      <td>1164.2</td>\n",
       "      <td>1647734400000</td>\n",
       "      <td>ok</td>\n",
       "      <td>0.0005</td>\n",
       "      <td>0.0005</td>\n",
       "      <td>0.0460</td>\n",
       "      <td>62.23691</td>\n",
       "      <td>0.0460</td>\n",
       "      <td>2022-03-20</td>\n",
       "    </tr>\n",
       "  </tbody>\n",
       "</table>\n",
       "</div>"
      ],
      "text/plain": [
       "    volume          ticks status    open     low    high      cost   close  \\\n",
       "56  1782.9  1647388800000     ok  0.0740  0.0005  0.3005  94.04457  0.0635   \n",
       "57  1229.7  1647475200000     ok  0.0595  0.0005  0.0595  67.77197  0.0005   \n",
       "58  1315.0  1647561600000     ok  0.0510  0.0005  0.0510  61.90970  0.0400   \n",
       "59  1657.9  1647648000000     ok  0.0400  0.0400  0.5565  96.57087  0.0635   \n",
       "60  1164.2  1647734400000     ok  0.0005  0.0005  0.0460  62.23691  0.0460   \n",
       "\n",
       "    timestamp  \n",
       "56 2022-03-16  \n",
       "57 2022-03-17  \n",
       "58 2022-03-18  \n",
       "59 2022-03-19  \n",
       "60 2022-03-20  "
      ]
     },
     "execution_count": 133,
     "metadata": {},
     "output_type": "execute_result"
    }
   ],
   "source": [
    "option_data[56:].head()"
   ]
  },
  {
   "cell_type": "code",
   "execution_count": 172,
   "id": "c72cc75b-7263-4d6c-932a-f834301bc7a8",
   "metadata": {},
   "outputs": [],
   "source": [
    "warnings.filterwarnings(\"error\")\n",
    "\n",
    "implied_vols = np.zeros(len(option_data.index))\n",
    "deltas = np.zeros(len(option_data.index))\n",
    "\n",
    "option_pnls = np.zeros(len(option_data.index))\n",
    "spot_pnls = np.zeros(len(option_data.index))\n",
    "combined_pnls = np.zeros(len(option_data.index))\n",
    "cum_pnl = np.zeros(len(option_data.index))\n",
    "\n",
    "option_pos = np.zeros(len(option_data.index))\n",
    "spot_pos = np.zeros(len(option_data.index))\n",
    "\n",
    "is_delta_hedged = True\n",
    "\n",
    "for i in range(0, len(option_data.index)):\n",
    "    is_invalid_implied_vol = False\n",
    "    days_to_expiry = (dt.datetime.fromtimestamp(ts_expiration / 1000) - dt.datetime.fromtimestamp(option_data['ticks'][i] / 1000)).days\n",
    "    \n",
    "    try:\n",
    "        implied_vols[i] = implied_volatility(price=option_data['close'][i] * spot_data['close'][i],\n",
    "                                             S=spot_data['close'][i],\n",
    "                                             K=strike,\n",
    "                                             t=days_to_expiry/365,\n",
    "                                             r=r,\n",
    "                                             flag=option_type, \n",
    "                                             return_as=\"numpy\")\n",
    "    except:\n",
    "        is_invalid_implied_vol = True\n",
    "        print(i)\n",
    "        if i == 0:\n",
    "            implied_vols[0] = 0.70\n",
    "        else:\n",
    "            implied_vols[i] = implied_vols[i-1]\n",
    "    \n",
    "    if row['volume'] == 0.0 or is_invalid_implied_vol:\n",
    "        option_data.loc[i, 'close'] = black_scholes(flag=option_type, \n",
    "                                                    S=spot_data['close'][i],\n",
    "                                                    K=strike,\n",
    "                                                    t=days_to_expiry/365,\n",
    "                                                    r=r,\n",
    "                                                    sigma=implied_vols[i],\n",
    "                                                    return_as='numpy')[0] / spot_data['close'][i]\n",
    "    \n",
    "    deltas[i] = delta(option_type, data['close_spot'][i], strike, days_to_expiry / 365, r, implied_vols[i])\n",
    "    \n",
    "    option_pos[i] = qty\n",
    "    spot_pos[i] = ( deltas[i] * option_pos[i] * mult ) * is_delta_hedged\n",
    "    \n",
    "    if i > 0:\n",
    "        option_pnls[i] = (option_data['close'][i] - option_data['close'][i-1]) * option_pos[i-1] * mult\n",
    "        \n",
    "        spot_pnls[i] = (spot_data['close'][i] - spot_data['close'][i-1]) * spot_pos[i-1]\n",
    "        \n",
    "        combined_pnls[i] = option_pnls[i] + spot_pnls[i]\n",
    "        \n",
    "        cum_pnl[i] += combined_pnls[i]\n",
    "        \n",
    "warnings.filterwarnings(\"default\")"
   ]
  },
  {
   "cell_type": "code",
   "execution_count": 194,
   "id": "7d99f983-394e-40c6-9723-095ddc57b140",
   "metadata": {},
   "outputs": [
    {
     "data": {
      "text/plain": [
       "170.7"
      ]
     },
     "execution_count": 194,
     "metadata": {},
     "output_type": "execute_result"
    }
   ],
   "source": [
    "option_data['volume'][10]"
   ]
  },
  {
   "cell_type": "code",
   "execution_count": 185,
   "id": "cb3fdbe8-fb56-4315-80d4-a3c1cbf8b0ad",
   "metadata": {},
   "outputs": [
    {
     "data": {
      "text/plain": [
       "0.0005"
      ]
     },
     "execution_count": 185,
     "metadata": {},
     "output_type": "execute_result"
    }
   ],
   "source": [
    "option_data['close'][12]"
   ]
  },
  {
   "cell_type": "code",
   "execution_count": 197,
   "id": "2a0b3a04-28d6-4f1c-a979-abd3da20f018",
   "metadata": {},
   "outputs": [
    {
     "data": {
      "text/plain": [
       "0.087"
      ]
     },
     "execution_count": 197,
     "metadata": {},
     "output_type": "execute_result"
    },
    {
     "name": "stderr",
     "output_type": "stream",
     "text": [
      "/Users/nicolas/miniconda3/envs/py38/lib/python3.8/asyncio/base_events.py:654: ResourceWarning: unclosed event loop <_UnixSelectorEventLoop running=False closed=False debug=False>\n",
      "  _warn(f\"unclosed event loop {self!r}\", ResourceWarning, source=self)\n",
      "ResourceWarning: Enable tracemalloc to get the object allocation traceback\n"
     ]
    }
   ],
   "source": [
    "option_data['close'][7]"
   ]
  },
  {
   "cell_type": "code",
   "execution_count": 189,
   "id": "1e0faec8-b196-4ad5-a590-d4b8619dc2a3",
   "metadata": {},
   "outputs": [
    {
     "data": {
      "text/plain": [
       "38722.0"
      ]
     },
     "execution_count": 189,
     "metadata": {},
     "output_type": "execute_result"
    }
   ],
   "source": [
    "spot_data['close'][13]"
   ]
  },
  {
   "cell_type": "code",
   "execution_count": 180,
   "id": "40537a43-63d5-4d4a-9ddb-afe66cfd147a",
   "metadata": {},
   "outputs": [
    {
     "data": {
      "text/plain": [
       "[<matplotlib.lines.Line2D at 0x2911b1970>]"
      ]
     },
     "execution_count": 180,
     "metadata": {},
     "output_type": "execute_result"
    },
    {
     "data": {
      "image/png": "[encoded data removed]",
      "text/plain": [
       "<Figure size 432x288 with 1 Axes>"
      ]
     },
     "metadata": {
      "needs_background": "light"
     },
     "output_type": "display_data"
    }
   ],
   "source": [
    "plt.plot(deltas)"
   ]
  },
  {
   "cell_type": "code",
   "execution_count": 179,
   "id": "d5a915c6-9475-4211-8c20-61a24b880410",
   "metadata": {},
   "outputs": [
    {
     "data": {
      "text/plain": [
       "[<matplotlib.lines.Line2D at 0x2911547f0>]"
      ]
     },
     "execution_count": 179,
     "metadata": {},
     "output_type": "execute_result"
    },
    {
     "data": {
      "image/png": "[encoded data removed]",
      "text/plain": [
       "<Figure size 432x288 with 1 Axes>"
      ]
     },
     "metadata": {
      "needs_background": "light"
     },
     "output_type": "display_data"
    }
   ],
   "source": [
    "plt.plot(spot_data['close'])"
   ]
  },
  {
   "cell_type": "code",
   "execution_count": 177,
   "id": "65300952-71d9-4359-a188-211bb6839d43",
   "metadata": {},
   "outputs": [
    {
     "data": {
      "text/plain": [
       "[<matplotlib.lines.Line2D at 0x29108fd60>]"
      ]
     },
     "execution_count": 177,
     "metadata": {},
     "output_type": "execute_result"
    },
    {
     "data": {
      "image/png": "[encoded data removed]",
      "text/plain": [
       "<Figure size 432x288 with 1 Axes>"
      ]
     },
     "metadata": {
      "needs_background": "light"
     },
     "output_type": "display_data"
    }
   ],
   "source": [
    "plt.plot(spot_pnls)"
   ]
  },
  {
   "cell_type": "code",
   "execution_count": 173,
   "id": "9474da50-9698-445a-81e2-3a8818efaf30",
   "metadata": {},
   "outputs": [
    {
     "data": {
      "text/plain": [
       "[<matplotlib.lines.Line2D at 0x290f6aa90>]"
      ]
     },
     "execution_count": 173,
     "metadata": {},
     "output_type": "execute_result"
    },
    {
     "data": {
      "image/png": "[encoded data removed]",
      "text/plain": [
       "<Figure size 432x288 with 1 Axes>"
      ]
     },
     "metadata": {
      "needs_background": "light"
     },
     "output_type": "display_data"
    }
   ],
   "source": [
    "plt.plot(combined_pnls)"
   ]
  },
  {
   "cell_type": "code",
   "execution_count": 174,
   "id": "9293deff-e623-4a6b-aa40-e7f1b27b920a",
   "metadata": {},
   "outputs": [
    {
     "data": {
      "text/plain": [
       "[<matplotlib.lines.Line2D at 0x290fcbc70>]"
      ]
     },
     "execution_count": 174,
     "metadata": {},
     "output_type": "execute_result"
    },
    {
     "data": {
      "image/png": "[encoded data removed]",
      "text/plain": [
       "<Figure size 432x288 with 1 Axes>"
      ]
     },
     "metadata": {
      "needs_background": "light"
     },
     "output_type": "display_data"
    }
   ],
   "source": [
    "plt.plot(spot_pos)"
   ]
  },
  {
   "cell_type": "code",
   "execution_count": 175,
   "id": "defd9182-859d-441b-8cdb-f80b73bcb1c2",
   "metadata": {},
   "outputs": [
    {
     "data": {
      "text/plain": [
       "[<matplotlib.lines.Line2D at 0x29103e190>]"
      ]
     },
     "execution_count": 175,
     "metadata": {},
     "output_type": "execute_result"
    },
    {
     "data": {
      "image/png": "[encoded data removed]",
      "text/plain": [
       "<Figure size 432x288 with 1 Axes>"
      ]
     },
     "metadata": {
      "needs_background": "light"
     },
     "output_type": "display_data"
    }
   ],
   "source": [
    "plt.plot(cum_pnl)"
   ]
  },
  {
   "cell_type": "code",
   "execution_count": 171,
   "id": "1187c870-3b7c-4f36-b230-ff8778f89bd6",
   "metadata": {},
   "outputs": [
    {
     "data": {
      "text/html": [
       "<div>\n",
       "<style scoped>\n",
       "    .dataframe tbody tr th:only-of-type {\n",
       "        vertical-align: middle;\n",
       "    }\n",
       "\n",
       "    .dataframe tbody tr th {\n",
       "        vertical-align: top;\n",
       "    }\n",
       "\n",
       "    .dataframe thead th {\n",
       "        text-align: right;\n",
       "    }\n",
       "</style>\n",
       "<table border=\"1\" class=\"dataframe\">\n",
       "  <thead>\n",
       "    <tr style=\"text-align: right;\">\n",
       "      <th></th>\n",
       "      <th>volume</th>\n",
       "      <th>ticks</th>\n",
       "      <th>status</th>\n",
       "      <th>open</th>\n",
       "      <th>low</th>\n",
       "      <th>high</th>\n",
       "      <th>cost</th>\n",
       "      <th>close</th>\n",
       "      <th>timestamp</th>\n",
       "    </tr>\n",
       "  </thead>\n",
       "  <tbody>\n",
       "    <tr>\n",
       "      <th>56</th>\n",
       "      <td>1782.9</td>\n",
       "      <td>1647388800000</td>\n",
       "      <td>ok</td>\n",
       "      <td>0.0740</td>\n",
       "      <td>0.0005</td>\n",
       "      <td>0.3005</td>\n",
       "      <td>94.04457</td>\n",
       "      <td>0.063500</td>\n",
       "      <td>2022-03-16</td>\n",
       "    </tr>\n",
       "    <tr>\n",
       "      <th>57</th>\n",
       "      <td>1229.7</td>\n",
       "      <td>1647475200000</td>\n",
       "      <td>ok</td>\n",
       "      <td>0.0595</td>\n",
       "      <td>0.0005</td>\n",
       "      <td>0.0595</td>\n",
       "      <td>67.77197</td>\n",
       "      <td>0.057932</td>\n",
       "      <td>2022-03-17</td>\n",
       "    </tr>\n",
       "    <tr>\n",
       "      <th>58</th>\n",
       "      <td>1315.0</td>\n",
       "      <td>1647561600000</td>\n",
       "      <td>ok</td>\n",
       "      <td>0.0510</td>\n",
       "      <td>0.0005</td>\n",
       "      <td>0.0510</td>\n",
       "      <td>61.90970</td>\n",
       "      <td>0.067323</td>\n",
       "      <td>2022-03-18</td>\n",
       "    </tr>\n",
       "    <tr>\n",
       "      <th>59</th>\n",
       "      <td>1657.9</td>\n",
       "      <td>1647648000000</td>\n",
       "      <td>ok</td>\n",
       "      <td>0.0400</td>\n",
       "      <td>0.0400</td>\n",
       "      <td>0.5565</td>\n",
       "      <td>96.57087</td>\n",
       "      <td>0.063500</td>\n",
       "      <td>2022-03-19</td>\n",
       "    </tr>\n",
       "    <tr>\n",
       "      <th>60</th>\n",
       "      <td>1164.2</td>\n",
       "      <td>1647734400000</td>\n",
       "      <td>ok</td>\n",
       "      <td>0.0005</td>\n",
       "      <td>0.0005</td>\n",
       "      <td>0.0460</td>\n",
       "      <td>62.23691</td>\n",
       "      <td>0.046000</td>\n",
       "      <td>2022-03-20</td>\n",
       "    </tr>\n",
       "  </tbody>\n",
       "</table>\n",
       "</div>"
      ],
      "text/plain": [
       "    volume          ticks status    open     low    high      cost     close  \\\n",
       "56  1782.9  1647388800000     ok  0.0740  0.0005  0.3005  94.04457  0.063500   \n",
       "57  1229.7  1647475200000     ok  0.0595  0.0005  0.0595  67.77197  0.057932   \n",
       "58  1315.0  1647561600000     ok  0.0510  0.0005  0.0510  61.90970  0.067323   \n",
       "59  1657.9  1647648000000     ok  0.0400  0.0400  0.5565  96.57087  0.063500   \n",
       "60  1164.2  1647734400000     ok  0.0005  0.0005  0.0460  62.23691  0.046000   \n",
       "\n",
       "    timestamp  \n",
       "56 2022-03-16  \n",
       "57 2022-03-17  \n",
       "58 2022-03-18  \n",
       "59 2022-03-19  \n",
       "60 2022-03-20  "
      ]
     },
     "execution_count": 171,
     "metadata": {},
     "output_type": "execute_result"
    }
   ],
   "source": [
    "option_data[56:].head()"
   ]
  },
  {
   "cell_type": "markdown",
   "id": "4b757820-680f-483f-a740-7d6da2ad1b6f",
   "metadata": {},
   "source": [
    "#### 3)b) Combine option and spot data together in a dataframe"
   ]
  },
  {
   "cell_type": "code",
   "execution_count": 136,
   "id": "560d0d83-c172-45c9-81c1-587518910c83",
   "metadata": {},
   "outputs": [],
   "source": [
    "data = pd.merge(option_data, spot_data, how=\"left\", on=\"ticks\", suffixes=(\"_option\",\"_spot\"))\n",
    "\n",
    "unwanted = data.columns[data.columns.str.startswith('Unnamed')]\n",
    "data.drop(unwanted, axis=1, inplace=True)\n",
    "data.drop([\"timestamp_option\",\"timestamp_spot\"],axis=1, inplace=True)\n",
    "data['timestamp'] = data.ticks.apply(lambda x:dt.datetime.fromtimestamp(x/1000))"
   ]
  },
  {
   "cell_type": "code",
   "execution_count": 137,
   "id": "f83c2ee5-a5b0-45ca-b59e-c38390a0b74c",
   "metadata": {},
   "outputs": [],
   "source": [
    "# Express the price of the option in USD\n",
    "data['close_option_usd'] = data.apply(lambda row: (row['close_option'] * row['close_spot']), axis=1)"
   ]
  },
  {
   "cell_type": "markdown",
   "id": "0720a310-5aa9-4178-9c0c-2369641fb7c1",
   "metadata": {},
   "source": [
    "#### 3)c) Set parameters for backtest"
   ]
  },
  {
   "cell_type": "code",
   "execution_count": 138,
   "id": "d73dab3d-8e44-4b96-86d7-80b7619bb0af",
   "metadata": {},
   "outputs": [],
   "source": [
    "strike = desired_strike\n",
    "\n",
    "if desired_option_type == 'call':\n",
    "    option_type = 'c'\n",
    "else:\n",
    "    option_type = 'p'\n",
    "expiry = month_end_expiry\n",
    "r = 0.01 # This is the risk-free interest rate. For short-dated options it doesn't matter much\n",
    "qty = 1\n",
    "mult = 1\n",
    "is_delta_hedged = True\n",
    "\n",
    "data[\"time_to_expiry\"] = data.timestamp.apply(lambda x:expiry-x)\n",
    "data[\"days_to_expiry\"] = data[\"time_to_expiry\"].apply(lambda x: x.days)"
   ]
  },
  {
   "cell_type": "markdown",
   "id": "681b3a18-0bae-4c86-816c-6b2b6200e674",
   "metadata": {},
   "source": [
    "***\n",
    "## 4) Backtest"
   ]
  },
  {
   "cell_type": "markdown",
   "id": "9077d505-03cf-406c-9fba-3083553949ef",
   "metadata": {
    "tags": []
   },
   "source": [
    "#### 4)a) Implied Volatility"
   ]
  },
  {
   "cell_type": "code",
   "execution_count": 140,
   "id": "1be69c6a-d2c0-4021-86e2-2dbc27d08319",
   "metadata": {},
   "outputs": [
    {
     "data": {
      "text/plain": [
       "[<matplotlib.lines.Line2D at 0x28f89bd00>]"
      ]
     },
     "execution_count": 140,
     "metadata": {},
     "output_type": "execute_result"
    },
    {
     "data": {
      "image/png": "[encoded data removed]",
      "text/plain": [
       "<Figure size 432x288 with 1 Axes>"
      ]
     },
     "metadata": {
      "needs_background": "light"
     },
     "output_type": "display_data"
    }
   ],
   "source": [
    "data['ivol_mid'] = implied_volatility(price=data['close_option_usd'],\n",
    "                                      S=data['close_spot'],\n",
    "                                      K=strike,\n",
    "                                      t=data['days_to_expiry']/365,\n",
    "                                      r=r,\n",
    "                                      flag=option_type, \n",
    "                                      return_as=\"series\")\n",
    "plt.plot(data['ivol_mid'])"
   ]
  },
  {
   "cell_type": "code",
   "execution_count": 142,
   "id": "3a3e3228-ea8d-4c23-bedc-35e8aff35750",
   "metadata": {},
   "outputs": [
    {
     "data": {
      "text/html": [
       "<div>\n",
       "<style scoped>\n",
       "    .dataframe tbody tr th:only-of-type {\n",
       "        vertical-align: middle;\n",
       "    }\n",
       "\n",
       "    .dataframe tbody tr th {\n",
       "        vertical-align: top;\n",
       "    }\n",
       "\n",
       "    .dataframe thead th {\n",
       "        text-align: right;\n",
       "    }\n",
       "</style>\n",
       "<table border=\"1\" class=\"dataframe\">\n",
       "  <thead>\n",
       "    <tr style=\"text-align: right;\">\n",
       "      <th></th>\n",
       "      <th>volume_option</th>\n",
       "      <th>ticks</th>\n",
       "      <th>status_option</th>\n",
       "      <th>open_option</th>\n",
       "      <th>low_option</th>\n",
       "      <th>high_option</th>\n",
       "      <th>cost_option</th>\n",
       "      <th>close_option</th>\n",
       "      <th>volume_spot</th>\n",
       "      <th>status_spot</th>\n",
       "      <th>open_spot</th>\n",
       "      <th>low_spot</th>\n",
       "      <th>high_spot</th>\n",
       "      <th>cost_spot</th>\n",
       "      <th>close_spot</th>\n",
       "      <th>timestamp</th>\n",
       "      <th>close_option_usd</th>\n",
       "      <th>time_to_expiry</th>\n",
       "      <th>days_to_expiry</th>\n",
       "      <th>ivol_mid</th>\n",
       "    </tr>\n",
       "  </thead>\n",
       "  <tbody>\n",
       "    <tr>\n",
       "      <th>46</th>\n",
       "      <td>32.6</td>\n",
       "      <td>1646524800000</td>\n",
       "      <td>ok</td>\n",
       "      <td>0.057</td>\n",
       "      <td>0.0455</td>\n",
       "      <td>0.0570</td>\n",
       "      <td>1.77785</td>\n",
       "      <td>0.0500</td>\n",
       "      <td>10527.189477</td>\n",
       "      <td>ok</td>\n",
       "      <td>39385.5</td>\n",
       "      <td>37756.5</td>\n",
       "      <td>40363.0</td>\n",
       "      <td>4.122497e+08</td>\n",
       "      <td>38359.0</td>\n",
       "      <td>2022-03-06</td>\n",
       "      <td>1917.95000</td>\n",
       "      <td>19 days 08:00:00</td>\n",
       "      <td>19</td>\n",
       "      <td>0.744181</td>\n",
       "    </tr>\n",
       "    <tr>\n",
       "      <th>47</th>\n",
       "      <td>203.0</td>\n",
       "      <td>1646611200000</td>\n",
       "      <td>ok</td>\n",
       "      <td>0.051</td>\n",
       "      <td>0.0425</td>\n",
       "      <td>0.0560</td>\n",
       "      <td>9.74225</td>\n",
       "      <td>0.0475</td>\n",
       "      <td>14231.767676</td>\n",
       "      <td>ok</td>\n",
       "      <td>38357.0</td>\n",
       "      <td>37200.0</td>\n",
       "      <td>39642.0</td>\n",
       "      <td>5.446877e+08</td>\n",
       "      <td>38011.0</td>\n",
       "      <td>2022-03-07</td>\n",
       "      <td>1805.52250</td>\n",
       "      <td>18 days 08:00:00</td>\n",
       "      <td>18</td>\n",
       "      <td>0.775606</td>\n",
       "    </tr>\n",
       "    <tr>\n",
       "      <th>48</th>\n",
       "      <td>416.4</td>\n",
       "      <td>1646697600000</td>\n",
       "      <td>ok</td>\n",
       "      <td>0.047</td>\n",
       "      <td>0.0430</td>\n",
       "      <td>0.0545</td>\n",
       "      <td>22.17240</td>\n",
       "      <td>0.0455</td>\n",
       "      <td>24927.783059</td>\n",
       "      <td>ok</td>\n",
       "      <td>38008.5</td>\n",
       "      <td>37434.5</td>\n",
       "      <td>40038.5</td>\n",
       "      <td>9.630854e+08</td>\n",
       "      <td>38742.5</td>\n",
       "      <td>2022-03-08</td>\n",
       "      <td>1762.78375</td>\n",
       "      <td>17 days 08:00:00</td>\n",
       "      <td>17</td>\n",
       "      <td>0.688218</td>\n",
       "    </tr>\n",
       "    <tr>\n",
       "      <th>49</th>\n",
       "      <td>185.7</td>\n",
       "      <td>1646784000000</td>\n",
       "      <td>ok</td>\n",
       "      <td>0.049</td>\n",
       "      <td>0.0490</td>\n",
       "      <td>0.2870</td>\n",
       "      <td>14.34305</td>\n",
       "      <td>0.2870</td>\n",
       "      <td>43183.903993</td>\n",
       "      <td>ok</td>\n",
       "      <td>38740.5</td>\n",
       "      <td>38417.0</td>\n",
       "      <td>45378.0</td>\n",
       "      <td>1.793496e+09</td>\n",
       "      <td>41955.5</td>\n",
       "      <td>2022-03-09</td>\n",
       "      <td>12041.22850</td>\n",
       "      <td>16 days 08:00:00</td>\n",
       "      <td>16</td>\n",
       "      <td>3.286615</td>\n",
       "    </tr>\n",
       "    <tr>\n",
       "      <th>50</th>\n",
       "      <td>236.5</td>\n",
       "      <td>1646870400000</td>\n",
       "      <td>ok</td>\n",
       "      <td>0.287</td>\n",
       "      <td>0.0385</td>\n",
       "      <td>0.2870</td>\n",
       "      <td>10.92120</td>\n",
       "      <td>0.0510</td>\n",
       "      <td>25751.476464</td>\n",
       "      <td>ok</td>\n",
       "      <td>41960.5</td>\n",
       "      <td>38452.5</td>\n",
       "      <td>42049.5</td>\n",
       "      <td>1.015279e+09</td>\n",
       "      <td>39425.5</td>\n",
       "      <td>2022-03-10</td>\n",
       "      <td>2010.70050</td>\n",
       "      <td>15 days 08:00:00</td>\n",
       "      <td>15</td>\n",
       "      <td>0.710316</td>\n",
       "    </tr>\n",
       "  </tbody>\n",
       "</table>\n",
       "</div>"
      ],
      "text/plain": [
       "    volume_option          ticks status_option  open_option  low_option  \\\n",
       "46           32.6  1646524800000            ok        0.057      0.0455   \n",
       "47          203.0  1646611200000            ok        0.051      0.0425   \n",
       "48          416.4  1646697600000            ok        0.047      0.0430   \n",
       "49          185.7  1646784000000            ok        0.049      0.0490   \n",
       "50          236.5  1646870400000            ok        0.287      0.0385   \n",
       "\n",
       "    high_option  cost_option  close_option   volume_spot status_spot  \\\n",
       "46       0.0570      1.77785        0.0500  10527.189477          ok   \n",
       "47       0.0560      9.74225        0.0475  14231.767676          ok   \n",
       "48       0.0545     22.17240        0.0455  24927.783059          ok   \n",
       "49       0.2870     14.34305        0.2870  43183.903993          ok   \n",
       "50       0.2870     10.92120        0.0510  25751.476464          ok   \n",
       "\n",
       "    open_spot  low_spot  high_spot     cost_spot  close_spot  timestamp  \\\n",
       "46    39385.5   37756.5    40363.0  4.122497e+08     38359.0 2022-03-06   \n",
       "47    38357.0   37200.0    39642.0  5.446877e+08     38011.0 2022-03-07   \n",
       "48    38008.5   37434.5    40038.5  9.630854e+08     38742.5 2022-03-08   \n",
       "49    38740.5   38417.0    45378.0  1.793496e+09     41955.5 2022-03-09   \n",
       "50    41960.5   38452.5    42049.5  1.015279e+09     39425.5 2022-03-10   \n",
       "\n",
       "    close_option_usd   time_to_expiry  days_to_expiry  ivol_mid  \n",
       "46        1917.95000 19 days 08:00:00              19  0.744181  \n",
       "47        1805.52250 18 days 08:00:00              18  0.775606  \n",
       "48        1762.78375 17 days 08:00:00              17  0.688218  \n",
       "49       12041.22850 16 days 08:00:00              16  3.286615  \n",
       "50        2010.70050 15 days 08:00:00              15  0.710316  "
      ]
     },
     "execution_count": 142,
     "metadata": {},
     "output_type": "execute_result"
    }
   ],
   "source": [
    "data[46:].head()"
   ]
  },
  {
   "cell_type": "markdown",
   "id": "a3926131-9c09-41dc-b395-873fa3b0c073",
   "metadata": {
    "tags": []
   },
   "source": [
    "#### 4)b) Delta"
   ]
  },
  {
   "cell_type": "code",
   "execution_count": 143,
   "id": "e97dbc13-205a-4166-8b79-7f1dc1efc70b",
   "metadata": {},
   "outputs": [
    {
     "data": {
      "text/plain": [
       "[<matplotlib.lines.Line2D at 0x28ec01b20>]"
      ]
     },
     "execution_count": 143,
     "metadata": {},
     "output_type": "execute_result"
    },
    {
     "data": {
      "image/png": "[encoded data removed]",
      "text/plain": [
       "<Figure size 432x288 with 1 Axes>"
      ]
     },
     "metadata": {
      "needs_background": "light"
     },
     "output_type": "display_data"
    }
   ],
   "source": [
    "data['delta_mid'] = py_vollib_vectorized.greeks.delta(option_type, data['close_spot'], strike,data['days_to_expiry']/365, r, data[ 'ivol_mid'])\n",
    "plt.plot(data['delta_mid'])"
   ]
  },
  {
   "cell_type": "markdown",
   "id": "bf91d557-17a4-490d-8467-74d30f44ce0c",
   "metadata": {},
   "source": [
    "#### 4)c) PnL"
   ]
  },
  {
   "cell_type": "code",
   "execution_count": 144,
   "id": "46c39d6b-dc3a-447b-8ee3-0448d5c81b2d",
   "metadata": {},
   "outputs": [],
   "source": [
    "data['daily_pnl_option'] = data['close_option_usd'].diff() * qty * mult\n",
    "data[\"daily_pnl_spot\"] = data['close_spot'].diff() * data['delta_mid'].shift() * qty * mult\n",
    "ts = data['daily_pnl_option'] - data[\"daily_pnl_spot\"] * is_delta_hedged\n",
    "data['pnl'] = ts.cumsum()"
   ]
  },
  {
   "cell_type": "code",
   "execution_count": 145,
   "id": "af81d932-de6b-4fb2-8405-1214fff88edf",
   "metadata": {},
   "outputs": [
    {
     "data": {
      "text/plain": [
       "[<matplotlib.lines.Line2D at 0x28fa904c0>]"
      ]
     },
     "execution_count": 145,
     "metadata": {},
     "output_type": "execute_result"
    },
    {
     "data": {
      "image/png": "[encoded data removed]",
      "text/plain": [
       "<Figure size 432x288 with 1 Axes>"
      ]
     },
     "metadata": {
      "needs_background": "light"
     },
     "output_type": "display_data"
    }
   ],
   "source": [
    "plt.plot(data['daily_pnl_option'])"
   ]
  },
  {
   "cell_type": "code",
   "execution_count": 146,
   "id": "a35d1b52",
   "metadata": {},
   "outputs": [
    {
     "data": {
      "image/png": "[encoded data removed]",
      "text/plain": [
       "<Figure size 432x288 with 1 Axes>"
      ]
     },
     "metadata": {
      "needs_background": "light"
     },
     "output_type": "display_data"
    }
   ],
   "source": [
    "plt.plot(data['timestamp'],data['pnl']);"
   ]
  },
  {
   "cell_type": "code",
   "execution_count": 147,
   "id": "7e204806-c2cd-4531-ad4f-696a824b6fac",
   "metadata": {},
   "outputs": [
    {
     "data": {
      "text/plain": [
       "[<matplotlib.lines.Line2D at 0x28ed0b9a0>]"
      ]
     },
     "execution_count": 147,
     "metadata": {},
     "output_type": "execute_result"
    },
    {
     "data": {
      "image/png": "[encoded data removed]",
      "text/plain": [
       "<Figure size 432x288 with 1 Axes>"
      ]
     },
     "metadata": {
      "needs_background": "light"
     },
     "output_type": "display_data"
    }
   ],
   "source": [
    "plt.plot(data[\"daily_pnl_spot\"])"
   ]
  }
 ],
 "metadata": {
  "kernelspec": {
   "display_name": "Python 3 (ipykernel)",
   "language": "python",
   "name": "python3"
  },
  "language_info": {
   "codemirror_mode": {
    "name": "ipython",
    "version": 3
   },
   "file_extension": ".py",
   "mimetype": "text/x-python",
   "name": "python",
   "nbconvert_exporter": "python",
   "pygments_lexer": "ipython3",
   "version": "3.8.12"
  }
 },
 "nbformat": 4,
 "nbformat_minor": 5
}
